{
  "cells": [
    {
      "cell_type": "code",
      "source": [
        "# 1. Import thư viện cần thiết\n",
        "from google.colab import drive\n",
        "drive.mount('/content/drive')\n",
        "import numpy as np\n",
        "import os\n",
        "import pandas as pd\n",
        "import matplotlib.pyplot as plt\n",
        "from sklearn.preprocessing import MinMaxScaler\n",
        "from sklearn.metrics import mean_squared_error, mean_absolute_percentage_error\n",
        "\n",
        "from keras.models import Sequential\n",
        "from keras.layers import Dense, SimpleRNN"
      ],
      "metadata": {
        "id": "FMDKda-XIUAK",
        "colab": {
          "base_uri": "https://localhost:8080/"
        },
        "outputId": "cf62e53d-9031-4b56-8571-af89bc6bbfff"
      },
      "execution_count": null,
      "outputs": [
        {
          "output_type": "stream",
          "name": "stdout",
          "text": [
            "Drive already mounted at /content/drive; to attempt to forcibly remount, call drive.mount(\"/content/drive\", force_remount=True).\n"
          ]
        }
      ]
    },
    {
      "cell_type": "code",
      "source": [
        "def getRawData(token_id):\n",
        "  raw_data_file=f\"{tokens[token_id]}.csv\"\n",
        "  df = pd.read_csv(data_path + raw_data_file,  index_col=\"Date\")\n",
        "  colsFeature = [\"Price\"]\n",
        "  df_target = df[colsFeature]\n",
        "  return df, df_target\n",
        "\n",
        "#Hàm Create Dataset\n",
        "import numpy\n",
        "# convert an array of values into a dataset matrix\n",
        "def create_dataset(dataset, time_step=1):\n",
        "\tdataX, dataY = [], []\n",
        "\tfor i in range(len(dataset)-time_step-1):\n",
        "\t\ta = dataset[i:(i+time_step), 0]   ###i=0, X=0,1,2,3-----99   Y=100\n",
        "\t\tdataX.append(a)\n",
        "\t\tdataY.append(dataset[i + time_step, 0])\n",
        "\treturn numpy.array(dataX), numpy.array(dataY)"
      ],
      "metadata": {
        "id": "LdA7zv16jC1W"
      },
      "execution_count": null,
      "outputs": []
    },
    {
      "cell_type": "code",
      "source": [
        "# 2. Đọc file csv và gắng index với giá Close\n",
        "tokens = [\"BIDV_BID\", \"FPT\", \"VCG\"]\n",
        "\n",
        "prj_path = \"/content/drive/My Drive/BDA_report/\"\n",
        "data_path = os.path.join(prj_path, \"data/\")\n"
      ],
      "metadata": {
        "id": "HucmmnGtgnuK"
      },
      "execution_count": null,
      "outputs": []
    },
    {
      "cell_type": "markdown",
      "source": [
        "# BIDV"
      ],
      "metadata": {
        "id": "6hB2rq0DhIhV"
      }
    },
    {
      "cell_type": "markdown",
      "source": [
        "7:3"
      ],
      "metadata": {
        "id": "iDD-amDDhLnj"
      }
    },
    {
      "cell_type": "code",
      "source": [
        "df, df1 = getRawData(0)"
      ],
      "metadata": {
        "id": "AR6_7lNX473r"
      },
      "execution_count": null,
      "outputs": []
    },
    {
      "cell_type": "code",
      "source": [
        "# 3. Scaler data\n",
        "scaler=MinMaxScaler(feature_range=(0,1))\n",
        "df1=scaler.fit_transform(np.array(df1).reshape(-1,1))"
      ],
      "metadata": {
        "id": "RdVpDho2JgL5"
      },
      "execution_count": null,
      "outputs": []
    },
    {
      "cell_type": "code",
      "source": [
        "# 4. Chia train test\n",
        "train_size = int(0.7 * len(df1))\n",
        "test_size = len(df1) - train_size\n",
        "\n",
        "train_data = df1[:train_size]\n",
        "test_data = df1[train_size:train_size+test_size]"
      ],
      "metadata": {
        "id": "B5JXpenzJoR3"
      },
      "execution_count": null,
      "outputs": []
    },
    {
      "cell_type": "code",
      "source": [
        "#6. Reshape into X=t,t+1,t+2..t+99 and Y=t+100\n",
        "\n",
        "time_step = 100\n",
        "X_train, y_train = create_dataset(train_data, time_step)\n",
        "X_test, ytest = create_dataset(test_data, time_step)"
      ],
      "metadata": {
        "id": "e81cKq03LXFB"
      },
      "execution_count": null,
      "outputs": []
    },
    {
      "cell_type": "code",
      "source": [
        "# 7. Reshape input to be [samples, time steps, features] which is required for LSTM\n",
        "X_train =X_train.reshape(X_train.shape[0],X_train.shape[1] , 1)\n",
        "X_test = X_test.reshape(X_test.shape[0],X_test.shape[1] , 1)"
      ],
      "metadata": {
        "id": "RdBVfku7O2qb"
      },
      "execution_count": null,
      "outputs": []
    },
    {
      "cell_type": "code",
      "source": [
        "# 8. Define LSTM Model\n",
        "\n",
        "model = Sequential()\n",
        "model.add(SimpleRNN(50, input_shape=(time_step, 1)))\n",
        "model.add(Dense(1))\n",
        "model.compile(loss='mean_squared_error',optimizer='adam')"
      ],
      "metadata": {
        "id": "sSfxrE7BO9vX"
      },
      "execution_count": null,
      "outputs": []
    },
    {
      "cell_type": "code",
      "source": [
        "# 9. Fit mô hình với dữ liệu train\n",
        "model.fit(X_train,y_train,epochs=100,batch_size=64,verbose=1)"
      ],
      "metadata": {
        "colab": {
          "base_uri": "https://localhost:8080/"
        },
        "id": "zgfeujZSPEKr",
        "outputId": "fd15871a-670b-4679-ee82-63cd276100f2"
      },
      "execution_count": null,
      "outputs": [
        {
          "output_type": "stream",
          "name": "stdout",
          "text": [
            "Epoch 1/100\n",
            "16/16 [==============================] - 3s 32ms/step - loss: 0.0380\n",
            "Epoch 2/100\n",
            "16/16 [==============================] - 0s 31ms/step - loss: 0.0024\n",
            "Epoch 3/100\n",
            "16/16 [==============================] - 1s 36ms/step - loss: 0.0014\n",
            "Epoch 4/100\n",
            "16/16 [==============================] - 0s 29ms/step - loss: 0.0011\n",
            "Epoch 5/100\n",
            "16/16 [==============================] - 0s 28ms/step - loss: 9.8030e-04\n",
            "Epoch 6/100\n",
            "16/16 [==============================] - 0s 24ms/step - loss: 9.1034e-04\n",
            "Epoch 7/100\n",
            "16/16 [==============================] - 0s 27ms/step - loss: 8.7042e-04\n",
            "Epoch 8/100\n",
            "16/16 [==============================] - 0s 28ms/step - loss: 8.1824e-04\n",
            "Epoch 9/100\n",
            "16/16 [==============================] - 1s 32ms/step - loss: 7.9257e-04\n",
            "Epoch 10/100\n",
            "16/16 [==============================] - 0s 30ms/step - loss: 7.7487e-04\n",
            "Epoch 11/100\n",
            "16/16 [==============================] - 0s 25ms/step - loss: 7.5049e-04\n",
            "Epoch 12/100\n",
            "16/16 [==============================] - 0s 22ms/step - loss: 7.3727e-04\n",
            "Epoch 13/100\n",
            "16/16 [==============================] - 0s 27ms/step - loss: 7.2015e-04\n",
            "Epoch 14/100\n",
            "16/16 [==============================] - 0s 23ms/step - loss: 7.0175e-04\n",
            "Epoch 15/100\n",
            "16/16 [==============================] - 0s 23ms/step - loss: 7.1548e-04\n",
            "Epoch 16/100\n",
            "16/16 [==============================] - 0s 22ms/step - loss: 7.2448e-04\n",
            "Epoch 17/100\n",
            "16/16 [==============================] - 0s 23ms/step - loss: 6.9536e-04\n",
            "Epoch 18/100\n",
            "16/16 [==============================] - 0s 29ms/step - loss: 7.2881e-04\n",
            "Epoch 19/100\n",
            "16/16 [==============================] - 0s 22ms/step - loss: 6.7555e-04\n",
            "Epoch 20/100\n",
            "16/16 [==============================] - 0s 30ms/step - loss: 6.5614e-04\n",
            "Epoch 21/100\n",
            "16/16 [==============================] - 0s 26ms/step - loss: 6.2369e-04\n",
            "Epoch 22/100\n",
            "16/16 [==============================] - 0s 22ms/step - loss: 6.1204e-04\n",
            "Epoch 23/100\n",
            "16/16 [==============================] - 0s 24ms/step - loss: 6.2117e-04\n",
            "Epoch 24/100\n",
            "16/16 [==============================] - 0s 26ms/step - loss: 5.9369e-04\n",
            "Epoch 25/100\n",
            "16/16 [==============================] - 0s 24ms/step - loss: 5.8474e-04\n",
            "Epoch 26/100\n",
            "16/16 [==============================] - 0s 24ms/step - loss: 6.0790e-04\n",
            "Epoch 27/100\n",
            "16/16 [==============================] - 1s 34ms/step - loss: 6.3057e-04\n",
            "Epoch 28/100\n",
            "16/16 [==============================] - 1s 30ms/step - loss: 6.0823e-04\n",
            "Epoch 29/100\n",
            "16/16 [==============================] - 1s 42ms/step - loss: 6.2445e-04\n",
            "Epoch 30/100\n",
            "16/16 [==============================] - 1s 32ms/step - loss: 5.5901e-04\n",
            "Epoch 31/100\n",
            "16/16 [==============================] - 1s 34ms/step - loss: 5.5094e-04\n",
            "Epoch 32/100\n",
            "16/16 [==============================] - 1s 32ms/step - loss: 5.4963e-04\n",
            "Epoch 33/100\n",
            "16/16 [==============================] - 0s 20ms/step - loss: 5.5519e-04\n",
            "Epoch 34/100\n",
            "16/16 [==============================] - 0s 20ms/step - loss: 5.5856e-04\n",
            "Epoch 35/100\n",
            "16/16 [==============================] - 0s 21ms/step - loss: 5.7324e-04\n",
            "Epoch 36/100\n",
            "16/16 [==============================] - 0s 17ms/step - loss: 5.8682e-04\n",
            "Epoch 37/100\n",
            "16/16 [==============================] - 0s 12ms/step - loss: 5.5499e-04\n",
            "Epoch 38/100\n",
            "16/16 [==============================] - 0s 12ms/step - loss: 5.2058e-04\n",
            "Epoch 39/100\n",
            "16/16 [==============================] - 0s 12ms/step - loss: 5.4779e-04\n",
            "Epoch 40/100\n",
            "16/16 [==============================] - 0s 12ms/step - loss: 5.6772e-04\n",
            "Epoch 41/100\n",
            "16/16 [==============================] - 0s 12ms/step - loss: 5.1868e-04\n",
            "Epoch 42/100\n",
            "16/16 [==============================] - 0s 12ms/step - loss: 5.0898e-04\n",
            "Epoch 43/100\n",
            "16/16 [==============================] - 0s 12ms/step - loss: 4.9254e-04\n",
            "Epoch 44/100\n",
            "16/16 [==============================] - 0s 12ms/step - loss: 4.9867e-04\n",
            "Epoch 45/100\n",
            "16/16 [==============================] - 0s 12ms/step - loss: 4.9498e-04\n",
            "Epoch 46/100\n",
            "16/16 [==============================] - 0s 12ms/step - loss: 5.0913e-04\n",
            "Epoch 47/100\n",
            "16/16 [==============================] - 0s 12ms/step - loss: 4.9963e-04\n",
            "Epoch 48/100\n",
            "16/16 [==============================] - 0s 12ms/step - loss: 4.7986e-04\n",
            "Epoch 49/100\n",
            "16/16 [==============================] - 0s 11ms/step - loss: 4.7853e-04\n",
            "Epoch 50/100\n",
            "16/16 [==============================] - 0s 12ms/step - loss: 4.8332e-04\n",
            "Epoch 51/100\n",
            "16/16 [==============================] - 0s 12ms/step - loss: 5.0514e-04\n",
            "Epoch 52/100\n",
            "16/16 [==============================] - 0s 12ms/step - loss: 4.7735e-04\n",
            "Epoch 53/100\n",
            "16/16 [==============================] - 0s 12ms/step - loss: 4.8493e-04\n",
            "Epoch 54/100\n",
            "16/16 [==============================] - 0s 12ms/step - loss: 5.4091e-04\n",
            "Epoch 55/100\n",
            "16/16 [==============================] - 0s 12ms/step - loss: 5.1881e-04\n",
            "Epoch 56/100\n",
            "16/16 [==============================] - 0s 12ms/step - loss: 5.0332e-04\n",
            "Epoch 57/100\n",
            "16/16 [==============================] - 0s 12ms/step - loss: 4.9822e-04\n",
            "Epoch 58/100\n",
            "16/16 [==============================] - 0s 12ms/step - loss: 5.2171e-04\n",
            "Epoch 59/100\n",
            "16/16 [==============================] - 0s 12ms/step - loss: 5.1480e-04\n",
            "Epoch 60/100\n",
            "16/16 [==============================] - 0s 12ms/step - loss: 6.0938e-04\n",
            "Epoch 61/100\n",
            "16/16 [==============================] - 0s 12ms/step - loss: 6.3141e-04\n",
            "Epoch 62/100\n",
            "16/16 [==============================] - 0s 12ms/step - loss: 4.5599e-04\n",
            "Epoch 63/100\n",
            "16/16 [==============================] - 0s 12ms/step - loss: 4.5519e-04\n",
            "Epoch 64/100\n",
            "16/16 [==============================] - 0s 12ms/step - loss: 4.5884e-04\n",
            "Epoch 65/100\n",
            "16/16 [==============================] - 0s 12ms/step - loss: 4.6403e-04\n",
            "Epoch 66/100\n",
            "16/16 [==============================] - 0s 12ms/step - loss: 4.5059e-04\n",
            "Epoch 67/100\n",
            "16/16 [==============================] - 0s 13ms/step - loss: 5.1006e-04\n",
            "Epoch 68/100\n",
            "16/16 [==============================] - 0s 12ms/step - loss: 4.8767e-04\n",
            "Epoch 69/100\n",
            "16/16 [==============================] - 0s 13ms/step - loss: 4.4862e-04\n",
            "Epoch 70/100\n",
            "16/16 [==============================] - 0s 12ms/step - loss: 4.4207e-04\n",
            "Epoch 71/100\n",
            "16/16 [==============================] - 0s 12ms/step - loss: 4.6261e-04\n",
            "Epoch 72/100\n",
            "16/16 [==============================] - 0s 12ms/step - loss: 4.5747e-04\n",
            "Epoch 73/100\n",
            "16/16 [==============================] - 0s 12ms/step - loss: 4.3787e-04\n",
            "Epoch 74/100\n",
            "16/16 [==============================] - 0s 12ms/step - loss: 4.4463e-04\n",
            "Epoch 75/100\n",
            "16/16 [==============================] - 0s 12ms/step - loss: 4.5411e-04\n",
            "Epoch 76/100\n",
            "16/16 [==============================] - 0s 12ms/step - loss: 4.4649e-04\n",
            "Epoch 77/100\n",
            "16/16 [==============================] - 0s 12ms/step - loss: 4.6035e-04\n",
            "Epoch 78/100\n",
            "16/16 [==============================] - 0s 11ms/step - loss: 4.2373e-04\n",
            "Epoch 79/100\n",
            "16/16 [==============================] - 0s 12ms/step - loss: 4.2509e-04\n",
            "Epoch 80/100\n",
            "16/16 [==============================] - 0s 12ms/step - loss: 4.2123e-04\n",
            "Epoch 81/100\n",
            "16/16 [==============================] - 0s 11ms/step - loss: 4.1539e-04\n",
            "Epoch 82/100\n",
            "16/16 [==============================] - 0s 13ms/step - loss: 4.2334e-04\n",
            "Epoch 83/100\n",
            "16/16 [==============================] - 0s 12ms/step - loss: 4.7760e-04\n",
            "Epoch 84/100\n",
            "16/16 [==============================] - 0s 12ms/step - loss: 4.2060e-04\n",
            "Epoch 85/100\n",
            "16/16 [==============================] - 0s 12ms/step - loss: 4.1383e-04\n",
            "Epoch 86/100\n",
            "16/16 [==============================] - 0s 14ms/step - loss: 4.3015e-04\n",
            "Epoch 87/100\n",
            "16/16 [==============================] - 0s 18ms/step - loss: 4.1096e-04\n",
            "Epoch 88/100\n",
            "16/16 [==============================] - 0s 20ms/step - loss: 4.2442e-04\n",
            "Epoch 89/100\n",
            "16/16 [==============================] - 0s 20ms/step - loss: 4.0443e-04\n",
            "Epoch 90/100\n",
            "16/16 [==============================] - 0s 21ms/step - loss: 4.1758e-04\n",
            "Epoch 91/100\n",
            "16/16 [==============================] - 0s 21ms/step - loss: 4.1238e-04\n",
            "Epoch 92/100\n",
            "16/16 [==============================] - 0s 20ms/step - loss: 4.2338e-04\n",
            "Epoch 93/100\n",
            "16/16 [==============================] - 0s 20ms/step - loss: 4.0271e-04\n",
            "Epoch 94/100\n",
            "16/16 [==============================] - 0s 21ms/step - loss: 4.1556e-04\n",
            "Epoch 95/100\n",
            "16/16 [==============================] - 0s 22ms/step - loss: 4.0376e-04\n",
            "Epoch 96/100\n",
            "16/16 [==============================] - 0s 18ms/step - loss: 4.0198e-04\n",
            "Epoch 97/100\n",
            "16/16 [==============================] - 0s 12ms/step - loss: 4.0402e-04\n",
            "Epoch 98/100\n",
            "16/16 [==============================] - 0s 13ms/step - loss: 4.3216e-04\n",
            "Epoch 99/100\n",
            "16/16 [==============================] - 0s 13ms/step - loss: 4.0053e-04\n",
            "Epoch 100/100\n",
            "16/16 [==============================] - 0s 12ms/step - loss: 3.9175e-04\n"
          ]
        },
        {
          "output_type": "execute_result",
          "data": {
            "text/plain": [
              "<keras.callbacks.History at 0x7f995a6cd2d0>"
            ]
          },
          "metadata": {},
          "execution_count": 10
        }
      ]
    },
    {
      "cell_type": "code",
      "source": [
        "# 10. Dự báo dữ liệu test, val\n",
        "train_predict=model.predict(X_train)\n",
        "y_pred=model.predict(X_test)\n"
      ],
      "metadata": {
        "colab": {
          "base_uri": "https://localhost:8080/"
        },
        "id": "Rxx_KQSkQpBG",
        "outputId": "9d426438-e546-422b-f8bb-3148bb60c7f1"
      },
      "execution_count": null,
      "outputs": [
        {
          "output_type": "stream",
          "name": "stdout",
          "text": [
            "32/32 [==============================] - 0s 4ms/step\n",
            "12/12 [==============================] - 0s 4ms/step\n"
          ]
        }
      ]
    },
    {
      "cell_type": "code",
      "source": [
        "# 11. Chuẩn hóa dữ liệu y_pred, y_pred_val\n",
        "train_predict=scaler.inverse_transform(train_predict)\n",
        "y_pred=scaler.inverse_transform(y_pred)\n"
      ],
      "metadata": {
        "id": "5rwTN10LQ7rj"
      },
      "execution_count": null,
      "outputs": []
    },
    {
      "cell_type": "code",
      "source": [
        "# 12. Đánh giá độ chính xác thuật toán bằng RMSE\n",
        "test_rmse = np.sqrt(np.mean((y_pred - ytest)**2))\n",
        "test_mape= mean_absolute_percentage_error(y_pred,ytest)\n",
        "print('Testing RMSE:', test_rmse)\n",
        "print('Testing MAPE:', test_mape)"
      ],
      "metadata": {
        "colab": {
          "base_uri": "https://localhost:8080/"
        },
        "id": "wu_9j94kRonD",
        "outputId": "50231603-6dce-49f1-dc01-2da7cd7e05bf"
      },
      "execution_count": null,
      "outputs": [
        {
          "output_type": "stream",
          "name": "stdout",
          "text": [
            "Testing RMSE: 39633.10101992516\n",
            "Testing MAPE: 0.9999811127768432\n"
          ]
        }
      ]
    },
    {
      "cell_type": "code",
      "source": [
        "# 14.Vẽ hình\n",
        "train_data_index = pd.RangeIndex(start=0, stop=train_size, step=1)\n",
        "plt.plot(scaler.inverse_transform(train_data))\n",
        "test_data_index = pd.RangeIndex(start=train_size, stop=train_size+test_size, step=1)\n",
        "plt.plot(test_data_index,scaler.inverse_transform(test_data))\n",
        "test_data_index = pd.RangeIndex(start=train_size+101, stop=train_size+test_size, step=1)\n",
        "plt.plot(test_data_index,(y_pred))\n",
        "\n",
        "\n",
        "plt.legend(['Train','Test','Predict'])\n",
        "plt.show()"
      ],
      "metadata": {
        "colab": {
          "base_uri": "https://localhost:8080/"
        },
        "outputId": "12682a78-e38a-4986-870a-8698d8aa0764",
        "id": "P0Uh5QBiaD-w"
      },
      "execution_count": null,
      "outputs": [
        {
          "output_type": "display_data",
          "data": {
            "text/plain": [
              "<Figure size 640x480 with 1 Axes>"
            ],
            "image/png": "[encoded data removed]"
          },
          "metadata": {}
        }
      ]
    },
    {
      "cell_type": "markdown",
      "source": [
        "8:2"
      ],
      "metadata": {
        "id": "Z7r09TR6hfzw"
      }
    },
    {
      "cell_type": "code",
      "source": [
        "# 3. Scaler data\n",
        "scaler=MinMaxScaler(feature_range=(0,1))\n",
        "df1=scaler.fit_transform(np.array(df1).reshape(-1,1))"
      ],
      "metadata": {
        "id": "4QFIKBHBhfzw"
      },
      "execution_count": null,
      "outputs": []
    },
    {
      "cell_type": "code",
      "source": [
        "# 4. Chia train test\n",
        "train_size = int(0.8 * len(df1))\n",
        "test_size = len(df1) - train_size\n",
        "\n",
        "train_data = df1[:train_size]\n",
        "test_data = df1[train_size:train_size+test_size]"
      ],
      "metadata": {
        "id": "IUhYeqc7hfzw"
      },
      "execution_count": null,
      "outputs": []
    },
    {
      "cell_type": "code",
      "source": [
        "#6. Reshape into X=t,t+1,t+2..t+99 and Y=t+100\n",
        "\n",
        "time_step = 100\n",
        "X_train, y_train = create_dataset(train_data, time_step)\n",
        "X_test, ytest = create_dataset(test_data, time_step)"
      ],
      "metadata": {
        "id": "yi0Lzi_Fhfzw"
      },
      "execution_count": null,
      "outputs": []
    },
    {
      "cell_type": "code",
      "source": [
        "# 7. Reshape input to be [samples, time steps, features] which is required for LSTM\n",
        "X_train =X_train.reshape(X_train.shape[0],X_train.shape[1] , 1)\n",
        "X_test = X_test.reshape(X_test.shape[0],X_test.shape[1] , 1)"
      ],
      "metadata": {
        "id": "Gw5HhHFwhfzx"
      },
      "execution_count": null,
      "outputs": []
    },
    {
      "cell_type": "code",
      "source": [
        "# 8. Define LSTM Model\n",
        "\n",
        "model = Sequential()\n",
        "model.add(SimpleRNN(50, input_shape=(time_step, 1)))\n",
        "model.add(Dense(1))\n",
        "model.compile(loss='mean_squared_error',optimizer='adam')"
      ],
      "metadata": {
        "id": "KHx2TfJahfzx"
      },
      "execution_count": null,
      "outputs": []
    },
    {
      "cell_type": "code",
      "source": [
        "# 9. Fit mô hình với dữ liệu train\n",
        "model.fit(X_train,y_train,epochs=100,batch_size=64,verbose=1)"
      ],
      "metadata": {
        "colab": {
          "base_uri": "https://localhost:8080/"
        },
        "outputId": "5019df84-fdf6-44ed-d2ba-79672348877e",
        "id": "8TN6YgDIhfzx"
      },
      "execution_count": null,
      "outputs": [
        {
          "output_type": "stream",
          "name": "stdout",
          "text": [
            "Epoch 1/100\n",
            "19/19 [==============================] - 1s 13ms/step - loss: 0.0077\n",
            "Epoch 2/100\n",
            "19/19 [==============================] - 0s 13ms/step - loss: 0.0013\n",
            "Epoch 3/100\n",
            "19/19 [==============================] - 0s 13ms/step - loss: 7.5450e-04\n",
            "Epoch 4/100\n",
            "19/19 [==============================] - 0s 12ms/step - loss: 6.8271e-04\n",
            "Epoch 5/100\n",
            "19/19 [==============================] - 0s 12ms/step - loss: 6.0275e-04\n",
            "Epoch 6/100\n",
            "19/19 [==============================] - 0s 12ms/step - loss: 5.8225e-04\n",
            "Epoch 7/100\n",
            "19/19 [==============================] - 0s 12ms/step - loss: 5.5134e-04\n",
            "Epoch 8/100\n",
            "19/19 [==============================] - 0s 12ms/step - loss: 5.2099e-04\n",
            "Epoch 9/100\n",
            "19/19 [==============================] - 0s 11ms/step - loss: 5.2092e-04\n",
            "Epoch 10/100\n",
            "19/19 [==============================] - 0s 13ms/step - loss: 4.8720e-04\n",
            "Epoch 11/100\n",
            "19/19 [==============================] - 0s 11ms/step - loss: 5.2077e-04\n",
            "Epoch 12/100\n",
            "19/19 [==============================] - 0s 11ms/step - loss: 4.9765e-04\n",
            "Epoch 13/100\n",
            "19/19 [==============================] - 0s 11ms/step - loss: 5.7170e-04\n",
            "Epoch 14/100\n",
            "19/19 [==============================] - 0s 11ms/step - loss: 4.7819e-04\n",
            "Epoch 15/100\n",
            "19/19 [==============================] - 0s 12ms/step - loss: 4.8492e-04\n",
            "Epoch 16/100\n",
            "19/19 [==============================] - 0s 12ms/step - loss: 4.6308e-04\n",
            "Epoch 17/100\n",
            "19/19 [==============================] - 0s 13ms/step - loss: 4.3641e-04\n",
            "Epoch 18/100\n",
            "19/19 [==============================] - 0s 13ms/step - loss: 4.2714e-04\n",
            "Epoch 19/100\n",
            "19/19 [==============================] - 0s 12ms/step - loss: 4.4232e-04\n",
            "Epoch 20/100\n",
            "19/19 [==============================] - 0s 13ms/step - loss: 4.2902e-04\n",
            "Epoch 21/100\n",
            "19/19 [==============================] - 0s 12ms/step - loss: 4.2214e-04\n",
            "Epoch 22/100\n",
            "19/19 [==============================] - 0s 12ms/step - loss: 4.2263e-04\n",
            "Epoch 23/100\n",
            "19/19 [==============================] - 0s 12ms/step - loss: 4.0298e-04\n",
            "Epoch 24/100\n",
            "19/19 [==============================] - 0s 11ms/step - loss: 4.0912e-04\n",
            "Epoch 25/100\n",
            "19/19 [==============================] - 0s 12ms/step - loss: 4.1445e-04\n",
            "Epoch 26/100\n",
            "19/19 [==============================] - 0s 13ms/step - loss: 3.9801e-04\n",
            "Epoch 27/100\n",
            "19/19 [==============================] - 0s 12ms/step - loss: 4.0154e-04\n",
            "Epoch 28/100\n",
            "19/19 [==============================] - 0s 12ms/step - loss: 4.0158e-04\n",
            "Epoch 29/100\n",
            "19/19 [==============================] - 0s 11ms/step - loss: 3.9226e-04\n",
            "Epoch 30/100\n",
            "19/19 [==============================] - 0s 13ms/step - loss: 4.2373e-04\n",
            "Epoch 31/100\n",
            "19/19 [==============================] - 0s 12ms/step - loss: 4.3560e-04\n",
            "Epoch 32/100\n",
            "19/19 [==============================] - 0s 19ms/step - loss: 3.8376e-04\n",
            "Epoch 33/100\n",
            "19/19 [==============================] - 0s 19ms/step - loss: 4.2543e-04\n",
            "Epoch 34/100\n",
            "19/19 [==============================] - 0s 19ms/step - loss: 4.6166e-04\n",
            "Epoch 35/100\n",
            "19/19 [==============================] - 0s 20ms/step - loss: 3.8977e-04\n",
            "Epoch 36/100\n",
            "19/19 [==============================] - 0s 19ms/step - loss: 3.8211e-04\n",
            "Epoch 37/100\n",
            "19/19 [==============================] - 0s 20ms/step - loss: 3.9066e-04\n",
            "Epoch 38/100\n",
            "19/19 [==============================] - 0s 19ms/step - loss: 3.9403e-04\n",
            "Epoch 39/100\n",
            "19/19 [==============================] - 0s 22ms/step - loss: 4.3464e-04\n",
            "Epoch 40/100\n",
            "19/19 [==============================] - 0s 13ms/step - loss: 4.2694e-04\n",
            "Epoch 41/100\n",
            "19/19 [==============================] - 0s 12ms/step - loss: 3.9357e-04\n",
            "Epoch 42/100\n",
            "19/19 [==============================] - 0s 12ms/step - loss: 4.1136e-04\n",
            "Epoch 43/100\n",
            "19/19 [==============================] - 0s 12ms/step - loss: 4.0525e-04\n",
            "Epoch 44/100\n",
            "19/19 [==============================] - 0s 11ms/step - loss: 3.5917e-04\n",
            "Epoch 45/100\n",
            "19/19 [==============================] - 0s 12ms/step - loss: 3.7707e-04\n",
            "Epoch 46/100\n",
            "19/19 [==============================] - 0s 12ms/step - loss: 3.6324e-04\n",
            "Epoch 47/100\n",
            "19/19 [==============================] - 0s 12ms/step - loss: 3.6294e-04\n",
            "Epoch 48/100\n",
            "19/19 [==============================] - 0s 12ms/step - loss: 3.6956e-04\n",
            "Epoch 49/100\n",
            "19/19 [==============================] - 0s 12ms/step - loss: 4.1003e-04\n",
            "Epoch 50/100\n",
            "19/19 [==============================] - 0s 11ms/step - loss: 3.5447e-04\n",
            "Epoch 51/100\n",
            "19/19 [==============================] - 0s 12ms/step - loss: 3.6892e-04\n",
            "Epoch 52/100\n",
            "19/19 [==============================] - 0s 11ms/step - loss: 3.6017e-04\n",
            "Epoch 53/100\n",
            "19/19 [==============================] - 0s 11ms/step - loss: 4.3927e-04\n",
            "Epoch 54/100\n",
            "19/19 [==============================] - 0s 11ms/step - loss: 3.9462e-04\n",
            "Epoch 55/100\n",
            "19/19 [==============================] - 0s 11ms/step - loss: 4.0098e-04\n",
            "Epoch 56/100\n",
            "19/19 [==============================] - 0s 12ms/step - loss: 4.6272e-04\n",
            "Epoch 57/100\n",
            "19/19 [==============================] - 0s 12ms/step - loss: 3.6132e-04\n",
            "Epoch 58/100\n",
            "19/19 [==============================] - 0s 12ms/step - loss: 3.5161e-04\n",
            "Epoch 59/100\n",
            "19/19 [==============================] - 0s 12ms/step - loss: 3.6395e-04\n",
            "Epoch 60/100\n",
            "19/19 [==============================] - 0s 11ms/step - loss: 3.4528e-04\n",
            "Epoch 61/100\n",
            "19/19 [==============================] - 0s 12ms/step - loss: 3.4893e-04\n",
            "Epoch 62/100\n",
            "19/19 [==============================] - 0s 11ms/step - loss: 3.5692e-04\n",
            "Epoch 63/100\n",
            "19/19 [==============================] - 0s 12ms/step - loss: 3.5636e-04\n",
            "Epoch 64/100\n",
            "19/19 [==============================] - 0s 12ms/step - loss: 3.7466e-04\n",
            "Epoch 65/100\n",
            "19/19 [==============================] - 0s 12ms/step - loss: 3.9484e-04\n",
            "Epoch 66/100\n",
            "19/19 [==============================] - 0s 12ms/step - loss: 3.5770e-04\n",
            "Epoch 67/100\n",
            "19/19 [==============================] - 0s 11ms/step - loss: 3.5135e-04\n",
            "Epoch 68/100\n",
            "19/19 [==============================] - 0s 11ms/step - loss: 3.4815e-04\n",
            "Epoch 69/100\n",
            "19/19 [==============================] - 0s 11ms/step - loss: 3.4077e-04\n",
            "Epoch 70/100\n",
            "19/19 [==============================] - 0s 11ms/step - loss: 3.5398e-04\n",
            "Epoch 71/100\n",
            "19/19 [==============================] - 0s 12ms/step - loss: 3.5216e-04\n",
            "Epoch 72/100\n",
            "19/19 [==============================] - 0s 11ms/step - loss: 4.0461e-04\n",
            "Epoch 73/100\n",
            "19/19 [==============================] - 0s 12ms/step - loss: 3.4897e-04\n",
            "Epoch 74/100\n",
            "19/19 [==============================] - 0s 12ms/step - loss: 3.4124e-04\n",
            "Epoch 75/100\n",
            "19/19 [==============================] - 0s 12ms/step - loss: 3.4800e-04\n",
            "Epoch 76/100\n",
            "19/19 [==============================] - 0s 11ms/step - loss: 3.3878e-04\n",
            "Epoch 77/100\n",
            "19/19 [==============================] - 0s 12ms/step - loss: 3.5149e-04\n",
            "Epoch 78/100\n",
            "19/19 [==============================] - 0s 12ms/step - loss: 3.8091e-04\n",
            "Epoch 79/100\n",
            "19/19 [==============================] - 0s 12ms/step - loss: 3.9506e-04\n",
            "Epoch 80/100\n",
            "19/19 [==============================] - 0s 11ms/step - loss: 3.4860e-04\n",
            "Epoch 81/100\n",
            "19/19 [==============================] - 0s 12ms/step - loss: 3.4502e-04\n",
            "Epoch 82/100\n",
            "19/19 [==============================] - 0s 12ms/step - loss: 3.3790e-04\n",
            "Epoch 83/100\n",
            "19/19 [==============================] - 0s 12ms/step - loss: 3.3801e-04\n",
            "Epoch 84/100\n",
            "19/19 [==============================] - 0s 19ms/step - loss: 3.3728e-04\n",
            "Epoch 85/100\n",
            "19/19 [==============================] - 0s 19ms/step - loss: 3.5038e-04\n",
            "Epoch 86/100\n",
            "19/19 [==============================] - 0s 18ms/step - loss: 3.3902e-04\n",
            "Epoch 87/100\n",
            "19/19 [==============================] - 0s 21ms/step - loss: 3.3867e-04\n",
            "Epoch 88/100\n",
            "19/19 [==============================] - 0s 20ms/step - loss: 3.5339e-04\n",
            "Epoch 89/100\n",
            "19/19 [==============================] - 0s 21ms/step - loss: 3.5715e-04\n",
            "Epoch 90/100\n",
            "19/19 [==============================] - 0s 21ms/step - loss: 3.7957e-04\n",
            "Epoch 91/100\n",
            "19/19 [==============================] - 0s 20ms/step - loss: 3.3606e-04\n",
            "Epoch 92/100\n",
            "19/19 [==============================] - 0s 12ms/step - loss: 3.4686e-04\n",
            "Epoch 93/100\n",
            "19/19 [==============================] - 0s 12ms/step - loss: 3.4285e-04\n",
            "Epoch 94/100\n",
            "19/19 [==============================] - 0s 11ms/step - loss: 3.7704e-04\n",
            "Epoch 95/100\n",
            "19/19 [==============================] - 0s 13ms/step - loss: 3.4044e-04\n",
            "Epoch 96/100\n",
            "19/19 [==============================] - 0s 13ms/step - loss: 3.3044e-04\n",
            "Epoch 97/100\n",
            "19/19 [==============================] - 0s 13ms/step - loss: 3.4799e-04\n",
            "Epoch 98/100\n",
            "19/19 [==============================] - 0s 12ms/step - loss: 3.7778e-04\n",
            "Epoch 99/100\n",
            "19/19 [==============================] - 0s 12ms/step - loss: 4.1232e-04\n",
            "Epoch 100/100\n",
            "19/19 [==============================] - 0s 13ms/step - loss: 3.4878e-04\n"
          ]
        },
        {
          "output_type": "execute_result",
          "data": {
            "text/plain": [
              "<keras.callbacks.History at 0x7f995aed52d0>"
            ]
          },
          "metadata": {},
          "execution_count": 20
        }
      ]
    },
    {
      "cell_type": "code",
      "source": [
        "# 10. Dự báo dữ liệu test, val\n",
        "train_predict=model.predict(X_train)\n",
        "y_pred=model.predict(X_test)\n"
      ],
      "metadata": {
        "colab": {
          "base_uri": "https://localhost:8080/"
        },
        "outputId": "06d13992-9009-43cf-a2ae-40d172aec635",
        "id": "fCJbUI_Ohfzx"
      },
      "execution_count": null,
      "outputs": [
        {
          "output_type": "stream",
          "name": "stdout",
          "text": [
            "37/37 [==============================] - 0s 3ms/step\n",
            "7/7 [==============================] - 0s 4ms/step\n"
          ]
        }
      ]
    },
    {
      "cell_type": "code",
      "source": [
        "# 11. Chuẩn hóa dữ liệu y_pred, y_pred_val\n",
        "train_predict=scaler.inverse_transform(train_predict)\n",
        "y_pred=scaler.inverse_transform(y_pred)\n"
      ],
      "metadata": {
        "id": "IeRXkxfshfzx"
      },
      "execution_count": null,
      "outputs": []
    },
    {
      "cell_type": "code",
      "source": [
        "# 12. Đánh giá độ chính xác thuật toán bằng RMSE\n",
        "test_rmse = np.sqrt(np.mean((y_pred - ytest)**2))\n",
        "test_mape= mean_absolute_percentage_error(y_pred,ytest)\n",
        "print('Testing RMSE:', test_rmse)\n",
        "print('Testing MAPE:', test_mape)"
      ],
      "metadata": {
        "colab": {
          "base_uri": "https://localhost:8080/"
        },
        "outputId": "8e902be5-e1b0-4c34-9de3-a3cc2f877557",
        "id": "U5Y06KGthfzx"
      },
      "execution_count": null,
      "outputs": [
        {
          "output_type": "stream",
          "name": "stdout",
          "text": [
            "Testing RMSE: 0.17765245736665386\n",
            "Testing MAPE: 0.024751269712127606\n"
          ]
        }
      ]
    },
    {
      "cell_type": "code",
      "source": [
        "# 14.Vẽ hình\n",
        "train_data_index = pd.RangeIndex(start=0, stop=train_size, step=1)\n",
        "plt.plot(scaler.inverse_transform(train_data))\n",
        "test_data_index = pd.RangeIndex(start=train_size, stop=train_size+test_size, step=1)\n",
        "plt.plot(test_data_index,scaler.inverse_transform(test_data))\n",
        "test_data_index = pd.RangeIndex(start=train_size+101, stop=train_size+test_size, step=1)\n",
        "plt.plot(test_data_index,(y_pred))\n",
        "\n",
        "\n",
        "plt.legend(['Train','Test','Predict'])\n",
        "plt.show()"
      ],
      "metadata": {
        "colab": {
          "base_uri": "https://localhost:8080/",
          "height": 430
        },
        "outputId": "448732f3-fd2d-4ae3-8530-358f1594b7c3",
        "id": "CaHRh5Xehfzy"
      },
      "execution_count": null,
      "outputs": [
        {
          "output_type": "display_data",
          "data": {
            "text/plain": [
              "<Figure size 640x480 with 1 Axes>"
            ],
            "image/png": "[encoded data removed]"
          },
          "metadata": {}
        }
      ]
    },
    {
      "cell_type": "markdown",
      "source": [],
      "metadata": {
        "id": "Yylm2D8qh8mW"
      }
    },
    {
      "cell_type": "markdown",
      "source": [
        "7.5:2.5"
      ],
      "metadata": {
        "id": "UNG-Wnc7h9Zn"
      }
    },
    {
      "cell_type": "code",
      "source": [
        "# 3. Scaler data\n",
        "scaler=MinMaxScaler(feature_range=(0,1))\n",
        "df1=scaler.fit_transform(np.array(df1).reshape(-1,1))"
      ],
      "metadata": {
        "id": "3l0dzYAeh9Zu"
      },
      "execution_count": null,
      "outputs": []
    },
    {
      "cell_type": "code",
      "source": [
        "# 4. Chia train test\n",
        "train_size = int(0.75 * len(df1))\n",
        "test_size = len(df1) - train_size\n",
        "\n",
        "train_data = df1[:train_size]\n",
        "test_data = df1[train_size:train_size+test_size]"
      ],
      "metadata": {
        "id": "qUbhuxSvh9Zu"
      },
      "execution_count": null,
      "outputs": []
    },
    {
      "cell_type": "code",
      "source": [
        "#6. Reshape into X=t,t+1,t+2..t+99 and Y=t+100\n",
        "\n",
        "time_step = 100\n",
        "X_train, y_train = create_dataset(train_data, time_step)\n",
        "X_test, ytest = create_dataset(test_data, time_step)"
      ],
      "metadata": {
        "id": "l6o0XPnlh9Zu"
      },
      "execution_count": null,
      "outputs": []
    },
    {
      "cell_type": "code",
      "source": [
        "# 7. Reshape input to be [samples, time steps, features] which is required for LSTM\n",
        "X_train =X_train.reshape(X_train.shape[0],X_train.shape[1] , 1)\n",
        "X_test = X_test.reshape(X_test.shape[0],X_test.shape[1] , 1)"
      ],
      "metadata": {
        "id": "13y4SEoHh9Zv"
      },
      "execution_count": null,
      "outputs": []
    },
    {
      "cell_type": "code",
      "source": [
        "# 8. Define LSTM Model\n",
        "\n",
        "model = Sequential()\n",
        "model.add(SimpleRNN(50, input_shape=(time_step, 1)))\n",
        "model.add(Dense(1))\n",
        "model.compile(loss='mean_squared_error',optimizer='adam')"
      ],
      "metadata": {
        "id": "LPQR8JXqh9Zv"
      },
      "execution_count": null,
      "outputs": []
    },
    {
      "cell_type": "code",
      "source": [
        "# 9. Fit mô hình với dữ liệu train\n",
        "model.fit(X_train,y_train,epochs=100,batch_size=64,verbose=1)"
      ],
      "metadata": {
        "colab": {
          "base_uri": "https://localhost:8080/"
        },
        "outputId": "3aafed76-2cac-4a22-aa21-d0230c87e858",
        "id": "2PSb0e8Wh9Zv"
      },
      "execution_count": null,
      "outputs": [
        {
          "output_type": "stream",
          "name": "stdout",
          "text": [
            "Epoch 1/100\n",
            "18/18 [==============================] - 1s 12ms/step - loss: 0.0124\n",
            "Epoch 2/100\n",
            "18/18 [==============================] - 0s 13ms/step - loss: 0.0021\n",
            "Epoch 3/100\n",
            "18/18 [==============================] - 0s 12ms/step - loss: 0.0013\n",
            "Epoch 4/100\n",
            "18/18 [==============================] - 0s 14ms/step - loss: 0.0010\n",
            "Epoch 5/100\n",
            "18/18 [==============================] - 0s 11ms/step - loss: 9.0038e-04\n",
            "Epoch 6/100\n",
            "18/18 [==============================] - 0s 12ms/step - loss: 8.7833e-04\n",
            "Epoch 7/100\n",
            "18/18 [==============================] - 0s 12ms/step - loss: 7.8807e-04\n",
            "Epoch 8/100\n",
            "18/18 [==============================] - 0s 13ms/step - loss: 7.8769e-04\n",
            "Epoch 9/100\n",
            "18/18 [==============================] - 0s 12ms/step - loss: 7.2565e-04\n",
            "Epoch 10/100\n",
            "18/18 [==============================] - 0s 13ms/step - loss: 6.9916e-04\n",
            "Epoch 11/100\n",
            "18/18 [==============================] - 0s 11ms/step - loss: 6.8309e-04\n",
            "Epoch 12/100\n",
            "18/18 [==============================] - 0s 12ms/step - loss: 6.8095e-04\n",
            "Epoch 13/100\n",
            "18/18 [==============================] - 0s 12ms/step - loss: 6.5364e-04\n",
            "Epoch 14/100\n",
            "18/18 [==============================] - 0s 12ms/step - loss: 6.6412e-04\n",
            "Epoch 15/100\n",
            "18/18 [==============================] - 0s 12ms/step - loss: 6.1884e-04\n",
            "Epoch 16/100\n",
            "18/18 [==============================] - 0s 11ms/step - loss: 5.7430e-04\n",
            "Epoch 17/100\n",
            "18/18 [==============================] - 0s 12ms/step - loss: 5.7537e-04\n",
            "Epoch 18/100\n",
            "18/18 [==============================] - 0s 12ms/step - loss: 6.0138e-04\n",
            "Epoch 19/100\n",
            "18/18 [==============================] - 0s 12ms/step - loss: 5.5294e-04\n",
            "Epoch 20/100\n",
            "18/18 [==============================] - 0s 12ms/step - loss: 5.5837e-04\n",
            "Epoch 21/100\n",
            "18/18 [==============================] - 0s 13ms/step - loss: 5.3210e-04\n",
            "Epoch 22/100\n",
            "18/18 [==============================] - 0s 12ms/step - loss: 5.1550e-04\n",
            "Epoch 23/100\n",
            "18/18 [==============================] - 0s 12ms/step - loss: 5.4429e-04\n",
            "Epoch 24/100\n",
            "18/18 [==============================] - 0s 12ms/step - loss: 5.4018e-04\n",
            "Epoch 25/100\n",
            "18/18 [==============================] - 0s 11ms/step - loss: 5.1707e-04\n",
            "Epoch 26/100\n",
            "18/18 [==============================] - 0s 12ms/step - loss: 5.1685e-04\n",
            "Epoch 27/100\n",
            "18/18 [==============================] - 0s 12ms/step - loss: 4.9790e-04\n",
            "Epoch 28/100\n",
            "18/18 [==============================] - 0s 14ms/step - loss: 5.0828e-04\n",
            "Epoch 29/100\n",
            "18/18 [==============================] - 0s 21ms/step - loss: 5.3223e-04\n",
            "Epoch 30/100\n",
            "18/18 [==============================] - 0s 20ms/step - loss: 4.6808e-04\n",
            "Epoch 31/100\n",
            "18/18 [==============================] - 0s 21ms/step - loss: 5.1558e-04\n",
            "Epoch 32/100\n",
            "18/18 [==============================] - 0s 20ms/step - loss: 5.3692e-04\n",
            "Epoch 33/100\n",
            "18/18 [==============================] - 0s 18ms/step - loss: 5.2128e-04\n",
            "Epoch 34/100\n",
            "18/18 [==============================] - 0s 20ms/step - loss: 5.0784e-04\n",
            "Epoch 35/100\n",
            "18/18 [==============================] - 0s 21ms/step - loss: 4.7271e-04\n",
            "Epoch 36/100\n",
            "18/18 [==============================] - 0s 20ms/step - loss: 4.4972e-04\n",
            "Epoch 37/100\n",
            "18/18 [==============================] - 0s 12ms/step - loss: 4.8017e-04\n",
            "Epoch 38/100\n",
            "18/18 [==============================] - 0s 12ms/step - loss: 4.5419e-04\n",
            "Epoch 39/100\n",
            "18/18 [==============================] - 0s 12ms/step - loss: 4.5640e-04\n",
            "Epoch 40/100\n",
            "18/18 [==============================] - 0s 12ms/step - loss: 4.4913e-04\n",
            "Epoch 41/100\n",
            "18/18 [==============================] - 0s 12ms/step - loss: 4.8906e-04\n",
            "Epoch 42/100\n",
            "18/18 [==============================] - 0s 14ms/step - loss: 4.7625e-04\n",
            "Epoch 43/100\n",
            "18/18 [==============================] - 0s 12ms/step - loss: 5.1496e-04\n",
            "Epoch 44/100\n",
            "18/18 [==============================] - 0s 11ms/step - loss: 5.2614e-04\n",
            "Epoch 45/100\n",
            "18/18 [==============================] - 0s 12ms/step - loss: 4.3351e-04\n",
            "Epoch 46/100\n",
            "18/18 [==============================] - 0s 12ms/step - loss: 5.6175e-04\n",
            "Epoch 47/100\n",
            "18/18 [==============================] - 0s 12ms/step - loss: 4.4804e-04\n",
            "Epoch 48/100\n",
            "18/18 [==============================] - 0s 12ms/step - loss: 4.5154e-04\n",
            "Epoch 49/100\n",
            "18/18 [==============================] - 0s 12ms/step - loss: 4.1502e-04\n",
            "Epoch 50/100\n",
            "18/18 [==============================] - 0s 11ms/step - loss: 4.2626e-04\n",
            "Epoch 51/100\n",
            "18/18 [==============================] - 0s 13ms/step - loss: 4.1713e-04\n",
            "Epoch 52/100\n",
            "18/18 [==============================] - 0s 12ms/step - loss: 4.1347e-04\n",
            "Epoch 53/100\n",
            "18/18 [==============================] - 0s 11ms/step - loss: 4.6533e-04\n",
            "Epoch 54/100\n",
            "18/18 [==============================] - 0s 12ms/step - loss: 4.5646e-04\n",
            "Epoch 55/100\n",
            "18/18 [==============================] - 0s 12ms/step - loss: 3.9978e-04\n",
            "Epoch 56/100\n",
            "18/18 [==============================] - 0s 12ms/step - loss: 4.4743e-04\n",
            "Epoch 57/100\n",
            "18/18 [==============================] - 0s 12ms/step - loss: 5.3665e-04\n",
            "Epoch 58/100\n",
            "18/18 [==============================] - 0s 11ms/step - loss: 4.2726e-04\n",
            "Epoch 59/100\n",
            "18/18 [==============================] - 0s 12ms/step - loss: 4.2609e-04\n",
            "Epoch 60/100\n",
            "18/18 [==============================] - 0s 12ms/step - loss: 4.8977e-04\n",
            "Epoch 61/100\n",
            "18/18 [==============================] - 0s 12ms/step - loss: 4.6991e-04\n",
            "Epoch 62/100\n",
            "18/18 [==============================] - 0s 12ms/step - loss: 5.7070e-04\n",
            "Epoch 63/100\n",
            "18/18 [==============================] - 0s 12ms/step - loss: 4.4683e-04\n",
            "Epoch 64/100\n",
            "18/18 [==============================] - 0s 13ms/step - loss: 4.2423e-04\n",
            "Epoch 65/100\n",
            "18/18 [==============================] - 0s 13ms/step - loss: 4.1393e-04\n",
            "Epoch 66/100\n",
            "18/18 [==============================] - 0s 12ms/step - loss: 4.0436e-04\n",
            "Epoch 67/100\n",
            "18/18 [==============================] - 0s 12ms/step - loss: 4.4273e-04\n",
            "Epoch 68/100\n",
            "18/18 [==============================] - 0s 12ms/step - loss: 4.0656e-04\n",
            "Epoch 69/100\n",
            "18/18 [==============================] - 0s 12ms/step - loss: 3.9731e-04\n",
            "Epoch 70/100\n",
            "18/18 [==============================] - 0s 12ms/step - loss: 3.8738e-04\n",
            "Epoch 71/100\n",
            "18/18 [==============================] - 0s 12ms/step - loss: 3.7358e-04\n",
            "Epoch 72/100\n",
            "18/18 [==============================] - 0s 12ms/step - loss: 3.7966e-04\n",
            "Epoch 73/100\n",
            "18/18 [==============================] - 0s 12ms/step - loss: 4.3138e-04\n",
            "Epoch 74/100\n",
            "18/18 [==============================] - 0s 12ms/step - loss: 3.8357e-04\n",
            "Epoch 75/100\n",
            "18/18 [==============================] - 0s 12ms/step - loss: 3.8118e-04\n",
            "Epoch 76/100\n",
            "18/18 [==============================] - 0s 11ms/step - loss: 3.9118e-04\n",
            "Epoch 77/100\n",
            "18/18 [==============================] - 0s 11ms/step - loss: 3.6775e-04\n",
            "Epoch 78/100\n",
            "18/18 [==============================] - 0s 11ms/step - loss: 3.6419e-04\n",
            "Epoch 79/100\n",
            "18/18 [==============================] - 0s 12ms/step - loss: 3.6134e-04\n",
            "Epoch 80/100\n",
            "18/18 [==============================] - 0s 12ms/step - loss: 3.7065e-04\n",
            "Epoch 81/100\n",
            "18/18 [==============================] - 0s 11ms/step - loss: 3.9608e-04\n",
            "Epoch 82/100\n",
            "18/18 [==============================] - 0s 19ms/step - loss: 3.9425e-04\n",
            "Epoch 83/100\n",
            "18/18 [==============================] - 0s 20ms/step - loss: 3.9345e-04\n",
            "Epoch 84/100\n",
            "18/18 [==============================] - 0s 18ms/step - loss: 3.8723e-04\n",
            "Epoch 85/100\n",
            "18/18 [==============================] - 0s 21ms/step - loss: 3.5978e-04\n",
            "Epoch 86/100\n",
            "18/18 [==============================] - 0s 20ms/step - loss: 3.5087e-04\n",
            "Epoch 87/100\n",
            "18/18 [==============================] - 0s 20ms/step - loss: 3.6289e-04\n",
            "Epoch 88/100\n",
            "18/18 [==============================] - 0s 20ms/step - loss: 3.8334e-04\n",
            "Epoch 89/100\n",
            "18/18 [==============================] - 0s 20ms/step - loss: 3.7039e-04\n",
            "Epoch 90/100\n",
            "18/18 [==============================] - 0s 17ms/step - loss: 3.9775e-04\n",
            "Epoch 91/100\n",
            "18/18 [==============================] - 0s 12ms/step - loss: 4.0576e-04\n",
            "Epoch 92/100\n",
            "18/18 [==============================] - 0s 12ms/step - loss: 3.5648e-04\n",
            "Epoch 93/100\n",
            "18/18 [==============================] - 0s 12ms/step - loss: 3.5007e-04\n",
            "Epoch 94/100\n",
            "18/18 [==============================] - 0s 11ms/step - loss: 3.6114e-04\n",
            "Epoch 95/100\n",
            "18/18 [==============================] - 0s 12ms/step - loss: 3.6641e-04\n",
            "Epoch 96/100\n",
            "18/18 [==============================] - 0s 12ms/step - loss: 3.7141e-04\n",
            "Epoch 97/100\n",
            "18/18 [==============================] - 0s 12ms/step - loss: 3.4306e-04\n",
            "Epoch 98/100\n",
            "18/18 [==============================] - 0s 12ms/step - loss: 3.8755e-04\n",
            "Epoch 99/100\n",
            "18/18 [==============================] - 0s 12ms/step - loss: 4.4301e-04\n",
            "Epoch 100/100\n",
            "18/18 [==============================] - 0s 12ms/step - loss: 3.8280e-04\n"
          ]
        },
        {
          "output_type": "execute_result",
          "data": {
            "text/plain": [
              "<keras.callbacks.History at 0x7f995ad12aa0>"
            ]
          },
          "metadata": {},
          "execution_count": 30
        }
      ]
    },
    {
      "cell_type": "code",
      "source": [
        "# 10. Dự báo dữ liệu test, val\n",
        "train_predict=model.predict(X_train)\n",
        "y_pred=model.predict(X_test)\n"
      ],
      "metadata": {
        "colab": {
          "base_uri": "https://localhost:8080/"
        },
        "outputId": "ca0f93ec-9ca9-487e-dab6-bb30be0d2b81",
        "id": "apcui8tMh9Zv"
      },
      "execution_count": null,
      "outputs": [
        {
          "output_type": "stream",
          "name": "stdout",
          "text": [
            "35/35 [==============================] - 0s 4ms/step\n",
            "10/10 [==============================] - 0s 3ms/step\n"
          ]
        }
      ]
    },
    {
      "cell_type": "code",
      "source": [
        "# 11. Chuẩn hóa dữ liệu y_pred, y_pred_val\n",
        "train_predict=scaler.inverse_transform(train_predict)\n",
        "y_pred=scaler.inverse_transform(y_pred)\n"
      ],
      "metadata": {
        "id": "at8BMiGFh9Zv"
      },
      "execution_count": null,
      "outputs": []
    },
    {
      "cell_type": "code",
      "source": [
        "# 12. Đánh giá độ chính xác thuật toán bằng RMSE\n",
        "test_rmse = np.sqrt(np.mean((y_pred - ytest)**2))\n",
        "test_mape= mean_absolute_percentage_error(y_pred,ytest)\n",
        "print('Testing RMSE:', test_rmse)\n",
        "print('Testing MAPE:', test_mape)"
      ],
      "metadata": {
        "colab": {
          "base_uri": "https://localhost:8080/"
        },
        "outputId": "38caeaa8-f190-43a0-e8b8-145913bf7b7a",
        "id": "uzpRDEvEh9Zw"
      },
      "execution_count": null,
      "outputs": [
        {
          "output_type": "stream",
          "name": "stdout",
          "text": [
            "Testing RMSE: 0.17683330006771103\n",
            "Testing MAPE: 0.03701466596612986\n"
          ]
        }
      ]
    },
    {
      "cell_type": "code",
      "source": [
        "# 14.Vẽ hình\n",
        "train_data_index = pd.RangeIndex(start=0, stop=train_size, step=1)\n",
        "plt.plot(scaler.inverse_transform(train_data))\n",
        "test_data_index = pd.RangeIndex(start=train_size, stop=train_size+test_size, step=1)\n",
        "plt.plot(test_data_index,scaler.inverse_transform(test_data))\n",
        "test_data_index = pd.RangeIndex(start=train_size+101, stop=train_size+test_size, step=1)\n",
        "plt.plot(test_data_index,(y_pred))\n",
        "\n",
        "\n",
        "plt.legend(['Train','Test','Predict'])\n",
        "plt.show()"
      ],
      "metadata": {
        "colab": {
          "base_uri": "https://localhost:8080/"
        },
        "outputId": "71612e7d-10d8-4d1c-d3ed-b44a29be2f15",
        "id": "qYdGS0Cph9Zw"
      },
      "execution_count": null,
      "outputs": [
        {
          "output_type": "display_data",
          "data": {
            "text/plain": [
              "<Figure size 640x480 with 1 Axes>"
            ],
            "image/png": "[encoded data removed]"
          },
          "metadata": {}
        }
      ]
    },
    {
      "cell_type": "markdown",
      "source": [
        "# FPT"
      ],
      "metadata": {
        "id": "159WLGpjmdxI"
      }
    },
    {
      "cell_type": "markdown",
      "source": [
        "7:3"
      ],
      "metadata": {
        "id": "gZ33JiAfmdxJ"
      }
    },
    {
      "cell_type": "code",
      "source": [
        "df, df1 = getRawData(1)"
      ],
      "metadata": {
        "id": "G8DSj9cUmdxJ"
      },
      "execution_count": null,
      "outputs": []
    },
    {
      "cell_type": "code",
      "source": [
        "# 3. Scaler data\n",
        "scaler=MinMaxScaler(feature_range=(0,1))\n",
        "df1=scaler.fit_transform(np.array(df1).reshape(-1,1))"
      ],
      "metadata": {
        "id": "GeBl8KPMmdxJ"
      },
      "execution_count": null,
      "outputs": []
    },
    {
      "cell_type": "code",
      "source": [
        "# 4. Chia train test\n",
        "train_size = int(0.7 * len(df1))\n",
        "test_size = len(df1) - train_size\n",
        "\n",
        "train_data = df1[:train_size]\n",
        "test_data = df1[train_size:train_size+test_size]"
      ],
      "metadata": {
        "id": "ENxC3U_zmdxJ"
      },
      "execution_count": null,
      "outputs": []
    },
    {
      "cell_type": "code",
      "source": [
        "#6. Reshape into X=t,t+1,t+2..t+99 and Y=t+100\n",
        "\n",
        "time_step = 100\n",
        "X_train, y_train = create_dataset(train_data, time_step)\n",
        "X_test, ytest = create_dataset(test_data, time_step)"
      ],
      "metadata": {
        "id": "l8eCvJS_mdxJ"
      },
      "execution_count": null,
      "outputs": []
    },
    {
      "cell_type": "code",
      "source": [
        "# 7. Reshape input to be [samples, time steps, features] which is required for LSTM\n",
        "X_train =X_train.reshape(X_train.shape[0],X_train.shape[1] , 1)\n",
        "X_test = X_test.reshape(X_test.shape[0],X_test.shape[1] , 1)"
      ],
      "metadata": {
        "id": "1EsdNpVAmdxK"
      },
      "execution_count": null,
      "outputs": []
    },
    {
      "cell_type": "code",
      "source": [
        "# 8. Define LSTM Model\n",
        "\n",
        "model = Sequential()\n",
        "model.add(SimpleRNN(50, input_shape=(time_step, 1)))\n",
        "model.add(Dense(1))\n",
        "model.compile(loss='mean_squared_error',optimizer='adam')"
      ],
      "metadata": {
        "id": "P92FOd9_mdxK"
      },
      "execution_count": null,
      "outputs": []
    },
    {
      "cell_type": "code",
      "source": [
        "# 9. Fit mô hình với dữ liệu train\n",
        "model.fit(X_train,y_train,epochs=100,batch_size=64,verbose=1)"
      ],
      "metadata": {
        "colab": {
          "base_uri": "https://localhost:8080/"
        },
        "outputId": "17fbb06b-1660-4dac-e038-be9b6597fd9e",
        "id": "PK7NCcL6mdxK"
      },
      "execution_count": null,
      "outputs": [
        {
          "output_type": "stream",
          "name": "stdout",
          "text": [
            "Epoch 1/100\n",
            "17/17 [==============================] - 1s 12ms/step - loss: 0.0164\n",
            "Epoch 2/100\n",
            "17/17 [==============================] - 0s 13ms/step - loss: 0.0015\n",
            "Epoch 3/100\n",
            "17/17 [==============================] - 0s 13ms/step - loss: 3.9568e-04\n",
            "Epoch 4/100\n",
            "17/17 [==============================] - 0s 11ms/step - loss: 3.0447e-04\n",
            "Epoch 5/100\n",
            "17/17 [==============================] - 0s 12ms/step - loss: 2.8003e-04\n",
            "Epoch 6/100\n",
            "17/17 [==============================] - 0s 12ms/step - loss: 3.1659e-04\n",
            "Epoch 7/100\n",
            "17/17 [==============================] - 0s 11ms/step - loss: 2.6903e-04\n",
            "Epoch 8/100\n",
            "17/17 [==============================] - 0s 12ms/step - loss: 5.5522e-04\n",
            "Epoch 9/100\n",
            "17/17 [==============================] - 0s 12ms/step - loss: 2.6868e-04\n",
            "Epoch 10/100\n",
            "17/17 [==============================] - 0s 11ms/step - loss: 2.2914e-04\n",
            "Epoch 11/100\n",
            "17/17 [==============================] - 0s 13ms/step - loss: 2.2072e-04\n",
            "Epoch 12/100\n",
            "17/17 [==============================] - 0s 12ms/step - loss: 2.1320e-04\n",
            "Epoch 13/100\n",
            "17/17 [==============================] - 0s 12ms/step - loss: 2.0648e-04\n",
            "Epoch 14/100\n",
            "17/17 [==============================] - 0s 12ms/step - loss: 2.0559e-04\n",
            "Epoch 15/100\n",
            "17/17 [==============================] - 0s 12ms/step - loss: 2.0685e-04\n",
            "Epoch 16/100\n",
            "17/17 [==============================] - 0s 11ms/step - loss: 1.9139e-04\n",
            "Epoch 17/100\n",
            "17/17 [==============================] - 0s 12ms/step - loss: 1.9311e-04\n",
            "Epoch 18/100\n",
            "17/17 [==============================] - 0s 12ms/step - loss: 1.9118e-04\n",
            "Epoch 19/100\n",
            "17/17 [==============================] - 0s 11ms/step - loss: 1.8177e-04\n",
            "Epoch 20/100\n",
            "17/17 [==============================] - 0s 12ms/step - loss: 1.7756e-04\n",
            "Epoch 21/100\n",
            "17/17 [==============================] - 0s 12ms/step - loss: 1.7280e-04\n",
            "Epoch 22/100\n",
            "17/17 [==============================] - 0s 12ms/step - loss: 1.9085e-04\n",
            "Epoch 23/100\n",
            "17/17 [==============================] - 0s 12ms/step - loss: 1.8171e-04\n",
            "Epoch 24/100\n",
            "17/17 [==============================] - 0s 11ms/step - loss: 1.7739e-04\n",
            "Epoch 25/100\n",
            "17/17 [==============================] - 0s 11ms/step - loss: 1.7175e-04\n",
            "Epoch 26/100\n",
            "17/17 [==============================] - 0s 12ms/step - loss: 1.5972e-04\n",
            "Epoch 27/100\n",
            "17/17 [==============================] - 0s 12ms/step - loss: 1.5437e-04\n",
            "Epoch 28/100\n",
            "17/17 [==============================] - 0s 18ms/step - loss: 3.3425e-04\n",
            "Epoch 29/100\n",
            "17/17 [==============================] - 0s 19ms/step - loss: 1.7552e-04\n",
            "Epoch 30/100\n",
            "17/17 [==============================] - 0s 19ms/step - loss: 1.6487e-04\n",
            "Epoch 31/100\n",
            "17/17 [==============================] - 0s 20ms/step - loss: 1.5504e-04\n",
            "Epoch 32/100\n",
            "17/17 [==============================] - 0s 20ms/step - loss: 1.5911e-04\n",
            "Epoch 33/100\n",
            "17/17 [==============================] - 0s 19ms/step - loss: 1.4264e-04\n",
            "Epoch 34/100\n",
            "17/17 [==============================] - 0s 19ms/step - loss: 1.5488e-04\n",
            "Epoch 35/100\n",
            "17/17 [==============================] - 0s 19ms/step - loss: 1.5321e-04\n",
            "Epoch 36/100\n",
            "17/17 [==============================] - 0s 20ms/step - loss: 1.4215e-04\n",
            "Epoch 37/100\n",
            "17/17 [==============================] - 0s 14ms/step - loss: 1.5006e-04\n",
            "Epoch 38/100\n",
            "17/17 [==============================] - 0s 12ms/step - loss: 1.4792e-04\n",
            "Epoch 39/100\n",
            "17/17 [==============================] - 0s 13ms/step - loss: 1.3350e-04\n",
            "Epoch 40/100\n",
            "17/17 [==============================] - 0s 12ms/step - loss: 1.3226e-04\n",
            "Epoch 41/100\n",
            "17/17 [==============================] - 0s 12ms/step - loss: 1.3430e-04\n",
            "Epoch 42/100\n",
            "17/17 [==============================] - 0s 11ms/step - loss: 1.4378e-04\n",
            "Epoch 43/100\n",
            "17/17 [==============================] - 0s 12ms/step - loss: 1.3067e-04\n",
            "Epoch 44/100\n",
            "17/17 [==============================] - 0s 12ms/step - loss: 1.2621e-04\n",
            "Epoch 45/100\n",
            "17/17 [==============================] - 0s 12ms/step - loss: 1.2900e-04\n",
            "Epoch 46/100\n",
            "17/17 [==============================] - 0s 12ms/step - loss: 1.2651e-04\n",
            "Epoch 47/100\n",
            "17/17 [==============================] - 0s 12ms/step - loss: 1.3443e-04\n",
            "Epoch 48/100\n",
            "17/17 [==============================] - 0s 12ms/step - loss: 1.3090e-04\n",
            "Epoch 49/100\n",
            "17/17 [==============================] - 0s 13ms/step - loss: 1.2096e-04\n",
            "Epoch 50/100\n",
            "17/17 [==============================] - 0s 11ms/step - loss: 1.4348e-04\n",
            "Epoch 51/100\n",
            "17/17 [==============================] - 0s 12ms/step - loss: 1.2065e-04\n",
            "Epoch 52/100\n",
            "17/17 [==============================] - 0s 12ms/step - loss: 1.2251e-04\n",
            "Epoch 53/100\n",
            "17/17 [==============================] - 0s 12ms/step - loss: 1.1835e-04\n",
            "Epoch 54/100\n",
            "17/17 [==============================] - 0s 12ms/step - loss: 1.5041e-04\n",
            "Epoch 55/100\n",
            "17/17 [==============================] - 0s 12ms/step - loss: 1.2702e-04\n",
            "Epoch 56/100\n",
            "17/17 [==============================] - 0s 12ms/step - loss: 1.1224e-04\n",
            "Epoch 57/100\n",
            "17/17 [==============================] - 0s 11ms/step - loss: 1.1721e-04\n",
            "Epoch 58/100\n",
            "17/17 [==============================] - 0s 12ms/step - loss: 1.1233e-04\n",
            "Epoch 59/100\n",
            "17/17 [==============================] - 0s 13ms/step - loss: 1.1240e-04\n",
            "Epoch 60/100\n",
            "17/17 [==============================] - 0s 11ms/step - loss: 1.1195e-04\n",
            "Epoch 61/100\n",
            "17/17 [==============================] - 0s 12ms/step - loss: 1.0736e-04\n",
            "Epoch 62/100\n",
            "17/17 [==============================] - 0s 12ms/step - loss: 1.0777e-04\n",
            "Epoch 63/100\n",
            "17/17 [==============================] - 0s 11ms/step - loss: 1.0891e-04\n",
            "Epoch 64/100\n",
            "17/17 [==============================] - 0s 12ms/step - loss: 1.1432e-04\n",
            "Epoch 65/100\n",
            "17/17 [==============================] - 0s 12ms/step - loss: 1.0936e-04\n",
            "Epoch 66/100\n",
            "17/17 [==============================] - 0s 11ms/step - loss: 1.1431e-04\n",
            "Epoch 67/100\n",
            "17/17 [==============================] - 0s 12ms/step - loss: 1.1369e-04\n",
            "Epoch 68/100\n",
            "17/17 [==============================] - 0s 12ms/step - loss: 1.0580e-04\n",
            "Epoch 69/100\n",
            "17/17 [==============================] - 0s 12ms/step - loss: 1.1011e-04\n",
            "Epoch 70/100\n",
            "17/17 [==============================] - 0s 12ms/step - loss: 1.0832e-04\n",
            "Epoch 71/100\n",
            "17/17 [==============================] - 0s 12ms/step - loss: 1.3548e-04\n",
            "Epoch 72/100\n",
            "17/17 [==============================] - 0s 12ms/step - loss: 1.0828e-04\n",
            "Epoch 73/100\n",
            "17/17 [==============================] - 0s 12ms/step - loss: 1.0194e-04\n",
            "Epoch 74/100\n",
            "17/17 [==============================] - 0s 12ms/step - loss: 1.0915e-04\n",
            "Epoch 75/100\n",
            "17/17 [==============================] - 0s 12ms/step - loss: 9.9019e-05\n",
            "Epoch 76/100\n",
            "17/17 [==============================] - 0s 13ms/step - loss: 1.0520e-04\n",
            "Epoch 77/100\n",
            "17/17 [==============================] - 0s 12ms/step - loss: 9.7207e-05\n",
            "Epoch 78/100\n",
            "17/17 [==============================] - 0s 11ms/step - loss: 9.7464e-05\n",
            "Epoch 79/100\n",
            "17/17 [==============================] - 0s 12ms/step - loss: 9.6291e-05\n",
            "Epoch 80/100\n",
            "17/17 [==============================] - 0s 12ms/step - loss: 1.0149e-04\n",
            "Epoch 81/100\n",
            "17/17 [==============================] - 0s 11ms/step - loss: 1.1416e-04\n",
            "Epoch 82/100\n",
            "17/17 [==============================] - 0s 12ms/step - loss: 3.4282e-04\n",
            "Epoch 83/100\n",
            "17/17 [==============================] - 0s 11ms/step - loss: 1.3918e-04\n",
            "Epoch 84/100\n",
            "17/17 [==============================] - 0s 12ms/step - loss: 1.2269e-04\n",
            "Epoch 85/100\n",
            "17/17 [==============================] - 0s 13ms/step - loss: 9.5839e-05\n",
            "Epoch 86/100\n",
            "17/17 [==============================] - 0s 20ms/step - loss: 9.8816e-05\n",
            "Epoch 87/100\n",
            "17/17 [==============================] - 0s 20ms/step - loss: 1.0340e-04\n",
            "Epoch 88/100\n",
            "17/17 [==============================] - 0s 19ms/step - loss: 1.0034e-04\n",
            "Epoch 89/100\n",
            "17/17 [==============================] - 0s 20ms/step - loss: 1.4969e-04\n",
            "Epoch 90/100\n",
            "17/17 [==============================] - 0s 19ms/step - loss: 9.4630e-05\n",
            "Epoch 91/100\n",
            "17/17 [==============================] - 0s 19ms/step - loss: 9.5366e-05\n",
            "Epoch 92/100\n",
            "17/17 [==============================] - 0s 20ms/step - loss: 9.6680e-05\n",
            "Epoch 93/100\n",
            "17/17 [==============================] - 0s 19ms/step - loss: 9.1898e-05\n",
            "Epoch 94/100\n",
            "17/17 [==============================] - 0s 21ms/step - loss: 9.6283e-05\n",
            "Epoch 95/100\n",
            "17/17 [==============================] - 0s 12ms/step - loss: 9.0239e-05\n",
            "Epoch 96/100\n",
            "17/17 [==============================] - 0s 11ms/step - loss: 8.7374e-05\n",
            "Epoch 97/100\n",
            "17/17 [==============================] - 0s 12ms/step - loss: 9.4341e-05\n",
            "Epoch 98/100\n",
            "17/17 [==============================] - 0s 12ms/step - loss: 8.9492e-05\n",
            "Epoch 99/100\n",
            "17/17 [==============================] - 0s 12ms/step - loss: 8.5239e-05\n",
            "Epoch 100/100\n",
            "17/17 [==============================] - 0s 12ms/step - loss: 1.1436e-04\n"
          ]
        },
        {
          "output_type": "execute_result",
          "data": {
            "text/plain": [
              "<keras.callbacks.History at 0x7f995aa3c220>"
            ]
          },
          "metadata": {},
          "execution_count": 41
        }
      ]
    },
    {
      "cell_type": "code",
      "source": [
        "# 10. Dự báo dữ liệu test, val\n",
        "train_predict=model.predict(X_train)\n",
        "y_pred=model.predict(X_test)\n"
      ],
      "metadata": {
        "colab": {
          "base_uri": "https://localhost:8080/"
        },
        "outputId": "54b39769-091f-47a3-8b9e-b3ceaae1af25",
        "id": "QKum8WtOmdxK"
      },
      "execution_count": null,
      "outputs": [
        {
          "output_type": "stream",
          "name": "stdout",
          "text": [
            "33/33 [==============================] - 0s 4ms/step\n",
            "12/12 [==============================] - 0s 4ms/step\n"
          ]
        }
      ]
    },
    {
      "cell_type": "code",
      "source": [
        "# 11. Chuẩn hóa dữ liệu y_pred, y_pred_val\n",
        "train_predict=scaler.inverse_transform(train_predict)\n",
        "y_pred=scaler.inverse_transform(y_pred)\n"
      ],
      "metadata": {
        "id": "xh7HydW9mdxK"
      },
      "execution_count": null,
      "outputs": []
    },
    {
      "cell_type": "code",
      "source": [
        "# 12. Đánh giá độ chính xác thuật toán bằng RMSE\n",
        "test_rmse = np.sqrt(np.mean((y_pred - ytest)**2))\n",
        "test_mape= mean_absolute_percentage_error(y_pred,ytest)\n",
        "print('Testing RMSE:', test_rmse)\n",
        "print('Testing MAPE:', test_mape)"
      ],
      "metadata": {
        "colab": {
          "base_uri": "https://localhost:8080/"
        },
        "outputId": "e9df56b7-402f-4772-e19a-ed3621adafa0",
        "id": "eaMsgekSmdxK"
      },
      "execution_count": null,
      "outputs": [
        {
          "output_type": "stream",
          "name": "stdout",
          "text": [
            "Testing RMSE: 79186.18646577817\n",
            "Testing MAPE: 0.9999897893486447\n"
          ]
        }
      ]
    },
    {
      "cell_type": "code",
      "source": [
        "# 14.Vẽ hình\n",
        "train_data_index = pd.RangeIndex(start=0, stop=train_size, step=1)\n",
        "plt.plot(scaler.inverse_transform(train_data))\n",
        "test_data_index = pd.RangeIndex(start=train_size, stop=train_size+test_size, step=1)\n",
        "plt.plot(test_data_index,scaler.inverse_transform(test_data))\n",
        "test_data_index = pd.RangeIndex(start=train_size+101, stop=train_size+test_size, step=1)\n",
        "plt.plot(test_data_index,(y_pred))\n",
        "\n",
        "\n",
        "plt.legend(['Train','Test','Predict'])\n",
        "plt.show()"
      ],
      "metadata": {
        "colab": {
          "base_uri": "https://localhost:8080/",
          "height": 435
        },
        "outputId": "ebd3014e-1dad-4ec9-aa05-c5b5210a7cd1",
        "id": "85eJB5FDmdxK"
      },
      "execution_count": null,
      "outputs": [
        {
          "output_type": "display_data",
          "data": {
            "text/plain": [
              "<Figure size 640x480 with 1 Axes>"
            ],
            "image/png": "[encoded data removed]"
          },
          "metadata": {}
        }
      ]
    },
    {
      "cell_type": "markdown",
      "source": [
        "8:2"
      ],
      "metadata": {
        "id": "y2RIJgSvmdxL"
      }
    },
    {
      "cell_type": "code",
      "source": [
        "# 3. Scaler data\n",
        "scaler=MinMaxScaler(feature_range=(0,1))\n",
        "df1=scaler.fit_transform(np.array(df1).reshape(-1,1))"
      ],
      "metadata": {
        "id": "QCJsybPlmdxL"
      },
      "execution_count": null,
      "outputs": []
    },
    {
      "cell_type": "code",
      "source": [
        "# 4. Chia train test\n",
        "train_size = int(0.8 * len(df1))\n",
        "test_size = len(df1) - train_size\n",
        "\n",
        "train_data = df1[:train_size]\n",
        "test_data = df1[train_size:train_size+test_size]"
      ],
      "metadata": {
        "id": "wtRZmEUOmdxL"
      },
      "execution_count": null,
      "outputs": []
    },
    {
      "cell_type": "code",
      "source": [
        "#6. Reshape into X=t,t+1,t+2..t+99 and Y=t+100\n",
        "\n",
        "time_step = 100\n",
        "X_train, y_train = create_dataset(train_data, time_step)\n",
        "X_test, ytest = create_dataset(test_data, time_step)"
      ],
      "metadata": {
        "id": "ADTzWcuAmdxL"
      },
      "execution_count": null,
      "outputs": []
    },
    {
      "cell_type": "code",
      "source": [
        "# 7. Reshape input to be [samples, time steps, features] which is required for LSTM\n",
        "X_train =X_train.reshape(X_train.shape[0],X_train.shape[1] , 1)\n",
        "X_test = X_test.reshape(X_test.shape[0],X_test.shape[1] , 1)"
      ],
      "metadata": {
        "id": "qfLjzNF2mdxL"
      },
      "execution_count": null,
      "outputs": []
    },
    {
      "cell_type": "code",
      "source": [
        "# 8. Define LSTM Model\n",
        "\n",
        "model = Sequential()\n",
        "model.add(SimpleRNN(50, input_shape=(time_step, 1)))\n",
        "model.add(Dense(1))\n",
        "model.compile(loss='mean_squared_error',optimizer='adam')"
      ],
      "metadata": {
        "id": "SBrCT_7vmdxL"
      },
      "execution_count": null,
      "outputs": []
    },
    {
      "cell_type": "code",
      "source": [
        "# 9. Fit mô hình với dữ liệu train\n",
        "model.fit(X_train,y_train,epochs=100,batch_size=64,verbose=1)"
      ],
      "metadata": {
        "colab": {
          "base_uri": "https://localhost:8080/"
        },
        "outputId": "c9641380-fa82-41f6-b22d-11ba0174de16",
        "id": "ThelkBSwmdxM"
      },
      "execution_count": null,
      "outputs": [
        {
          "output_type": "stream",
          "name": "stdout",
          "text": [
            "Epoch 1/100\n",
            "19/19 [==============================] - 1s 13ms/step - loss: 0.0139\n",
            "Epoch 2/100\n",
            "19/19 [==============================] - 0s 12ms/step - loss: 5.1733e-04\n",
            "Epoch 3/100\n",
            "19/19 [==============================] - 0s 13ms/step - loss: 3.6879e-04\n",
            "Epoch 4/100\n",
            "19/19 [==============================] - 0s 12ms/step - loss: 3.3585e-04\n",
            "Epoch 5/100\n",
            "19/19 [==============================] - 0s 13ms/step - loss: 3.2202e-04\n",
            "Epoch 6/100\n",
            "19/19 [==============================] - 0s 13ms/step - loss: 2.9879e-04\n",
            "Epoch 7/100\n",
            "19/19 [==============================] - 0s 12ms/step - loss: 2.9692e-04\n",
            "Epoch 8/100\n",
            "19/19 [==============================] - 0s 11ms/step - loss: 2.8045e-04\n",
            "Epoch 9/100\n",
            "19/19 [==============================] - 1s 29ms/step - loss: 2.7492e-04\n",
            "Epoch 10/100\n",
            "19/19 [==============================] - 0s 15ms/step - loss: 2.5539e-04\n",
            "Epoch 11/100\n",
            "19/19 [==============================] - 0s 11ms/step - loss: 2.5391e-04\n",
            "Epoch 12/100\n",
            "19/19 [==============================] - 0s 13ms/step - loss: 2.4776e-04\n",
            "Epoch 13/100\n",
            "19/19 [==============================] - 0s 11ms/step - loss: 2.4318e-04\n",
            "Epoch 14/100\n",
            "19/19 [==============================] - 0s 12ms/step - loss: 2.3738e-04\n",
            "Epoch 15/100\n",
            "19/19 [==============================] - 0s 12ms/step - loss: 2.2923e-04\n",
            "Epoch 16/100\n",
            "19/19 [==============================] - 0s 13ms/step - loss: 2.2110e-04\n",
            "Epoch 17/100\n",
            "19/19 [==============================] - 0s 12ms/step - loss: 2.3416e-04\n",
            "Epoch 18/100\n",
            "19/19 [==============================] - 0s 12ms/step - loss: 2.1082e-04\n",
            "Epoch 19/100\n",
            "19/19 [==============================] - 0s 12ms/step - loss: 2.1370e-04\n",
            "Epoch 20/100\n",
            "19/19 [==============================] - 0s 13ms/step - loss: 2.1974e-04\n",
            "Epoch 21/100\n",
            "19/19 [==============================] - 0s 11ms/step - loss: 1.9523e-04\n",
            "Epoch 22/100\n",
            "19/19 [==============================] - 0s 12ms/step - loss: 2.0132e-04\n",
            "Epoch 23/100\n",
            "19/19 [==============================] - 0s 13ms/step - loss: 1.8924e-04\n",
            "Epoch 24/100\n",
            "19/19 [==============================] - 0s 12ms/step - loss: 2.0946e-04\n",
            "Epoch 25/100\n",
            "19/19 [==============================] - 0s 12ms/step - loss: 1.8438e-04\n",
            "Epoch 26/100\n",
            "19/19 [==============================] - 0s 11ms/step - loss: 1.7417e-04\n",
            "Epoch 27/100\n",
            "19/19 [==============================] - 0s 12ms/step - loss: 1.7707e-04\n",
            "Epoch 28/100\n",
            "19/19 [==============================] - 0s 12ms/step - loss: 1.7246e-04\n",
            "Epoch 29/100\n",
            "19/19 [==============================] - 0s 13ms/step - loss: 1.7624e-04\n",
            "Epoch 30/100\n",
            "19/19 [==============================] - 0s 20ms/step - loss: 1.7032e-04\n",
            "Epoch 31/100\n",
            "19/19 [==============================] - 0s 20ms/step - loss: 1.6418e-04\n",
            "Epoch 32/100\n",
            "19/19 [==============================] - 0s 20ms/step - loss: 1.8312e-04\n",
            "Epoch 33/100\n",
            "19/19 [==============================] - 0s 20ms/step - loss: 1.6399e-04\n",
            "Epoch 34/100\n",
            "19/19 [==============================] - 0s 19ms/step - loss: 1.6422e-04\n",
            "Epoch 35/100\n",
            "19/19 [==============================] - 0s 20ms/step - loss: 1.6177e-04\n",
            "Epoch 36/100\n",
            "19/19 [==============================] - 0s 18ms/step - loss: 2.0864e-04\n",
            "Epoch 37/100\n",
            "19/19 [==============================] - 0s 21ms/step - loss: 1.8048e-04\n",
            "Epoch 38/100\n",
            "19/19 [==============================] - 0s 13ms/step - loss: 2.1281e-04\n",
            "Epoch 39/100\n",
            "19/19 [==============================] - 0s 12ms/step - loss: 1.6637e-04\n",
            "Epoch 40/100\n",
            "19/19 [==============================] - 0s 12ms/step - loss: 1.5227e-04\n",
            "Epoch 41/100\n",
            "19/19 [==============================] - 0s 11ms/step - loss: 1.5571e-04\n",
            "Epoch 42/100\n",
            "19/19 [==============================] - 0s 12ms/step - loss: 1.6083e-04\n",
            "Epoch 43/100\n",
            "19/19 [==============================] - 0s 12ms/step - loss: 1.5921e-04\n",
            "Epoch 44/100\n",
            "19/19 [==============================] - 0s 12ms/step - loss: 1.5299e-04\n",
            "Epoch 45/100\n",
            "19/19 [==============================] - 0s 12ms/step - loss: 1.5962e-04\n",
            "Epoch 46/100\n",
            "19/19 [==============================] - 0s 12ms/step - loss: 1.5717e-04\n",
            "Epoch 47/100\n",
            "19/19 [==============================] - 0s 12ms/step - loss: 1.7198e-04\n",
            "Epoch 48/100\n",
            "19/19 [==============================] - 0s 12ms/step - loss: 1.8679e-04\n",
            "Epoch 49/100\n",
            "19/19 [==============================] - 0s 12ms/step - loss: 1.5927e-04\n",
            "Epoch 50/100\n",
            "19/19 [==============================] - 0s 12ms/step - loss: 1.4184e-04\n",
            "Epoch 51/100\n",
            "19/19 [==============================] - 0s 11ms/step - loss: 1.4465e-04\n",
            "Epoch 52/100\n",
            "19/19 [==============================] - 0s 12ms/step - loss: 1.4910e-04\n",
            "Epoch 53/100\n",
            "19/19 [==============================] - 0s 12ms/step - loss: 1.4298e-04\n",
            "Epoch 54/100\n",
            "19/19 [==============================] - 0s 12ms/step - loss: 1.3209e-04\n",
            "Epoch 55/100\n",
            "19/19 [==============================] - 0s 12ms/step - loss: 1.2852e-04\n",
            "Epoch 56/100\n",
            "19/19 [==============================] - 0s 12ms/step - loss: 1.3051e-04\n",
            "Epoch 57/100\n",
            "19/19 [==============================] - 0s 11ms/step - loss: 1.3410e-04\n",
            "Epoch 58/100\n",
            "19/19 [==============================] - 0s 12ms/step - loss: 1.3362e-04\n",
            "Epoch 59/100\n",
            "19/19 [==============================] - 0s 12ms/step - loss: 1.3936e-04\n",
            "Epoch 60/100\n",
            "19/19 [==============================] - 0s 13ms/step - loss: 1.4041e-04\n",
            "Epoch 61/100\n",
            "19/19 [==============================] - 0s 11ms/step - loss: 1.4210e-04\n",
            "Epoch 62/100\n",
            "19/19 [==============================] - 0s 12ms/step - loss: 1.2942e-04\n",
            "Epoch 63/100\n",
            "19/19 [==============================] - 0s 12ms/step - loss: 1.3654e-04\n",
            "Epoch 64/100\n",
            "19/19 [==============================] - 0s 12ms/step - loss: 1.2275e-04\n",
            "Epoch 65/100\n",
            "19/19 [==============================] - 0s 12ms/step - loss: 1.2857e-04\n",
            "Epoch 66/100\n",
            "19/19 [==============================] - 0s 12ms/step - loss: 1.2928e-04\n",
            "Epoch 67/100\n",
            "19/19 [==============================] - 0s 12ms/step - loss: 1.5458e-04\n",
            "Epoch 68/100\n",
            "19/19 [==============================] - 0s 12ms/step - loss: 1.3367e-04\n",
            "Epoch 69/100\n",
            "19/19 [==============================] - 0s 12ms/step - loss: 1.1982e-04\n",
            "Epoch 70/100\n",
            "19/19 [==============================] - 0s 11ms/step - loss: 1.2251e-04\n",
            "Epoch 71/100\n",
            "19/19 [==============================] - 0s 11ms/step - loss: 1.2563e-04\n",
            "Epoch 72/100\n",
            "19/19 [==============================] - 0s 12ms/step - loss: 1.1890e-04\n",
            "Epoch 73/100\n",
            "19/19 [==============================] - 0s 13ms/step - loss: 1.2881e-04\n",
            "Epoch 74/100\n",
            "19/19 [==============================] - 0s 13ms/step - loss: 1.2734e-04\n",
            "Epoch 75/100\n",
            "19/19 [==============================] - 0s 12ms/step - loss: 1.3776e-04\n",
            "Epoch 76/100\n",
            "19/19 [==============================] - 0s 11ms/step - loss: 1.4387e-04\n",
            "Epoch 77/100\n",
            "19/19 [==============================] - 0s 12ms/step - loss: 1.2734e-04\n",
            "Epoch 78/100\n",
            "19/19 [==============================] - 0s 12ms/step - loss: 1.1360e-04\n",
            "Epoch 79/100\n",
            "19/19 [==============================] - 0s 11ms/step - loss: 1.1982e-04\n",
            "Epoch 80/100\n",
            "19/19 [==============================] - 0s 11ms/step - loss: 1.1490e-04\n",
            "Epoch 81/100\n",
            "19/19 [==============================] - 0s 16ms/step - loss: 1.1771e-04\n",
            "Epoch 82/100\n",
            "19/19 [==============================] - 0s 19ms/step - loss: 1.1926e-04\n",
            "Epoch 83/100\n",
            "19/19 [==============================] - 0s 19ms/step - loss: 1.1338e-04\n",
            "Epoch 84/100\n",
            "19/19 [==============================] - 0s 21ms/step - loss: 1.1018e-04\n",
            "Epoch 85/100\n",
            "19/19 [==============================] - 0s 21ms/step - loss: 1.1240e-04\n",
            "Epoch 86/100\n",
            "19/19 [==============================] - 0s 20ms/step - loss: 1.1504e-04\n",
            "Epoch 87/100\n",
            "19/19 [==============================] - 0s 20ms/step - loss: 1.1460e-04\n",
            "Epoch 88/100\n",
            "19/19 [==============================] - 0s 20ms/step - loss: 1.1537e-04\n",
            "Epoch 89/100\n",
            "19/19 [==============================] - 0s 14ms/step - loss: 1.2782e-04\n",
            "Epoch 90/100\n",
            "19/19 [==============================] - 0s 13ms/step - loss: 1.1385e-04\n",
            "Epoch 91/100\n",
            "19/19 [==============================] - 0s 13ms/step - loss: 1.1294e-04\n",
            "Epoch 92/100\n",
            "19/19 [==============================] - 0s 13ms/step - loss: 1.1107e-04\n",
            "Epoch 93/100\n",
            "19/19 [==============================] - 0s 12ms/step - loss: 1.3141e-04\n",
            "Epoch 94/100\n",
            "19/19 [==============================] - 0s 13ms/step - loss: 1.1629e-04\n",
            "Epoch 95/100\n",
            "19/19 [==============================] - 0s 12ms/step - loss: 1.1521e-04\n",
            "Epoch 96/100\n",
            "19/19 [==============================] - 0s 12ms/step - loss: 1.1459e-04\n",
            "Epoch 97/100\n",
            "19/19 [==============================] - 0s 12ms/step - loss: 1.1245e-04\n",
            "Epoch 98/100\n",
            "19/19 [==============================] - 0s 13ms/step - loss: 1.0702e-04\n",
            "Epoch 99/100\n",
            "19/19 [==============================] - 0s 11ms/step - loss: 1.1773e-04\n",
            "Epoch 100/100\n",
            "19/19 [==============================] - 0s 12ms/step - loss: 1.0349e-04\n"
          ]
        },
        {
          "output_type": "execute_result",
          "data": {
            "text/plain": [
              "<keras.callbacks.History at 0x7f994645ab60>"
            ]
          },
          "metadata": {},
          "execution_count": 51
        }
      ]
    },
    {
      "cell_type": "code",
      "source": [
        "# 10. Dự báo dữ liệu test, val\n",
        "train_predict=model.predict(X_train)\n",
        "y_pred=model.predict(X_test)\n"
      ],
      "metadata": {
        "colab": {
          "base_uri": "https://localhost:8080/"
        },
        "outputId": "5dacaf2c-9789-453a-b6d7-654b142dea7d",
        "id": "Xp21hHtjmdxM"
      },
      "execution_count": null,
      "outputs": [
        {
          "output_type": "stream",
          "name": "stdout",
          "text": [
            "38/38 [==============================] - 0s 4ms/step\n",
            "7/7 [==============================] - 0s 4ms/step\n"
          ]
        }
      ]
    },
    {
      "cell_type": "code",
      "source": [
        "# 11. Chuẩn hóa dữ liệu y_pred, y_pred_val\n",
        "train_predict=scaler.inverse_transform(train_predict)\n",
        "y_pred=scaler.inverse_transform(y_pred)\n"
      ],
      "metadata": {
        "id": "w8F8Om7BmdxM"
      },
      "execution_count": null,
      "outputs": []
    },
    {
      "cell_type": "code",
      "source": [
        "# 12. Đánh giá độ chính xác thuật toán bằng RMSE\n",
        "test_rmse = np.sqrt(np.mean((y_pred - ytest)**2))\n",
        "test_mape= mean_absolute_percentage_error(y_pred,ytest)\n",
        "print('Testing RMSE:', test_rmse)\n",
        "print('Testing MAPE:', test_mape)"
      ],
      "metadata": {
        "colab": {
          "base_uri": "https://localhost:8080/"
        },
        "outputId": "2e5d2c0a-5fa4-47ce-887b-072d1ab5857f",
        "id": "5EUMbd0qmdxM"
      },
      "execution_count": null,
      "outputs": [
        {
          "output_type": "stream",
          "name": "stdout",
          "text": [
            "Testing RMSE: 0.07156341714326014\n",
            "Testing MAPE: 0.015071457575256004\n"
          ]
        }
      ]
    },
    {
      "cell_type": "code",
      "source": [
        "# 14.Vẽ hình\n",
        "train_data_index = pd.RangeIndex(start=0, stop=train_size, step=1)\n",
        "plt.plot(scaler.inverse_transform(train_data))\n",
        "test_data_index = pd.RangeIndex(start=train_size, stop=train_size+test_size, step=1)\n",
        "plt.plot(test_data_index,scaler.inverse_transform(test_data))\n",
        "test_data_index = pd.RangeIndex(start=train_size+101, stop=train_size+test_size, step=1)\n",
        "plt.plot(test_data_index,(y_pred))\n",
        "\n",
        "\n",
        "plt.legend(['Train','Test','Predict'])\n",
        "plt.show()"
      ],
      "metadata": {
        "colab": {
          "base_uri": "https://localhost:8080/"
        },
        "outputId": "f3b97d5c-be93-471a-debe-0f3c3a42d63f",
        "id": "fGRfLiVxmdxM"
      },
      "execution_count": null,
      "outputs": [
        {
          "output_type": "display_data",
          "data": {
            "text/plain": [
              "<Figure size 640x480 with 1 Axes>"
            ],
            "image/png": "[encoded data removed]"
          },
          "metadata": {}
        }
      ]
    },
    {
      "cell_type": "markdown",
      "source": [
        "7.5:2.5"
      ],
      "metadata": {
        "id": "ctKF_iUhmdxM"
      }
    },
    {
      "cell_type": "code",
      "source": [
        "# 3. Scaler data\n",
        "scaler=MinMaxScaler(feature_range=(0,1))\n",
        "df1=scaler.fit_transform(np.array(df1).reshape(-1,1))"
      ],
      "metadata": {
        "id": "AxpG1clemdxN"
      },
      "execution_count": null,
      "outputs": []
    },
    {
      "cell_type": "code",
      "source": [
        "# 4. Chia train test\n",
        "train_size = int(0.75 * len(df1))\n",
        "test_size = len(df1) - train_size\n",
        "\n",
        "train_data = df1[:train_size]\n",
        "test_data = df1[train_size:train_size+test_size]"
      ],
      "metadata": {
        "id": "XXp33-J5mdxN"
      },
      "execution_count": null,
      "outputs": []
    },
    {
      "cell_type": "code",
      "source": [
        "#6. Reshape into X=t,t+1,t+2..t+99 and Y=t+100\n",
        "\n",
        "time_step = 100\n",
        "X_train, y_train = create_dataset(train_data, time_step)\n",
        "X_test, ytest = create_dataset(test_data, time_step)"
      ],
      "metadata": {
        "id": "eg3kSxd8mdxN"
      },
      "execution_count": null,
      "outputs": []
    },
    {
      "cell_type": "code",
      "source": [
        "# 7. Reshape input to be [samples, time steps, features] which is required for LSTM\n",
        "X_train =X_train.reshape(X_train.shape[0],X_train.shape[1] , 1)\n",
        "X_test = X_test.reshape(X_test.shape[0],X_test.shape[1] , 1)"
      ],
      "metadata": {
        "id": "tLmUCIW9mdxN"
      },
      "execution_count": null,
      "outputs": []
    },
    {
      "cell_type": "code",
      "source": [
        "# 8. Define LSTM Model\n",
        "\n",
        "model = Sequential()\n",
        "model.add(SimpleRNN(50, input_shape=(time_step, 1)))\n",
        "model.add(Dense(1))\n",
        "model.compile(loss='mean_squared_error',optimizer='adam')"
      ],
      "metadata": {
        "id": "eLcpyQAEmdxN"
      },
      "execution_count": null,
      "outputs": []
    },
    {
      "cell_type": "code",
      "source": [
        "# 9. Fit mô hình với dữ liệu train\n",
        "model.fit(X_train,y_train,epochs=100,batch_size=64,verbose=1)"
      ],
      "metadata": {
        "colab": {
          "base_uri": "https://localhost:8080/"
        },
        "outputId": "e8c01b7e-8c33-49cd-8441-601cfb6ff7de",
        "id": "JW3zvBPAmdxN"
      },
      "execution_count": null,
      "outputs": [
        {
          "output_type": "stream",
          "name": "stdout",
          "text": [
            "Epoch 1/100\n",
            "18/18 [==============================] - 1s 13ms/step - loss: 0.0333\n",
            "Epoch 2/100\n",
            "18/18 [==============================] - 0s 12ms/step - loss: 0.0011\n",
            "Epoch 3/100\n",
            "18/18 [==============================] - 0s 11ms/step - loss: 4.2776e-04\n",
            "Epoch 4/100\n",
            "18/18 [==============================] - 0s 12ms/step - loss: 3.8369e-04\n",
            "Epoch 5/100\n",
            "18/18 [==============================] - 0s 12ms/step - loss: 3.2516e-04\n",
            "Epoch 6/100\n",
            "18/18 [==============================] - 0s 12ms/step - loss: 2.9924e-04\n",
            "Epoch 7/100\n",
            "18/18 [==============================] - 0s 11ms/step - loss: 2.7005e-04\n",
            "Epoch 8/100\n",
            "18/18 [==============================] - 0s 11ms/step - loss: 2.5433e-04\n",
            "Epoch 9/100\n",
            "18/18 [==============================] - 0s 12ms/step - loss: 2.3889e-04\n",
            "Epoch 10/100\n",
            "18/18 [==============================] - 0s 11ms/step - loss: 2.2657e-04\n",
            "Epoch 11/100\n",
            "18/18 [==============================] - 0s 11ms/step - loss: 2.1689e-04\n",
            "Epoch 12/100\n",
            "18/18 [==============================] - 0s 11ms/step - loss: 2.1182e-04\n",
            "Epoch 13/100\n",
            "18/18 [==============================] - 0s 12ms/step - loss: 2.1095e-04\n",
            "Epoch 14/100\n",
            "18/18 [==============================] - 0s 12ms/step - loss: 2.0253e-04\n",
            "Epoch 15/100\n",
            "18/18 [==============================] - 0s 12ms/step - loss: 2.0135e-04\n",
            "Epoch 16/100\n",
            "18/18 [==============================] - 0s 11ms/step - loss: 1.8594e-04\n",
            "Epoch 17/100\n",
            "18/18 [==============================] - 0s 12ms/step - loss: 1.8422e-04\n",
            "Epoch 18/100\n",
            "18/18 [==============================] - 0s 14ms/step - loss: 1.8912e-04\n",
            "Epoch 19/100\n",
            "18/18 [==============================] - 0s 13ms/step - loss: 1.7470e-04\n",
            "Epoch 20/100\n",
            "18/18 [==============================] - 0s 12ms/step - loss: 1.8305e-04\n",
            "Epoch 21/100\n",
            "18/18 [==============================] - 0s 12ms/step - loss: 1.8044e-04\n",
            "Epoch 22/100\n",
            "18/18 [==============================] - 0s 14ms/step - loss: 1.6440e-04\n",
            "Epoch 23/100\n",
            "18/18 [==============================] - 0s 13ms/step - loss: 1.6273e-04\n",
            "Epoch 24/100\n",
            "18/18 [==============================] - 0s 12ms/step - loss: 1.6412e-04\n",
            "Epoch 25/100\n",
            "18/18 [==============================] - 0s 12ms/step - loss: 1.6621e-04\n",
            "Epoch 26/100\n",
            "18/18 [==============================] - 0s 17ms/step - loss: 1.5632e-04\n",
            "Epoch 27/100\n",
            "18/18 [==============================] - 0s 20ms/step - loss: 1.5976e-04\n",
            "Epoch 28/100\n",
            "18/18 [==============================] - 0s 19ms/step - loss: 1.5145e-04\n",
            "Epoch 29/100\n",
            "18/18 [==============================] - 0s 20ms/step - loss: 1.4840e-04\n",
            "Epoch 30/100\n",
            "18/18 [==============================] - 0s 21ms/step - loss: 1.4752e-04\n",
            "Epoch 31/100\n",
            "18/18 [==============================] - 0s 19ms/step - loss: 1.5118e-04\n",
            "Epoch 32/100\n",
            "18/18 [==============================] - 0s 20ms/step - loss: 1.5819e-04\n",
            "Epoch 33/100\n",
            "18/18 [==============================] - 0s 21ms/step - loss: 1.5051e-04\n",
            "Epoch 34/100\n",
            "18/18 [==============================] - 0s 20ms/step - loss: 1.4579e-04\n",
            "Epoch 35/100\n",
            "18/18 [==============================] - 0s 12ms/step - loss: 1.4444e-04\n",
            "Epoch 36/100\n",
            "18/18 [==============================] - 0s 14ms/step - loss: 1.3810e-04\n",
            "Epoch 37/100\n",
            "18/18 [==============================] - 0s 11ms/step - loss: 1.3902e-04\n",
            "Epoch 38/100\n",
            "18/18 [==============================] - 0s 11ms/step - loss: 1.6642e-04\n",
            "Epoch 39/100\n",
            "18/18 [==============================] - 0s 12ms/step - loss: 1.4477e-04\n",
            "Epoch 40/100\n",
            "18/18 [==============================] - 0s 13ms/step - loss: 1.3386e-04\n",
            "Epoch 41/100\n",
            "18/18 [==============================] - 0s 12ms/step - loss: 1.3277e-04\n",
            "Epoch 42/100\n",
            "18/18 [==============================] - 0s 11ms/step - loss: 1.3759e-04\n",
            "Epoch 43/100\n",
            "18/18 [==============================] - 0s 12ms/step - loss: 1.3293e-04\n",
            "Epoch 44/100\n",
            "18/18 [==============================] - 0s 12ms/step - loss: 1.3138e-04\n",
            "Epoch 45/100\n",
            "18/18 [==============================] - 0s 12ms/step - loss: 1.2811e-04\n",
            "Epoch 46/100\n",
            "18/18 [==============================] - 0s 12ms/step - loss: 1.2924e-04\n",
            "Epoch 47/100\n",
            "18/18 [==============================] - 0s 13ms/step - loss: 1.2588e-04\n",
            "Epoch 48/100\n",
            "18/18 [==============================] - 0s 12ms/step - loss: 1.2422e-04\n",
            "Epoch 49/100\n",
            "18/18 [==============================] - 0s 12ms/step - loss: 1.2783e-04\n",
            "Epoch 50/100\n",
            "18/18 [==============================] - 0s 13ms/step - loss: 1.2548e-04\n",
            "Epoch 51/100\n",
            "18/18 [==============================] - 0s 12ms/step - loss: 1.2318e-04\n",
            "Epoch 52/100\n",
            "18/18 [==============================] - 0s 12ms/step - loss: 1.2113e-04\n",
            "Epoch 53/100\n",
            "18/18 [==============================] - 0s 12ms/step - loss: 1.1984e-04\n",
            "Epoch 54/100\n",
            "18/18 [==============================] - 0s 12ms/step - loss: 1.4625e-04\n",
            "Epoch 55/100\n",
            "18/18 [==============================] - 0s 12ms/step - loss: 1.2973e-04\n",
            "Epoch 56/100\n",
            "18/18 [==============================] - 0s 12ms/step - loss: 1.4113e-04\n",
            "Epoch 57/100\n",
            "18/18 [==============================] - 0s 12ms/step - loss: 1.3272e-04\n",
            "Epoch 58/100\n",
            "18/18 [==============================] - 0s 12ms/step - loss: 1.1474e-04\n",
            "Epoch 59/100\n",
            "18/18 [==============================] - 0s 13ms/step - loss: 1.1908e-04\n",
            "Epoch 60/100\n",
            "18/18 [==============================] - 0s 11ms/step - loss: 1.2789e-04\n",
            "Epoch 61/100\n",
            "18/18 [==============================] - 0s 11ms/step - loss: 1.1737e-04\n",
            "Epoch 62/100\n",
            "18/18 [==============================] - 0s 12ms/step - loss: 1.1221e-04\n",
            "Epoch 63/100\n",
            "18/18 [==============================] - 0s 13ms/step - loss: 1.1387e-04\n",
            "Epoch 64/100\n",
            "18/18 [==============================] - 0s 11ms/step - loss: 1.1459e-04\n",
            "Epoch 65/100\n",
            "18/18 [==============================] - 0s 12ms/step - loss: 1.0923e-04\n",
            "Epoch 66/100\n",
            "18/18 [==============================] - 0s 12ms/step - loss: 1.2217e-04\n",
            "Epoch 67/100\n",
            "18/18 [==============================] - 0s 12ms/step - loss: 1.1193e-04\n",
            "Epoch 68/100\n",
            "18/18 [==============================] - 0s 12ms/step - loss: 1.1241e-04\n",
            "Epoch 69/100\n",
            "18/18 [==============================] - 0s 12ms/step - loss: 1.4278e-04\n",
            "Epoch 70/100\n",
            "18/18 [==============================] - 0s 12ms/step - loss: 1.4249e-04\n",
            "Epoch 71/100\n",
            "18/18 [==============================] - 0s 12ms/step - loss: 1.1645e-04\n",
            "Epoch 72/100\n",
            "18/18 [==============================] - 0s 12ms/step - loss: 1.1283e-04\n",
            "Epoch 73/100\n",
            "18/18 [==============================] - 0s 12ms/step - loss: 1.0957e-04\n",
            "Epoch 74/100\n",
            "18/18 [==============================] - 0s 12ms/step - loss: 1.1066e-04\n",
            "Epoch 75/100\n",
            "18/18 [==============================] - 0s 11ms/step - loss: 1.0486e-04\n",
            "Epoch 76/100\n",
            "18/18 [==============================] - 0s 12ms/step - loss: 1.1070e-04\n",
            "Epoch 77/100\n",
            "18/18 [==============================] - 0s 12ms/step - loss: 1.0727e-04\n",
            "Epoch 78/100\n",
            "18/18 [==============================] - 0s 12ms/step - loss: 1.0496e-04\n",
            "Epoch 79/100\n",
            "18/18 [==============================] - 0s 13ms/step - loss: 1.0832e-04\n",
            "Epoch 80/100\n",
            "18/18 [==============================] - 0s 21ms/step - loss: 1.1017e-04\n",
            "Epoch 81/100\n",
            "18/18 [==============================] - 0s 20ms/step - loss: 1.0560e-04\n",
            "Epoch 82/100\n",
            "18/18 [==============================] - 0s 19ms/step - loss: 1.0052e-04\n",
            "Epoch 83/100\n",
            "18/18 [==============================] - 0s 19ms/step - loss: 1.0167e-04\n",
            "Epoch 84/100\n",
            "18/18 [==============================] - 0s 18ms/step - loss: 1.0017e-04\n",
            "Epoch 85/100\n",
            "18/18 [==============================] - 0s 19ms/step - loss: 1.0685e-04\n",
            "Epoch 86/100\n",
            "18/18 [==============================] - 0s 19ms/step - loss: 9.6507e-05\n",
            "Epoch 87/100\n",
            "18/18 [==============================] - 0s 21ms/step - loss: 1.0903e-04\n",
            "Epoch 88/100\n",
            "18/18 [==============================] - 0s 17ms/step - loss: 1.0688e-04\n",
            "Epoch 89/100\n",
            "18/18 [==============================] - 0s 12ms/step - loss: 9.7233e-05\n",
            "Epoch 90/100\n",
            "18/18 [==============================] - 0s 12ms/step - loss: 9.9521e-05\n",
            "Epoch 91/100\n",
            "18/18 [==============================] - 0s 11ms/step - loss: 1.0257e-04\n",
            "Epoch 92/100\n",
            "18/18 [==============================] - 0s 12ms/step - loss: 1.1796e-04\n",
            "Epoch 93/100\n",
            "18/18 [==============================] - 0s 12ms/step - loss: 9.6649e-05\n",
            "Epoch 94/100\n",
            "18/18 [==============================] - 0s 12ms/step - loss: 9.9671e-05\n",
            "Epoch 95/100\n",
            "18/18 [==============================] - 0s 13ms/step - loss: 9.4817e-05\n",
            "Epoch 96/100\n",
            "18/18 [==============================] - 0s 12ms/step - loss: 1.0261e-04\n",
            "Epoch 97/100\n",
            "18/18 [==============================] - 0s 12ms/step - loss: 1.0403e-04\n",
            "Epoch 98/100\n",
            "18/18 [==============================] - 0s 13ms/step - loss: 9.4369e-05\n",
            "Epoch 99/100\n",
            "18/18 [==============================] - 0s 12ms/step - loss: 1.0071e-04\n",
            "Epoch 100/100\n",
            "18/18 [==============================] - 0s 12ms/step - loss: 9.3090e-05\n"
          ]
        },
        {
          "output_type": "execute_result",
          "data": {
            "text/plain": [
              "<keras.callbacks.History at 0x7f9945165d20>"
            ]
          },
          "metadata": {},
          "execution_count": 61
        }
      ]
    },
    {
      "cell_type": "code",
      "source": [
        "# 10. Dự báo dữ liệu test, val\n",
        "train_predict=model.predict(X_train)\n",
        "y_pred=model.predict(X_test)\n"
      ],
      "metadata": {
        "colab": {
          "base_uri": "https://localhost:8080/"
        },
        "outputId": "7f8ecb51-4ab0-41ac-a465-3c754722c195",
        "id": "rPTORWJDmdxO"
      },
      "execution_count": null,
      "outputs": [
        {
          "output_type": "stream",
          "name": "stdout",
          "text": [
            "35/35 [==============================] - 0s 4ms/step\n",
            "10/10 [==============================] - 0s 4ms/step\n"
          ]
        }
      ]
    },
    {
      "cell_type": "code",
      "source": [
        "# 11. Chuẩn hóa dữ liệu y_pred, y_pred_val\n",
        "train_predict=scaler.inverse_transform(train_predict)\n",
        "y_pred=scaler.inverse_transform(y_pred)\n"
      ],
      "metadata": {
        "id": "B2F-bLq8mdxO"
      },
      "execution_count": null,
      "outputs": []
    },
    {
      "cell_type": "code",
      "source": [
        "# 12. Đánh giá độ chính xác thuật toán bằng RMSE\n",
        "test_rmse = np.sqrt(np.mean((y_pred - ytest)**2))\n",
        "test_mape= mean_absolute_percentage_error(y_pred,ytest)\n",
        "print('Testing RMSE:', test_rmse)\n",
        "print('Testing MAPE:', test_mape)"
      ],
      "metadata": {
        "colab": {
          "base_uri": "https://localhost:8080/"
        },
        "outputId": "c09e665e-42c0-49a2-c764-ee02f4687388",
        "id": "VWWenLs-mdxO"
      },
      "execution_count": null,
      "outputs": [
        {
          "output_type": "stream",
          "name": "stdout",
          "text": [
            "Testing RMSE: 0.08952046981177446\n",
            "Testing MAPE: 0.021770097925939622\n"
          ]
        }
      ]
    },
    {
      "cell_type": "code",
      "source": [
        "# 14.Vẽ hình\n",
        "train_data_index = pd.RangeIndex(start=0, stop=train_size, step=1)\n",
        "plt.plot(scaler.inverse_transform(train_data))\n",
        "test_data_index = pd.RangeIndex(start=train_size, stop=train_size+test_size, step=1)\n",
        "plt.plot(test_data_index,scaler.inverse_transform(test_data))\n",
        "test_data_index = pd.RangeIndex(start=train_size+101, stop=train_size+test_size, step=1)\n",
        "plt.plot(test_data_index,(y_pred))\n",
        "\n",
        "\n",
        "plt.legend(['Train','Test','Predict'])\n",
        "plt.show()"
      ],
      "metadata": {
        "colab": {
          "base_uri": "https://localhost:8080/"
        },
        "outputId": "fd558758-ab47-42ad-b7bc-6013dc330730",
        "id": "At0qJ-AKmdxO"
      },
      "execution_count": null,
      "outputs": [
        {
          "output_type": "display_data",
          "data": {
            "text/plain": [
              "<Figure size 640x480 with 1 Axes>"
            ],
            "image/png": "[encoded data removed]"
          },
          "metadata": {}
        }
      ]
    },
    {
      "cell_type": "markdown",
      "source": [
        "# VCG"
      ],
      "metadata": {
        "id": "aS7Nbkc3mes3"
      }
    },
    {
      "cell_type": "markdown",
      "source": [
        "7:3"
      ],
      "metadata": {
        "id": "5aEQWMh9metB"
      }
    },
    {
      "cell_type": "code",
      "source": [
        "df, df1 = getRawData(2)"
      ],
      "metadata": {
        "id": "oTO_1ZPymetC"
      },
      "execution_count": null,
      "outputs": []
    },
    {
      "cell_type": "code",
      "source": [
        "# 3. Scaler data\n",
        "scaler=MinMaxScaler(feature_range=(0,1))\n",
        "df1=scaler.fit_transform(np.array(df1).reshape(-1,1))"
      ],
      "metadata": {
        "id": "PKXQYhsAmetC"
      },
      "execution_count": null,
      "outputs": []
    },
    {
      "cell_type": "code",
      "source": [
        "# 4. Chia train test\n",
        "train_size = int(0.7 * len(df1))\n",
        "test_size = len(df1) - train_size\n",
        "\n",
        "train_data = df1[:train_size]\n",
        "test_data = df1[train_size:train_size+test_size]"
      ],
      "metadata": {
        "id": "pdPA07L-metC"
      },
      "execution_count": null,
      "outputs": []
    },
    {
      "cell_type": "code",
      "source": [
        "#6. Reshape into X=t,t+1,t+2..t+99 and Y=t+100\n",
        "\n",
        "time_step = 100\n",
        "X_train, y_train = create_dataset(train_data, time_step)\n",
        "X_test, ytest = create_dataset(test_data, time_step)"
      ],
      "metadata": {
        "id": "sMUsC0A2metC"
      },
      "execution_count": null,
      "outputs": []
    },
    {
      "cell_type": "code",
      "source": [
        "# 7. Reshape input to be [samples, time steps, features] which is required for LSTM\n",
        "X_train =X_train.reshape(X_train.shape[0],X_train.shape[1] , 1)\n",
        "X_test = X_test.reshape(X_test.shape[0],X_test.shape[1] , 1)"
      ],
      "metadata": {
        "id": "GzddcAPkmetD"
      },
      "execution_count": null,
      "outputs": []
    },
    {
      "cell_type": "code",
      "source": [
        "# 8. Define LSTM Model\n",
        "\n",
        "model = Sequential()\n",
        "model.add(SimpleRNN(50, input_shape=(time_step, 1)))\n",
        "model.add(Dense(1))\n",
        "model.compile(loss='mean_squared_error',optimizer='adam')"
      ],
      "metadata": {
        "id": "-NUW7r2PmetD"
      },
      "execution_count": null,
      "outputs": []
    },
    {
      "cell_type": "code",
      "source": [
        "# 9. Fit mô hình với dữ liệu train\n",
        "model.fit(X_train,y_train,epochs=100,batch_size=64,verbose=1)"
      ],
      "metadata": {
        "colab": {
          "base_uri": "https://localhost:8080/"
        },
        "outputId": "5ac0d6bf-908f-4100-e239-61767268d6ab",
        "id": "DWFHX_K0metD"
      },
      "execution_count": null,
      "outputs": [
        {
          "output_type": "stream",
          "name": "stdout",
          "text": [
            "Epoch 1/100\n",
            "16/16 [==============================] - 1s 12ms/step - loss: 0.0156\n",
            "Epoch 2/100\n",
            "16/16 [==============================] - 0s 12ms/step - loss: 0.0011\n",
            "Epoch 3/100\n",
            "16/16 [==============================] - 0s 20ms/step - loss: 5.8192e-04\n",
            "Epoch 4/100\n",
            "16/16 [==============================] - 0s 19ms/step - loss: 4.1862e-04\n",
            "Epoch 5/100\n",
            "16/16 [==============================] - 0s 20ms/step - loss: 3.5930e-04\n",
            "Epoch 6/100\n",
            "16/16 [==============================] - 0s 21ms/step - loss: 3.2860e-04\n",
            "Epoch 7/100\n",
            "16/16 [==============================] - 0s 20ms/step - loss: 3.0938e-04\n",
            "Epoch 8/100\n",
            "16/16 [==============================] - 0s 21ms/step - loss: 2.8462e-04\n",
            "Epoch 9/100\n",
            "16/16 [==============================] - 0s 21ms/step - loss: 2.7156e-04\n",
            "Epoch 10/100\n",
            "16/16 [==============================] - 0s 21ms/step - loss: 2.5548e-04\n",
            "Epoch 11/100\n",
            "16/16 [==============================] - 0s 21ms/step - loss: 2.4313e-04\n",
            "Epoch 12/100\n",
            "16/16 [==============================] - 0s 16ms/step - loss: 2.3342e-04\n",
            "Epoch 13/100\n",
            "16/16 [==============================] - 0s 13ms/step - loss: 2.2643e-04\n",
            "Epoch 14/100\n",
            "16/16 [==============================] - 0s 13ms/step - loss: 2.3309e-04\n",
            "Epoch 15/100\n",
            "16/16 [==============================] - 0s 12ms/step - loss: 2.1118e-04\n",
            "Epoch 16/100\n",
            "16/16 [==============================] - 0s 12ms/step - loss: 2.0652e-04\n",
            "Epoch 17/100\n",
            "16/16 [==============================] - 0s 12ms/step - loss: 2.0671e-04\n",
            "Epoch 18/100\n",
            "16/16 [==============================] - 0s 13ms/step - loss: 2.0469e-04\n",
            "Epoch 19/100\n",
            "16/16 [==============================] - 0s 12ms/step - loss: 2.0727e-04\n",
            "Epoch 20/100\n",
            "16/16 [==============================] - 0s 12ms/step - loss: 1.8733e-04\n",
            "Epoch 21/100\n",
            "16/16 [==============================] - 0s 13ms/step - loss: 1.8280e-04\n",
            "Epoch 22/100\n",
            "16/16 [==============================] - 0s 11ms/step - loss: 1.8103e-04\n",
            "Epoch 23/100\n",
            "16/16 [==============================] - 0s 13ms/step - loss: 1.8703e-04\n",
            "Epoch 24/100\n",
            "16/16 [==============================] - 0s 13ms/step - loss: 1.8928e-04\n",
            "Epoch 25/100\n",
            "16/16 [==============================] - 0s 11ms/step - loss: 1.8721e-04\n",
            "Epoch 26/100\n",
            "16/16 [==============================] - 0s 11ms/step - loss: 1.9221e-04\n",
            "Epoch 27/100\n",
            "16/16 [==============================] - 0s 12ms/step - loss: 2.1007e-04\n",
            "Epoch 28/100\n",
            "16/16 [==============================] - 0s 12ms/step - loss: 2.0475e-04\n",
            "Epoch 29/100\n",
            "16/16 [==============================] - 0s 12ms/step - loss: 1.9282e-04\n",
            "Epoch 30/100\n",
            "16/16 [==============================] - 0s 12ms/step - loss: 1.9178e-04\n",
            "Epoch 31/100\n",
            "16/16 [==============================] - 0s 12ms/step - loss: 1.6803e-04\n",
            "Epoch 32/100\n",
            "16/16 [==============================] - 0s 11ms/step - loss: 1.8199e-04\n",
            "Epoch 33/100\n",
            "16/16 [==============================] - 0s 13ms/step - loss: 1.6700e-04\n",
            "Epoch 34/100\n",
            "16/16 [==============================] - 0s 13ms/step - loss: 1.6396e-04\n",
            "Epoch 35/100\n",
            "16/16 [==============================] - 0s 13ms/step - loss: 1.6049e-04\n",
            "Epoch 36/100\n",
            "16/16 [==============================] - 0s 12ms/step - loss: 1.5967e-04\n",
            "Epoch 37/100\n",
            "16/16 [==============================] - 0s 11ms/step - loss: 1.6103e-04\n",
            "Epoch 38/100\n",
            "16/16 [==============================] - 0s 13ms/step - loss: 1.5584e-04\n",
            "Epoch 39/100\n",
            "16/16 [==============================] - 0s 12ms/step - loss: 1.5344e-04\n",
            "Epoch 40/100\n",
            "16/16 [==============================] - 0s 11ms/step - loss: 1.6479e-04\n",
            "Epoch 41/100\n",
            "16/16 [==============================] - 0s 12ms/step - loss: 1.5497e-04\n",
            "Epoch 42/100\n",
            "16/16 [==============================] - 0s 12ms/step - loss: 1.6005e-04\n",
            "Epoch 43/100\n",
            "16/16 [==============================] - 0s 12ms/step - loss: 1.6604e-04\n",
            "Epoch 44/100\n",
            "16/16 [==============================] - 0s 12ms/step - loss: 1.8923e-04\n",
            "Epoch 45/100\n",
            "16/16 [==============================] - 0s 12ms/step - loss: 1.5460e-04\n",
            "Epoch 46/100\n",
            "16/16 [==============================] - 0s 11ms/step - loss: 1.8326e-04\n",
            "Epoch 47/100\n",
            "16/16 [==============================] - 0s 12ms/step - loss: 1.6211e-04\n",
            "Epoch 48/100\n",
            "16/16 [==============================] - 0s 12ms/step - loss: 1.6351e-04\n",
            "Epoch 49/100\n",
            "16/16 [==============================] - 0s 12ms/step - loss: 1.5728e-04\n",
            "Epoch 50/100\n",
            "16/16 [==============================] - 0s 11ms/step - loss: 1.5203e-04\n",
            "Epoch 51/100\n",
            "16/16 [==============================] - 0s 12ms/step - loss: 1.6552e-04\n",
            "Epoch 52/100\n",
            "16/16 [==============================] - 0s 11ms/step - loss: 1.5014e-04\n",
            "Epoch 53/100\n",
            "16/16 [==============================] - 0s 12ms/step - loss: 1.5148e-04\n",
            "Epoch 54/100\n",
            "16/16 [==============================] - 0s 12ms/step - loss: 1.7848e-04\n",
            "Epoch 55/100\n",
            "16/16 [==============================] - 0s 12ms/step - loss: 1.6749e-04\n",
            "Epoch 56/100\n",
            "16/16 [==============================] - 0s 12ms/step - loss: 1.5288e-04\n",
            "Epoch 57/100\n",
            "16/16 [==============================] - 0s 12ms/step - loss: 1.8714e-04\n",
            "Epoch 58/100\n",
            "16/16 [==============================] - 0s 12ms/step - loss: 1.5200e-04\n",
            "Epoch 59/100\n",
            "16/16 [==============================] - 0s 12ms/step - loss: 1.6534e-04\n",
            "Epoch 60/100\n",
            "16/16 [==============================] - 0s 12ms/step - loss: 1.5196e-04\n",
            "Epoch 61/100\n",
            "16/16 [==============================] - 0s 12ms/step - loss: 1.5787e-04\n",
            "Epoch 62/100\n",
            "16/16 [==============================] - 0s 12ms/step - loss: 1.5151e-04\n",
            "Epoch 63/100\n",
            "16/16 [==============================] - 0s 21ms/step - loss: 1.5695e-04\n",
            "Epoch 64/100\n",
            "16/16 [==============================] - 0s 20ms/step - loss: 1.5935e-04\n",
            "Epoch 65/100\n",
            "16/16 [==============================] - 0s 20ms/step - loss: 1.6643e-04\n",
            "Epoch 66/100\n",
            "16/16 [==============================] - 0s 21ms/step - loss: 1.8410e-04\n",
            "Epoch 67/100\n",
            "16/16 [==============================] - 0s 21ms/step - loss: 1.7441e-04\n",
            "Epoch 68/100\n",
            "16/16 [==============================] - 0s 20ms/step - loss: 1.5738e-04\n",
            "Epoch 69/100\n",
            "16/16 [==============================] - 0s 20ms/step - loss: 1.4306e-04\n",
            "Epoch 70/100\n",
            "16/16 [==============================] - 0s 20ms/step - loss: 1.7331e-04\n",
            "Epoch 71/100\n",
            "16/16 [==============================] - 0s 21ms/step - loss: 1.8841e-04\n",
            "Epoch 72/100\n",
            "16/16 [==============================] - 0s 13ms/step - loss: 1.5398e-04\n",
            "Epoch 73/100\n",
            "16/16 [==============================] - 0s 12ms/step - loss: 1.5515e-04\n",
            "Epoch 74/100\n",
            "16/16 [==============================] - 0s 13ms/step - loss: 1.5891e-04\n",
            "Epoch 75/100\n",
            "16/16 [==============================] - 0s 12ms/step - loss: 1.5007e-04\n",
            "Epoch 76/100\n",
            "16/16 [==============================] - 0s 12ms/step - loss: 1.4832e-04\n",
            "Epoch 77/100\n",
            "16/16 [==============================] - 0s 12ms/step - loss: 1.7490e-04\n",
            "Epoch 78/100\n",
            "16/16 [==============================] - 0s 12ms/step - loss: 1.5717e-04\n",
            "Epoch 79/100\n",
            "16/16 [==============================] - 0s 12ms/step - loss: 1.5663e-04\n",
            "Epoch 80/100\n",
            "16/16 [==============================] - 0s 11ms/step - loss: 1.7191e-04\n",
            "Epoch 81/100\n",
            "16/16 [==============================] - 0s 12ms/step - loss: 1.5612e-04\n",
            "Epoch 82/100\n",
            "16/16 [==============================] - 0s 12ms/step - loss: 1.5675e-04\n",
            "Epoch 83/100\n",
            "16/16 [==============================] - 0s 12ms/step - loss: 1.4861e-04\n",
            "Epoch 84/100\n",
            "16/16 [==============================] - 0s 13ms/step - loss: 1.6593e-04\n",
            "Epoch 85/100\n",
            "16/16 [==============================] - 0s 12ms/step - loss: 1.5183e-04\n",
            "Epoch 86/100\n",
            "16/16 [==============================] - 0s 13ms/step - loss: 1.6443e-04\n",
            "Epoch 87/100\n",
            "16/16 [==============================] - 0s 12ms/step - loss: 1.4869e-04\n",
            "Epoch 88/100\n",
            "16/16 [==============================] - 0s 13ms/step - loss: 1.5156e-04\n",
            "Epoch 89/100\n",
            "16/16 [==============================] - 0s 13ms/step - loss: 1.4445e-04\n",
            "Epoch 90/100\n",
            "16/16 [==============================] - 0s 13ms/step - loss: 1.4104e-04\n",
            "Epoch 91/100\n",
            "16/16 [==============================] - 0s 12ms/step - loss: 1.5332e-04\n",
            "Epoch 92/100\n",
            "16/16 [==============================] - 0s 11ms/step - loss: 1.4176e-04\n",
            "Epoch 93/100\n",
            "16/16 [==============================] - 0s 12ms/step - loss: 1.4614e-04\n",
            "Epoch 94/100\n",
            "16/16 [==============================] - 0s 12ms/step - loss: 2.0262e-04\n",
            "Epoch 95/100\n",
            "16/16 [==============================] - 0s 12ms/step - loss: 2.0679e-04\n",
            "Epoch 96/100\n",
            "16/16 [==============================] - 0s 13ms/step - loss: 1.4356e-04\n",
            "Epoch 97/100\n",
            "16/16 [==============================] - 0s 12ms/step - loss: 1.4058e-04\n",
            "Epoch 98/100\n",
            "16/16 [==============================] - 0s 12ms/step - loss: 1.5857e-04\n",
            "Epoch 99/100\n",
            "16/16 [==============================] - 0s 13ms/step - loss: 1.6307e-04\n",
            "Epoch 100/100\n",
            "16/16 [==============================] - 0s 13ms/step - loss: 1.4331e-04\n"
          ]
        },
        {
          "output_type": "execute_result",
          "data": {
            "text/plain": [
              "<keras.callbacks.History at 0x7f994629c5b0>"
            ]
          },
          "metadata": {},
          "execution_count": 72
        }
      ]
    },
    {
      "cell_type": "code",
      "source": [
        "# 10. Dự báo dữ liệu test, val\n",
        "train_predict=model.predict(X_train)\n",
        "y_pred=model.predict(X_test)\n"
      ],
      "metadata": {
        "colab": {
          "base_uri": "https://localhost:8080/"
        },
        "outputId": "fb78db82-43c8-46dd-858a-011d66e664a9",
        "id": "zR6Rh-6UmetD"
      },
      "execution_count": null,
      "outputs": [
        {
          "output_type": "stream",
          "name": "stdout",
          "text": [
            "32/32 [==============================] - 0s 4ms/step\n",
            "12/12 [==============================] - 0s 4ms/step\n"
          ]
        }
      ]
    },
    {
      "cell_type": "code",
      "source": [
        "# 11. Chuẩn hóa dữ liệu y_pred, y_pred_val\n",
        "train_predict=scaler.inverse_transform(train_predict)\n",
        "y_pred=scaler.inverse_transform(y_pred)\n"
      ],
      "metadata": {
        "id": "f7cOUvPumetD"
      },
      "execution_count": null,
      "outputs": []
    },
    {
      "cell_type": "code",
      "source": [
        "# 12. Đánh giá độ chính xác thuật toán bằng RMSE\n",
        "test_rmse = np.sqrt(np.mean((y_pred - ytest)**2))\n",
        "test_mape= mean_absolute_percentage_error(y_pred,ytest)\n",
        "print('Testing RMSE:', test_rmse)\n",
        "print('Testing MAPE:', test_mape)"
      ],
      "metadata": {
        "colab": {
          "base_uri": "https://localhost:8080/"
        },
        "outputId": "ad18c3a0-7554-42f6-a776-7b154d25f61a",
        "id": "6XlkWH_MmetE"
      },
      "execution_count": null,
      "outputs": [
        {
          "output_type": "stream",
          "name": "stdout",
          "text": [
            "Testing RMSE: 26281.19658539227\n",
            "Testing MAPE: 0.9999847794123149\n"
          ]
        }
      ]
    },
    {
      "cell_type": "code",
      "source": [
        "# 14.Vẽ hình\n",
        "train_data_index = pd.RangeIndex(start=0, stop=train_size, step=1)\n",
        "plt.plot(scaler.inverse_transform(train_data))\n",
        "test_data_index = pd.RangeIndex(start=train_size, stop=train_size+test_size, step=1)\n",
        "plt.plot(test_data_index,scaler.inverse_transform(test_data))\n",
        "test_data_index = pd.RangeIndex(start=train_size+101, stop=train_size+test_size, step=1)\n",
        "plt.plot(test_data_index,(y_pred))\n",
        "\n",
        "\n",
        "plt.legend(['Train','Test','Predict'])\n",
        "plt.show()"
      ],
      "metadata": {
        "colab": {
          "base_uri": "https://localhost:8080/"
        },
        "outputId": "ef86b9b2-6776-4b0f-e042-bc396cec825c",
        "id": "y-hV6SX8metE"
      },
      "execution_count": null,
      "outputs": [
        {
          "output_type": "display_data",
          "data": {
            "text/plain": [
              "<Figure size 640x480 with 1 Axes>"
            ],
            "image/png": "[encoded data removed]"
          },
          "metadata": {}
        }
      ]
    },
    {
      "cell_type": "markdown",
      "source": [
        "8:2"
      ],
      "metadata": {
        "id": "a6Beo7BSmetE"
      }
    },
    {
      "cell_type": "code",
      "source": [
        "# 3. Scaler data\n",
        "scaler=MinMaxScaler(feature_range=(0,1))\n",
        "df1=scaler.fit_transform(np.array(df1).reshape(-1,1))"
      ],
      "metadata": {
        "id": "2aeZE20cmetE"
      },
      "execution_count": null,
      "outputs": []
    },
    {
      "cell_type": "code",
      "source": [
        "# 4. Chia train test\n",
        "train_size = int(0.8 * len(df1))\n",
        "test_size = len(df1) - train_size\n",
        "\n",
        "train_data = df1[:train_size]\n",
        "test_data = df1[train_size:train_size+test_size]"
      ],
      "metadata": {
        "id": "7gNPxDgametF"
      },
      "execution_count": null,
      "outputs": []
    },
    {
      "cell_type": "code",
      "source": [
        "#6. Reshape into X=t,t+1,t+2..t+99 and Y=t+100\n",
        "\n",
        "time_step = 100\n",
        "X_train, y_train = create_dataset(train_data, time_step)\n",
        "X_test, ytest = create_dataset(test_data, time_step)"
      ],
      "metadata": {
        "id": "mdwq3qqCmetF"
      },
      "execution_count": null,
      "outputs": []
    },
    {
      "cell_type": "code",
      "source": [
        "# 7. Reshape input to be [samples, time steps, features] which is required for LSTM\n",
        "X_train =X_train.reshape(X_train.shape[0],X_train.shape[1] , 1)\n",
        "X_test = X_test.reshape(X_test.shape[0],X_test.shape[1] , 1)"
      ],
      "metadata": {
        "id": "6tH7uutOmetF"
      },
      "execution_count": null,
      "outputs": []
    },
    {
      "cell_type": "code",
      "source": [
        "# 8. Define LSTM Model\n",
        "\n",
        "model = Sequential()\n",
        "model.add(SimpleRNN(50, input_shape=(time_step, 1)))\n",
        "model.add(Dense(1))\n",
        "model.compile(loss='mean_squared_error',optimizer='adam')"
      ],
      "metadata": {
        "id": "ioZ5QydmmetF"
      },
      "execution_count": null,
      "outputs": []
    },
    {
      "cell_type": "code",
      "source": [
        "# 9. Fit mô hình với dữ liệu train\n",
        "model.fit(X_train,y_train,epochs=100,batch_size=64,verbose=1)"
      ],
      "metadata": {
        "colab": {
          "base_uri": "https://localhost:8080/"
        },
        "outputId": "78f67839-bc7f-4d5c-b3d7-94483180b5a4",
        "id": "7auiBcJFmetF"
      },
      "execution_count": null,
      "outputs": [
        {
          "output_type": "stream",
          "name": "stdout",
          "text": [
            "Epoch 1/100\n",
            "19/19 [==============================] - 1s 13ms/step - loss: 0.0184\n",
            "Epoch 2/100\n",
            "19/19 [==============================] - 0s 12ms/step - loss: 0.0012\n",
            "Epoch 3/100\n",
            "19/19 [==============================] - 0s 12ms/step - loss: 5.7176e-04\n",
            "Epoch 4/100\n",
            "19/19 [==============================] - 0s 13ms/step - loss: 4.1392e-04\n",
            "Epoch 5/100\n",
            "19/19 [==============================] - 0s 14ms/step - loss: 3.7681e-04\n",
            "Epoch 6/100\n",
            "19/19 [==============================] - 0s 12ms/step - loss: 3.6924e-04\n",
            "Epoch 7/100\n",
            "19/19 [==============================] - 0s 13ms/step - loss: 3.5489e-04\n",
            "Epoch 8/100\n",
            "19/19 [==============================] - 0s 12ms/step - loss: 3.5181e-04\n",
            "Epoch 9/100\n",
            "19/19 [==============================] - 0s 12ms/step - loss: 3.5014e-04\n",
            "Epoch 10/100\n",
            "19/19 [==============================] - 0s 15ms/step - loss: 3.5132e-04\n",
            "Epoch 11/100\n",
            "19/19 [==============================] - 0s 20ms/step - loss: 3.2977e-04\n",
            "Epoch 12/100\n",
            "19/19 [==============================] - 0s 20ms/step - loss: 3.1932e-04\n",
            "Epoch 13/100\n",
            "19/19 [==============================] - 0s 18ms/step - loss: 3.1497e-04\n",
            "Epoch 14/100\n",
            "19/19 [==============================] - 0s 20ms/step - loss: 3.1005e-04\n",
            "Epoch 15/100\n",
            "19/19 [==============================] - 0s 20ms/step - loss: 3.0492e-04\n",
            "Epoch 16/100\n",
            "19/19 [==============================] - 0s 20ms/step - loss: 3.0584e-04\n",
            "Epoch 17/100\n",
            "19/19 [==============================] - 0s 22ms/step - loss: 3.1000e-04\n",
            "Epoch 18/100\n",
            "19/19 [==============================] - 0s 19ms/step - loss: 3.0136e-04\n",
            "Epoch 19/100\n",
            "19/19 [==============================] - 0s 12ms/step - loss: 2.9317e-04\n",
            "Epoch 20/100\n",
            "19/19 [==============================] - 0s 13ms/step - loss: 3.1135e-04\n",
            "Epoch 21/100\n",
            "19/19 [==============================] - 0s 13ms/step - loss: 2.9413e-04\n",
            "Epoch 22/100\n",
            "19/19 [==============================] - 0s 12ms/step - loss: 2.7683e-04\n",
            "Epoch 23/100\n",
            "19/19 [==============================] - 0s 12ms/step - loss: 2.8373e-04\n",
            "Epoch 24/100\n",
            "19/19 [==============================] - 0s 12ms/step - loss: 2.7622e-04\n",
            "Epoch 25/100\n",
            "19/19 [==============================] - 0s 13ms/step - loss: 2.6756e-04\n",
            "Epoch 26/100\n",
            "19/19 [==============================] - 0s 13ms/step - loss: 2.6447e-04\n",
            "Epoch 27/100\n",
            "19/19 [==============================] - 0s 12ms/step - loss: 2.7813e-04\n",
            "Epoch 28/100\n",
            "19/19 [==============================] - 0s 12ms/step - loss: 2.9997e-04\n",
            "Epoch 29/100\n",
            "19/19 [==============================] - 0s 13ms/step - loss: 2.6763e-04\n",
            "Epoch 30/100\n",
            "19/19 [==============================] - 0s 12ms/step - loss: 2.9011e-04\n",
            "Epoch 31/100\n",
            "19/19 [==============================] - 0s 13ms/step - loss: 2.7475e-04\n",
            "Epoch 32/100\n",
            "19/19 [==============================] - 0s 11ms/step - loss: 2.6216e-04\n",
            "Epoch 33/100\n",
            "19/19 [==============================] - 0s 13ms/step - loss: 2.7856e-04\n",
            "Epoch 34/100\n",
            "19/19 [==============================] - 0s 11ms/step - loss: 2.6103e-04\n",
            "Epoch 35/100\n",
            "19/19 [==============================] - 0s 12ms/step - loss: 2.7057e-04\n",
            "Epoch 36/100\n",
            "19/19 [==============================] - 0s 12ms/step - loss: 2.7840e-04\n",
            "Epoch 37/100\n",
            "19/19 [==============================] - 0s 12ms/step - loss: 2.8166e-04\n",
            "Epoch 38/100\n",
            "19/19 [==============================] - 0s 12ms/step - loss: 2.9041e-04\n",
            "Epoch 39/100\n",
            "19/19 [==============================] - 0s 12ms/step - loss: 2.6221e-04\n",
            "Epoch 40/100\n",
            "19/19 [==============================] - 0s 12ms/step - loss: 2.5409e-04\n",
            "Epoch 41/100\n",
            "19/19 [==============================] - 0s 12ms/step - loss: 2.5041e-04\n",
            "Epoch 42/100\n",
            "19/19 [==============================] - 0s 12ms/step - loss: 2.6100e-04\n",
            "Epoch 43/100\n",
            "19/19 [==============================] - 0s 12ms/step - loss: 2.4721e-04\n",
            "Epoch 44/100\n",
            "19/19 [==============================] - 0s 12ms/step - loss: 2.7838e-04\n",
            "Epoch 45/100\n",
            "19/19 [==============================] - 0s 12ms/step - loss: 2.7416e-04\n",
            "Epoch 46/100\n",
            "19/19 [==============================] - 0s 12ms/step - loss: 2.6910e-04\n",
            "Epoch 47/100\n",
            "19/19 [==============================] - 0s 12ms/step - loss: 2.5354e-04\n",
            "Epoch 48/100\n",
            "19/19 [==============================] - 0s 12ms/step - loss: 2.6259e-04\n",
            "Epoch 49/100\n",
            "19/19 [==============================] - 0s 12ms/step - loss: 2.6600e-04\n",
            "Epoch 50/100\n",
            "19/19 [==============================] - 0s 12ms/step - loss: 2.5573e-04\n",
            "Epoch 51/100\n",
            "19/19 [==============================] - 0s 12ms/step - loss: 2.6686e-04\n",
            "Epoch 52/100\n",
            "19/19 [==============================] - 0s 11ms/step - loss: 2.7637e-04\n",
            "Epoch 53/100\n",
            "19/19 [==============================] - 0s 26ms/step - loss: 2.4290e-04\n",
            "Epoch 54/100\n",
            "19/19 [==============================] - 0s 19ms/step - loss: 2.5195e-04\n",
            "Epoch 55/100\n",
            "19/19 [==============================] - 0s 12ms/step - loss: 2.7755e-04\n",
            "Epoch 56/100\n",
            "19/19 [==============================] - 0s 12ms/step - loss: 2.5000e-04\n",
            "Epoch 57/100\n",
            "19/19 [==============================] - 0s 12ms/step - loss: 2.4850e-04\n",
            "Epoch 58/100\n",
            "19/19 [==============================] - 0s 12ms/step - loss: 2.4666e-04\n",
            "Epoch 59/100\n",
            "19/19 [==============================] - 0s 18ms/step - loss: 2.7851e-04\n",
            "Epoch 60/100\n",
            "19/19 [==============================] - 0s 19ms/step - loss: 2.4722e-04\n",
            "Epoch 61/100\n",
            "19/19 [==============================] - 0s 20ms/step - loss: 2.6800e-04\n",
            "Epoch 62/100\n",
            "19/19 [==============================] - 0s 19ms/step - loss: 2.8276e-04\n",
            "Epoch 63/100\n",
            "19/19 [==============================] - 0s 21ms/step - loss: 2.7540e-04\n",
            "Epoch 64/100\n",
            "19/19 [==============================] - 0s 21ms/step - loss: 2.5484e-04\n",
            "Epoch 65/100\n",
            "19/19 [==============================] - 0s 20ms/step - loss: 2.4157e-04\n",
            "Epoch 66/100\n",
            "19/19 [==============================] - 0s 21ms/step - loss: 2.5618e-04\n",
            "Epoch 67/100\n",
            "19/19 [==============================] - 0s 13ms/step - loss: 2.5626e-04\n",
            "Epoch 68/100\n",
            "19/19 [==============================] - 0s 12ms/step - loss: 2.4866e-04\n",
            "Epoch 69/100\n",
            "19/19 [==============================] - 0s 12ms/step - loss: 2.4219e-04\n",
            "Epoch 70/100\n",
            "19/19 [==============================] - 0s 12ms/step - loss: 2.4806e-04\n",
            "Epoch 71/100\n",
            "19/19 [==============================] - 0s 12ms/step - loss: 2.4714e-04\n",
            "Epoch 72/100\n",
            "19/19 [==============================] - 0s 12ms/step - loss: 2.3951e-04\n",
            "Epoch 73/100\n",
            "19/19 [==============================] - 0s 12ms/step - loss: 2.3824e-04\n",
            "Epoch 74/100\n",
            "19/19 [==============================] - 0s 12ms/step - loss: 2.4779e-04\n",
            "Epoch 75/100\n",
            "19/19 [==============================] - 0s 13ms/step - loss: 2.4010e-04\n",
            "Epoch 76/100\n",
            "19/19 [==============================] - 0s 12ms/step - loss: 2.3367e-04\n",
            "Epoch 77/100\n",
            "19/19 [==============================] - 0s 13ms/step - loss: 2.7499e-04\n",
            "Epoch 78/100\n",
            "19/19 [==============================] - 0s 12ms/step - loss: 2.5543e-04\n",
            "Epoch 79/100\n",
            "19/19 [==============================] - 0s 12ms/step - loss: 2.5547e-04\n",
            "Epoch 80/100\n",
            "19/19 [==============================] - 0s 13ms/step - loss: 2.4178e-04\n",
            "Epoch 81/100\n",
            "19/19 [==============================] - 0s 12ms/step - loss: 2.3533e-04\n",
            "Epoch 82/100\n",
            "19/19 [==============================] - 0s 12ms/step - loss: 2.5821e-04\n",
            "Epoch 83/100\n",
            "19/19 [==============================] - 0s 13ms/step - loss: 2.5003e-04\n",
            "Epoch 84/100\n",
            "19/19 [==============================] - 0s 12ms/step - loss: 2.4950e-04\n",
            "Epoch 85/100\n",
            "19/19 [==============================] - 0s 12ms/step - loss: 2.9849e-04\n",
            "Epoch 86/100\n",
            "19/19 [==============================] - 0s 12ms/step - loss: 2.3351e-04\n",
            "Epoch 87/100\n",
            "19/19 [==============================] - 0s 13ms/step - loss: 2.4539e-04\n",
            "Epoch 88/100\n",
            "19/19 [==============================] - 0s 12ms/step - loss: 2.2480e-04\n",
            "Epoch 89/100\n",
            "19/19 [==============================] - 0s 12ms/step - loss: 2.2502e-04\n",
            "Epoch 90/100\n",
            "19/19 [==============================] - 0s 12ms/step - loss: 2.3441e-04\n",
            "Epoch 91/100\n",
            "19/19 [==============================] - 0s 11ms/step - loss: 2.3270e-04\n",
            "Epoch 92/100\n",
            "19/19 [==============================] - 0s 12ms/step - loss: 2.3616e-04\n",
            "Epoch 93/100\n",
            "19/19 [==============================] - 0s 12ms/step - loss: 2.2490e-04\n",
            "Epoch 94/100\n",
            "19/19 [==============================] - 0s 12ms/step - loss: 2.1655e-04\n",
            "Epoch 95/100\n",
            "19/19 [==============================] - 0s 12ms/step - loss: 2.2651e-04\n",
            "Epoch 96/100\n",
            "19/19 [==============================] - 0s 12ms/step - loss: 2.3934e-04\n",
            "Epoch 97/100\n",
            "19/19 [==============================] - 0s 12ms/step - loss: 2.7707e-04\n",
            "Epoch 98/100\n",
            "19/19 [==============================] - 0s 11ms/step - loss: 2.2713e-04\n",
            "Epoch 99/100\n",
            "19/19 [==============================] - 0s 12ms/step - loss: 2.3986e-04\n",
            "Epoch 100/100\n",
            "19/19 [==============================] - 0s 12ms/step - loss: 2.3935e-04\n"
          ]
        },
        {
          "output_type": "execute_result",
          "data": {
            "text/plain": [
              "<keras.callbacks.History at 0x7f99424afca0>"
            ]
          },
          "metadata": {},
          "execution_count": 82
        }
      ]
    },
    {
      "cell_type": "code",
      "source": [
        "# 10. Dự báo dữ liệu test, val\n",
        "train_predict=model.predict(X_train)\n",
        "y_pred=model.predict(X_test)\n"
      ],
      "metadata": {
        "colab": {
          "base_uri": "https://localhost:8080/"
        },
        "outputId": "910fa0d5-07e0-4d58-cd01-e870cbc56f25",
        "id": "xdJ5XELEmetF"
      },
      "execution_count": null,
      "outputs": [
        {
          "output_type": "stream",
          "name": "stdout",
          "text": [
            "37/37 [==============================] - 0s 4ms/step\n",
            "7/7 [==============================] - 0s 4ms/step\n"
          ]
        }
      ]
    },
    {
      "cell_type": "code",
      "source": [
        "# 11. Chuẩn hóa dữ liệu y_pred, y_pred_val\n",
        "train_predict=scaler.inverse_transform(train_predict)\n",
        "y_pred=scaler.inverse_transform(y_pred)\n"
      ],
      "metadata": {
        "id": "Xnx_1uwVmetG"
      },
      "execution_count": null,
      "outputs": []
    },
    {
      "cell_type": "code",
      "source": [
        "# 12. Đánh giá độ chính xác thuật toán bằng RMSE\n",
        "test_rmse = np.sqrt(np.mean((y_pred - ytest)**2))\n",
        "test_mape= mean_absolute_percentage_error(y_pred,ytest)\n",
        "print('Testing RMSE:', test_rmse)\n",
        "print('Testing MAPE:', test_mape)"
      ],
      "metadata": {
        "colab": {
          "base_uri": "https://localhost:8080/"
        },
        "outputId": "f10d928c-0823-4bd3-aa44-2c88b0ae8ed4",
        "id": "T-5D6iV6metG"
      },
      "execution_count": null,
      "outputs": [
        {
          "output_type": "stream",
          "name": "stdout",
          "text": [
            "Testing RMSE: 0.10355358453157402\n",
            "Testing MAPE: 0.071014583038221\n"
          ]
        }
      ]
    },
    {
      "cell_type": "code",
      "source": [
        "# 14.Vẽ hình\n",
        "train_data_index = pd.RangeIndex(start=0, stop=train_size, step=1)\n",
        "plt.plot(scaler.inverse_transform(train_data))\n",
        "test_data_index = pd.RangeIndex(start=train_size, stop=train_size+test_size, step=1)\n",
        "plt.plot(test_data_index,scaler.inverse_transform(test_data))\n",
        "test_data_index = pd.RangeIndex(start=train_size+101, stop=train_size+test_size, step=1)\n",
        "plt.plot(test_data_index,(y_pred))\n",
        "\n",
        "\n",
        "plt.legend(['Train','Test','Predict'])\n",
        "plt.show()"
      ],
      "metadata": {
        "colab": {
          "base_uri": "https://localhost:8080/",
          "height": 430
        },
        "outputId": "bf7c042c-6de2-4ab3-c635-d04619cc9be7",
        "id": "ZZmnlMzYmetG"
      },
      "execution_count": null,
      "outputs": [
        {
          "output_type": "display_data",
          "data": {
            "text/plain": [
              "<Figure size 640x480 with 1 Axes>"
            ],
            "image/png": "[encoded data removed]"
          },
          "metadata": {}
        }
      ]
    },
    {
      "cell_type": "markdown",
      "source": [],
      "metadata": {
        "id": "0mM5gEp7metG"
      }
    },
    {
      "cell_type": "markdown",
      "source": [
        "7.5:2.5"
      ],
      "metadata": {
        "id": "6dbTva8tmetG"
      }
    },
    {
      "cell_type": "code",
      "source": [
        "# 3. Scaler data\n",
        "scaler=MinMaxScaler(feature_range=(0,1))\n",
        "df1=scaler.fit_transform(np.array(df1).reshape(-1,1))"
      ],
      "metadata": {
        "id": "lHhBLSX3metH"
      },
      "execution_count": null,
      "outputs": []
    },
    {
      "cell_type": "code",
      "source": [
        "# 4. Chia train test\n",
        "train_size = int(0.75 * len(df1))\n",
        "test_size = len(df1) - train_size\n",
        "\n",
        "train_data = df1[:train_size]\n",
        "test_data = df1[train_size:train_size+test_size]"
      ],
      "metadata": {
        "id": "lZ7N9rKXmetH"
      },
      "execution_count": null,
      "outputs": []
    },
    {
      "cell_type": "code",
      "source": [
        "#6. Reshape into X=t,t+1,t+2..t+99 and Y=t+100\n",
        "\n",
        "time_step = 100\n",
        "X_train, y_train = create_dataset(train_data, time_step)\n",
        "X_test, ytest = create_dataset(test_data, time_step)"
      ],
      "metadata": {
        "id": "BGo4leUGmetH"
      },
      "execution_count": null,
      "outputs": []
    },
    {
      "cell_type": "code",
      "source": [
        "# 7. Reshape input to be [samples, time steps, features] which is required for LSTM\n",
        "X_train =X_train.reshape(X_train.shape[0],X_train.shape[1] , 1)\n",
        "X_test = X_test.reshape(X_test.shape[0],X_test.shape[1] , 1)"
      ],
      "metadata": {
        "id": "C7rTaIvxmetH"
      },
      "execution_count": null,
      "outputs": []
    },
    {
      "cell_type": "code",
      "source": [
        "# 8. Define LSTM Model\n",
        "\n",
        "model = Sequential()\n",
        "model.add(SimpleRNN(50, input_shape=(time_step, 1)))\n",
        "model.add(Dense(1))\n",
        "model.compile(loss='mean_squared_error',optimizer='adam')"
      ],
      "metadata": {
        "id": "WgZ_PpcOmetH"
      },
      "execution_count": null,
      "outputs": []
    },
    {
      "cell_type": "code",
      "source": [
        "# 9. Fit mô hình với dữ liệu train\n",
        "model.fit(X_train,y_train,epochs=100,batch_size=64,verbose=1)"
      ],
      "metadata": {
        "colab": {
          "base_uri": "https://localhost:8080/"
        },
        "outputId": "1dbdc8c2-e6cb-4996-f1b0-4e49a745d2b2",
        "id": "MpRtnrc6metI"
      },
      "execution_count": null,
      "outputs": [
        {
          "output_type": "stream",
          "name": "stdout",
          "text": [
            "Epoch 1/100\n",
            "18/18 [==============================] - 1s 12ms/step - loss: 0.0274\n",
            "Epoch 2/100\n",
            "18/18 [==============================] - 0s 20ms/step - loss: 6.4930e-04\n",
            "Epoch 3/100\n",
            "18/18 [==============================] - 0s 20ms/step - loss: 4.5521e-04\n",
            "Epoch 4/100\n",
            "18/18 [==============================] - 0s 19ms/step - loss: 3.9697e-04\n",
            "Epoch 5/100\n",
            "18/18 [==============================] - 0s 21ms/step - loss: 3.7402e-04\n",
            "Epoch 6/100\n",
            "18/18 [==============================] - 0s 19ms/step - loss: 3.5265e-04\n",
            "Epoch 7/100\n",
            "18/18 [==============================] - 0s 20ms/step - loss: 3.4010e-04\n",
            "Epoch 8/100\n",
            "18/18 [==============================] - 0s 19ms/step - loss: 3.1522e-04\n",
            "Epoch 9/100\n",
            "18/18 [==============================] - 0s 21ms/step - loss: 3.0053e-04\n",
            "Epoch 10/100\n",
            "18/18 [==============================] - 0s 20ms/step - loss: 2.8900e-04\n",
            "Epoch 11/100\n",
            "18/18 [==============================] - 0s 12ms/step - loss: 2.8239e-04\n",
            "Epoch 12/100\n",
            "18/18 [==============================] - 0s 12ms/step - loss: 2.8881e-04\n",
            "Epoch 13/100\n",
            "18/18 [==============================] - 0s 11ms/step - loss: 2.8668e-04\n",
            "Epoch 14/100\n",
            "18/18 [==============================] - 0s 12ms/step - loss: 2.6521e-04\n",
            "Epoch 15/100\n",
            "18/18 [==============================] - 0s 13ms/step - loss: 2.6751e-04\n",
            "Epoch 16/100\n",
            "18/18 [==============================] - 0s 12ms/step - loss: 2.4302e-04\n",
            "Epoch 17/100\n",
            "18/18 [==============================] - 0s 12ms/step - loss: 2.5695e-04\n",
            "Epoch 18/100\n",
            "18/18 [==============================] - 0s 12ms/step - loss: 2.3853e-04\n",
            "Epoch 19/100\n",
            "18/18 [==============================] - 0s 12ms/step - loss: 2.2580e-04\n",
            "Epoch 20/100\n",
            "18/18 [==============================] - 0s 13ms/step - loss: 2.1890e-04\n",
            "Epoch 21/100\n",
            "18/18 [==============================] - 0s 12ms/step - loss: 2.2246e-04\n",
            "Epoch 22/100\n",
            "18/18 [==============================] - 0s 12ms/step - loss: 2.1423e-04\n",
            "Epoch 23/100\n",
            "18/18 [==============================] - 0s 12ms/step - loss: 2.1424e-04\n",
            "Epoch 24/100\n",
            "18/18 [==============================] - 0s 12ms/step - loss: 2.1595e-04\n",
            "Epoch 25/100\n",
            "18/18 [==============================] - 0s 13ms/step - loss: 2.1629e-04\n",
            "Epoch 26/100\n",
            "18/18 [==============================] - 0s 11ms/step - loss: 2.0628e-04\n",
            "Epoch 27/100\n",
            "18/18 [==============================] - 0s 11ms/step - loss: 2.0503e-04\n",
            "Epoch 28/100\n",
            "18/18 [==============================] - 0s 12ms/step - loss: 2.0679e-04\n",
            "Epoch 29/100\n",
            "18/18 [==============================] - 0s 12ms/step - loss: 2.0695e-04\n",
            "Epoch 30/100\n",
            "18/18 [==============================] - 0s 12ms/step - loss: 1.9939e-04\n",
            "Epoch 31/100\n",
            "18/18 [==============================] - 0s 13ms/step - loss: 1.9546e-04\n",
            "Epoch 32/100\n",
            "18/18 [==============================] - 0s 11ms/step - loss: 1.9474e-04\n",
            "Epoch 33/100\n",
            "18/18 [==============================] - 0s 13ms/step - loss: 1.8722e-04\n",
            "Epoch 34/100\n",
            "18/18 [==============================] - 0s 12ms/step - loss: 1.9517e-04\n",
            "Epoch 35/100\n",
            "18/18 [==============================] - 0s 12ms/step - loss: 1.8950e-04\n",
            "Epoch 36/100\n",
            "18/18 [==============================] - 0s 11ms/step - loss: 1.8175e-04\n",
            "Epoch 37/100\n",
            "18/18 [==============================] - 0s 12ms/step - loss: 1.8548e-04\n",
            "Epoch 38/100\n",
            "18/18 [==============================] - 0s 13ms/step - loss: 1.8502e-04\n",
            "Epoch 39/100\n",
            "18/18 [==============================] - 0s 12ms/step - loss: 2.1943e-04\n",
            "Epoch 40/100\n",
            "18/18 [==============================] - 0s 12ms/step - loss: 1.9120e-04\n",
            "Epoch 41/100\n",
            "18/18 [==============================] - 0s 12ms/step - loss: 1.8734e-04\n",
            "Epoch 42/100\n",
            "18/18 [==============================] - 0s 12ms/step - loss: 1.9095e-04\n",
            "Epoch 43/100\n",
            "18/18 [==============================] - 0s 12ms/step - loss: 1.8542e-04\n",
            "Epoch 44/100\n",
            "18/18 [==============================] - 0s 12ms/step - loss: 1.7444e-04\n",
            "Epoch 45/100\n",
            "18/18 [==============================] - 0s 12ms/step - loss: 1.7416e-04\n",
            "Epoch 46/100\n",
            "18/18 [==============================] - 0s 12ms/step - loss: 1.8978e-04\n",
            "Epoch 47/100\n",
            "18/18 [==============================] - 0s 12ms/step - loss: 2.1022e-04\n",
            "Epoch 48/100\n",
            "18/18 [==============================] - 0s 12ms/step - loss: 1.7657e-04\n",
            "Epoch 49/100\n",
            "18/18 [==============================] - 0s 12ms/step - loss: 1.7406e-04\n",
            "Epoch 50/100\n",
            "18/18 [==============================] - 0s 12ms/step - loss: 1.7852e-04\n",
            "Epoch 51/100\n",
            "18/18 [==============================] - 0s 12ms/step - loss: 1.8042e-04\n",
            "Epoch 52/100\n",
            "18/18 [==============================] - 0s 12ms/step - loss: 1.8496e-04\n",
            "Epoch 53/100\n",
            "18/18 [==============================] - 0s 12ms/step - loss: 1.6983e-04\n",
            "Epoch 54/100\n",
            "18/18 [==============================] - 0s 13ms/step - loss: 1.8988e-04\n",
            "Epoch 55/100\n",
            "18/18 [==============================] - 0s 12ms/step - loss: 1.7411e-04\n",
            "Epoch 56/100\n",
            "18/18 [==============================] - 0s 20ms/step - loss: 1.7503e-04\n",
            "Epoch 57/100\n",
            "18/18 [==============================] - 0s 20ms/step - loss: 1.8916e-04\n",
            "Epoch 58/100\n",
            "18/18 [==============================] - 0s 19ms/step - loss: 1.6667e-04\n",
            "Epoch 59/100\n",
            "18/18 [==============================] - 0s 20ms/step - loss: 1.6213e-04\n",
            "Epoch 60/100\n",
            "18/18 [==============================] - 0s 19ms/step - loss: 1.7016e-04\n",
            "Epoch 61/100\n",
            "18/18 [==============================] - 0s 20ms/step - loss: 1.6966e-04\n",
            "Epoch 62/100\n",
            "18/18 [==============================] - 0s 20ms/step - loss: 1.6139e-04\n",
            "Epoch 63/100\n",
            "18/18 [==============================] - 0s 20ms/step - loss: 1.6731e-04\n",
            "Epoch 64/100\n",
            "18/18 [==============================] - 0s 17ms/step - loss: 1.7588e-04\n",
            "Epoch 65/100\n",
            "18/18 [==============================] - 0s 13ms/step - loss: 1.6445e-04\n",
            "Epoch 66/100\n",
            "18/18 [==============================] - 0s 12ms/step - loss: 1.6106e-04\n",
            "Epoch 67/100\n",
            "18/18 [==============================] - 0s 12ms/step - loss: 1.6070e-04\n",
            "Epoch 68/100\n",
            "18/18 [==============================] - 0s 12ms/step - loss: 1.6504e-04\n",
            "Epoch 69/100\n",
            "18/18 [==============================] - 0s 12ms/step - loss: 1.6061e-04\n",
            "Epoch 70/100\n",
            "18/18 [==============================] - 0s 12ms/step - loss: 1.5766e-04\n",
            "Epoch 71/100\n",
            "18/18 [==============================] - 0s 12ms/step - loss: 1.5606e-04\n",
            "Epoch 72/100\n",
            "18/18 [==============================] - 0s 12ms/step - loss: 1.6119e-04\n",
            "Epoch 73/100\n",
            "18/18 [==============================] - 0s 12ms/step - loss: 1.5576e-04\n",
            "Epoch 74/100\n",
            "18/18 [==============================] - 0s 12ms/step - loss: 1.8081e-04\n",
            "Epoch 75/100\n",
            "18/18 [==============================] - 0s 12ms/step - loss: 1.5735e-04\n",
            "Epoch 76/100\n",
            "18/18 [==============================] - 0s 13ms/step - loss: 1.5651e-04\n",
            "Epoch 77/100\n",
            "18/18 [==============================] - 0s 13ms/step - loss: 1.5421e-04\n",
            "Epoch 78/100\n",
            "18/18 [==============================] - 0s 13ms/step - loss: 1.5563e-04\n",
            "Epoch 79/100\n",
            "18/18 [==============================] - 0s 11ms/step - loss: 1.6210e-04\n",
            "Epoch 80/100\n",
            "18/18 [==============================] - 0s 11ms/step - loss: 1.5475e-04\n",
            "Epoch 81/100\n",
            "18/18 [==============================] - 0s 12ms/step - loss: 1.4929e-04\n",
            "Epoch 82/100\n",
            "18/18 [==============================] - 0s 12ms/step - loss: 1.4917e-04\n",
            "Epoch 83/100\n",
            "18/18 [==============================] - 0s 12ms/step - loss: 1.4553e-04\n",
            "Epoch 84/100\n",
            "18/18 [==============================] - 0s 13ms/step - loss: 1.6832e-04\n",
            "Epoch 85/100\n",
            "18/18 [==============================] - 0s 12ms/step - loss: 1.5950e-04\n",
            "Epoch 86/100\n",
            "18/18 [==============================] - 0s 12ms/step - loss: 1.5151e-04\n",
            "Epoch 87/100\n",
            "18/18 [==============================] - 0s 13ms/step - loss: 1.5492e-04\n",
            "Epoch 88/100\n",
            "18/18 [==============================] - 0s 12ms/step - loss: 1.4970e-04\n",
            "Epoch 89/100\n",
            "18/18 [==============================] - 0s 11ms/step - loss: 1.4694e-04\n",
            "Epoch 90/100\n",
            "18/18 [==============================] - 0s 12ms/step - loss: 1.6220e-04\n",
            "Epoch 91/100\n",
            "18/18 [==============================] - 0s 13ms/step - loss: 1.4599e-04\n",
            "Epoch 92/100\n",
            "18/18 [==============================] - 0s 12ms/step - loss: 1.5605e-04\n",
            "Epoch 93/100\n",
            "18/18 [==============================] - 0s 12ms/step - loss: 1.5480e-04\n",
            "Epoch 94/100\n",
            "18/18 [==============================] - 0s 12ms/step - loss: 1.4422e-04\n",
            "Epoch 95/100\n",
            "18/18 [==============================] - 0s 12ms/step - loss: 1.4184e-04\n",
            "Epoch 96/100\n",
            "18/18 [==============================] - 0s 12ms/step - loss: 1.5569e-04\n",
            "Epoch 97/100\n",
            "18/18 [==============================] - 0s 12ms/step - loss: 1.4366e-04\n",
            "Epoch 98/100\n",
            "18/18 [==============================] - 0s 12ms/step - loss: 1.6144e-04\n",
            "Epoch 99/100\n",
            "18/18 [==============================] - 0s 12ms/step - loss: 1.6122e-04\n",
            "Epoch 100/100\n",
            "18/18 [==============================] - 0s 12ms/step - loss: 1.5124e-04\n"
          ]
        },
        {
          "output_type": "execute_result",
          "data": {
            "text/plain": [
              "<keras.callbacks.History at 0x7f995ae41030>"
            ]
          },
          "metadata": {},
          "execution_count": 92
        }
      ]
    },
    {
      "cell_type": "code",
      "source": [
        "# 10. Dự báo dữ liệu test, val\n",
        "train_predict=model.predict(X_train)\n",
        "y_pred=model.predict(X_test)\n"
      ],
      "metadata": {
        "colab": {
          "base_uri": "https://localhost:8080/"
        },
        "outputId": "fcbab97b-b192-4597-dc86-8be528c44a10",
        "id": "RwZe94YQmetI"
      },
      "execution_count": null,
      "outputs": [
        {
          "output_type": "stream",
          "name": "stdout",
          "text": [
            "35/35 [==============================] - 0s 4ms/step\n",
            "10/10 [==============================] - 0s 4ms/step\n"
          ]
        }
      ]
    },
    {
      "cell_type": "code",
      "source": [
        "# 11. Chuẩn hóa dữ liệu y_pred, y_pred_val\n",
        "train_predict=scaler.inverse_transform(train_predict)\n",
        "y_pred=scaler.inverse_transform(y_pred)\n"
      ],
      "metadata": {
        "id": "CDW4qrQsmetI"
      },
      "execution_count": null,
      "outputs": []
    },
    {
      "cell_type": "code",
      "source": [
        "# 12. Đánh giá độ chính xác thuật toán bằng RMSE\n",
        "test_rmse = np.sqrt(np.mean((y_pred - ytest)**2))\n",
        "test_mape= mean_absolute_percentage_error(y_pred,ytest)\n",
        "print('Testing RMSE:', test_rmse)\n",
        "print('Testing MAPE:', test_mape)"
      ],
      "metadata": {
        "colab": {
          "base_uri": "https://localhost:8080/"
        },
        "outputId": "e6614ecd-682b-4825-d186-8aff5e48fb25",
        "id": "2DS183j-metI"
      },
      "execution_count": null,
      "outputs": [
        {
          "output_type": "stream",
          "name": "stdout",
          "text": [
            "Testing RMSE: 0.15761971801816524\n",
            "Testing MAPE: 0.06473896286865649\n"
          ]
        }
      ]
    },
    {
      "cell_type": "code",
      "source": [
        "# 14.Vẽ hình\n",
        "train_data_index = pd.RangeIndex(start=0, stop=train_size, step=1)\n",
        "plt.plot(scaler.inverse_transform(train_data))\n",
        "test_data_index = pd.RangeIndex(start=train_size, stop=train_size+test_size, step=1)\n",
        "plt.plot(test_data_index,scaler.inverse_transform(test_data))\n",
        "test_data_index = pd.RangeIndex(start=train_size+101, stop=train_size+test_size, step=1)\n",
        "plt.plot(test_data_index,(y_pred))\n",
        "\n",
        "\n",
        "plt.legend(['Train','Test','Predict'])\n",
        "plt.show()"
      ],
      "metadata": {
        "colab": {
          "base_uri": "https://localhost:8080/"
        },
        "outputId": "aa2a65f7-ebe7-4231-e8fa-293c83f04980",
        "id": "z8DKVyiVmetI"
      },
      "execution_count": null,
      "outputs": [
        {
          "output_type": "display_data",
          "data": {
            "text/plain": [
              "<Figure size 640x480 with 1 Axes>"
            ],
            "image/png": "[encoded data removed]"
          },
          "metadata": {}
        }
      ]
    }
  ],
  "metadata": {
    "colab": {
      "provenance": []
    },
    "kernelspec": {
      "display_name": "Python 3",
      "name": "python3"
    },
    "language_info": {
      "name": "python"
    }
  },
  "nbformat": 4,
  "nbformat_minor": 0
}