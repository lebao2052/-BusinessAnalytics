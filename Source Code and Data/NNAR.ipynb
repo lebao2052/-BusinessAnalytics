{
  "nbformat": 4,
  "nbformat_minor": 0,
  "metadata": {
    "colab": {
      "provenance": []
    },
    "kernelspec": {
      "name": "python3",
      "display_name": "Python 3"
    },
    "language_info": {
      "name": "python"
    }
  },
  "cells": [
    {
      "cell_type": "code",
      "source": [
        "# 1. Import thư viện cần thiết\n",
        "import numpy as np\n",
        "import pandas as pd\n",
        "import matplotlib.pyplot as plt\n",
        "from sklearn.preprocessing import MinMaxScaler\n",
        "from keras.models import Sequential\n",
        "from keras.layers import Dense, LSTM\n",
        "import numpy as np\n",
        "from sklearn.metrics import mean_absolute_percentage_error\n",
        "# 2. Đọc file csv và gắng index với giá Close\n",
        "df = pd.read_csv('VCG.csv')\n",
        "df1=df.reset_index()['Price']"
      ],
      "metadata": {
        "id": "8zs7xJSF61KZ"
      },
      "execution_count": 247,
      "outputs": []
    },
    {
      "cell_type": "markdown",
      "source": [
        "# Dự đoán theo tỉ lệ 9:1"
      ],
      "metadata": {
        "id": "XtQKFuxVLC73"
      }
    },
    {
      "cell_type": "code",
      "source": [
        "# Chuẩn bị dữ liệu\n",
        "data = np.array(df1)\n",
        "scaler = MinMaxScaler()\n",
        "data = scaler.fit_transform(data.reshape(-1, 1))\n",
        "\n",
        "# Chia dữ liệu thành chuỗi con\n",
        "window_size = 10\n",
        "X = []\n",
        "y = []\n",
        "for i in range(window_size, len(data)):\n",
        "    X.append(data[i-window_size:i, 0])\n",
        "    y.append(data[i, 0])\n",
        "X = np.array(X)\n",
        "y = np.array(y)\n",
        "\n",
        "# Chia dữ liệu thành tập huấn luyện và tập kiểm tra\n",
        "train_size = int(0.9 * len(df1))\n",
        "test_size = int(0.1 * len(df1))\n",
        "\n",
        "train_data = df1[:train_size]\n",
        "test_data = df1[train_size:train_size+test_size]\n",
        "X_train, X_test = X[:train_size], X[train_size:]\n",
        "y_train, y_test = y[:train_size], y[train_size:]"
      ],
      "metadata": {
        "id": "WjUYjij6_HTa"
      },
      "execution_count": 248,
      "outputs": []
    },
    {
      "cell_type": "code",
      "source": [
        "from tensorflow.keras.models import Sequential\n",
        "from tensorflow.keras.layers import LSTM, Dense\n",
        "\n",
        "# Xây dựng mô hình NNAR\n",
        "model = Sequential()\n",
        "model.add(LSTM(50, activation='relu', input_shape=(window_size, 1)))\n",
        "model.add(Dense(1))\n",
        "model.compile(optimizer='adam', loss='mse')\n",
        "\n",
        "# Huấn luyện mô hình\n",
        "model.fit(X_train, y_train, epochs=100, batch_size=64, validation_data=(X_test, y_test))\n"
      ],
      "metadata": {
        "colab": {
          "base_uri": "https://localhost:8080/"
        },
        "id": "QpmbMhjX9SOc",
        "outputId": "a8c1c526-6910-4a77-f8ef-48e41a4babea"
      },
      "execution_count": 249,
      "outputs": [
        {
          "output_type": "stream",
          "name": "stdout",
          "text": [
            "Epoch 1/100\n",
            "23/23 [==============================] - 2s 22ms/step - loss: 0.1583 - val_loss: 0.0240\n",
            "Epoch 2/100\n",
            "23/23 [==============================] - 0s 12ms/step - loss: 0.0478 - val_loss: 0.0028\n",
            "Epoch 3/100\n",
            "23/23 [==============================] - 0s 11ms/step - loss: 0.0063 - val_loss: 9.7110e-04\n",
            "Epoch 4/100\n",
            "23/23 [==============================] - 0s 16ms/step - loss: 0.0023 - val_loss: 0.0013\n",
            "Epoch 5/100\n",
            "23/23 [==============================] - 0s 17ms/step - loss: 0.0015 - val_loss: 8.7071e-04\n",
            "Epoch 6/100\n",
            "23/23 [==============================] - 0s 16ms/step - loss: 0.0011 - val_loss: 7.1279e-04\n",
            "Epoch 7/100\n",
            "23/23 [==============================] - 0s 17ms/step - loss: 0.0010 - val_loss: 7.2458e-04\n",
            "Epoch 8/100\n",
            "23/23 [==============================] - 0s 17ms/step - loss: 9.6765e-04 - val_loss: 7.2692e-04\n",
            "Epoch 9/100\n",
            "23/23 [==============================] - 0s 17ms/step - loss: 9.4074e-04 - val_loss: 7.7254e-04\n",
            "Epoch 10/100\n",
            "23/23 [==============================] - 0s 16ms/step - loss: 9.0400e-04 - val_loss: 7.2859e-04\n",
            "Epoch 11/100\n",
            "23/23 [==============================] - 0s 11ms/step - loss: 8.5865e-04 - val_loss: 7.0225e-04\n",
            "Epoch 12/100\n",
            "23/23 [==============================] - 0s 10ms/step - loss: 8.4004e-04 - val_loss: 7.2344e-04\n",
            "Epoch 13/100\n",
            "23/23 [==============================] - 0s 11ms/step - loss: 8.1953e-04 - val_loss: 6.6421e-04\n",
            "Epoch 14/100\n",
            "23/23 [==============================] - 0s 11ms/step - loss: 7.7642e-04 - val_loss: 6.6692e-04\n",
            "Epoch 15/100\n",
            "23/23 [==============================] - 0s 11ms/step - loss: 7.4585e-04 - val_loss: 6.7029e-04\n",
            "Epoch 16/100\n",
            "23/23 [==============================] - 0s 11ms/step - loss: 7.1710e-04 - val_loss: 6.6478e-04\n",
            "Epoch 17/100\n",
            "23/23 [==============================] - 0s 11ms/step - loss: 6.8745e-04 - val_loss: 6.4136e-04\n",
            "Epoch 18/100\n",
            "23/23 [==============================] - 0s 10ms/step - loss: 6.7900e-04 - val_loss: 6.5123e-04\n",
            "Epoch 19/100\n",
            "23/23 [==============================] - 0s 11ms/step - loss: 6.3174e-04 - val_loss: 6.9435e-04\n",
            "Epoch 20/100\n",
            "23/23 [==============================] - 0s 11ms/step - loss: 6.2090e-04 - val_loss: 6.3088e-04\n",
            "Epoch 21/100\n",
            "23/23 [==============================] - 0s 11ms/step - loss: 6.0038e-04 - val_loss: 6.1358e-04\n",
            "Epoch 22/100\n",
            "23/23 [==============================] - 0s 11ms/step - loss: 5.7500e-04 - val_loss: 6.2326e-04\n",
            "Epoch 23/100\n",
            "23/23 [==============================] - 0s 10ms/step - loss: 5.8625e-04 - val_loss: 6.4114e-04\n",
            "Epoch 24/100\n",
            "23/23 [==============================] - 0s 11ms/step - loss: 5.7741e-04 - val_loss: 6.0729e-04\n",
            "Epoch 25/100\n",
            "23/23 [==============================] - 0s 11ms/step - loss: 5.4938e-04 - val_loss: 6.0195e-04\n",
            "Epoch 26/100\n",
            "23/23 [==============================] - 0s 11ms/step - loss: 5.2665e-04 - val_loss: 6.0656e-04\n",
            "Epoch 27/100\n",
            "23/23 [==============================] - 0s 10ms/step - loss: 5.6342e-04 - val_loss: 6.6170e-04\n",
            "Epoch 28/100\n",
            "23/23 [==============================] - 0s 11ms/step - loss: 5.6692e-04 - val_loss: 5.6752e-04\n",
            "Epoch 29/100\n",
            "23/23 [==============================] - 0s 10ms/step - loss: 5.0950e-04 - val_loss: 6.4517e-04\n",
            "Epoch 30/100\n",
            "23/23 [==============================] - 0s 11ms/step - loss: 5.2574e-04 - val_loss: 5.6037e-04\n",
            "Epoch 31/100\n",
            "23/23 [==============================] - 0s 10ms/step - loss: 4.9032e-04 - val_loss: 5.8931e-04\n",
            "Epoch 32/100\n",
            "23/23 [==============================] - 0s 10ms/step - loss: 5.1611e-04 - val_loss: 5.5202e-04\n",
            "Epoch 33/100\n",
            "23/23 [==============================] - 0s 10ms/step - loss: 4.9043e-04 - val_loss: 5.8454e-04\n",
            "Epoch 34/100\n",
            "23/23 [==============================] - 0s 11ms/step - loss: 4.8810e-04 - val_loss: 5.7271e-04\n",
            "Epoch 35/100\n",
            "23/23 [==============================] - 0s 10ms/step - loss: 5.1153e-04 - val_loss: 5.4465e-04\n",
            "Epoch 36/100\n",
            "23/23 [==============================] - 0s 11ms/step - loss: 5.1412e-04 - val_loss: 5.5172e-04\n",
            "Epoch 37/100\n",
            "23/23 [==============================] - 0s 10ms/step - loss: 4.7402e-04 - val_loss: 5.9177e-04\n",
            "Epoch 38/100\n",
            "23/23 [==============================] - 0s 10ms/step - loss: 4.9721e-04 - val_loss: 5.3487e-04\n",
            "Epoch 39/100\n",
            "23/23 [==============================] - 0s 11ms/step - loss: 4.7040e-04 - val_loss: 5.2380e-04\n",
            "Epoch 40/100\n",
            "23/23 [==============================] - 0s 10ms/step - loss: 4.6235e-04 - val_loss: 5.2527e-04\n",
            "Epoch 41/100\n",
            "23/23 [==============================] - 0s 11ms/step - loss: 4.5386e-04 - val_loss: 5.1894e-04\n",
            "Epoch 42/100\n",
            "23/23 [==============================] - 0s 10ms/step - loss: 4.6511e-04 - val_loss: 5.4107e-04\n",
            "Epoch 43/100\n",
            "23/23 [==============================] - 0s 11ms/step - loss: 4.5023e-04 - val_loss: 5.0951e-04\n",
            "Epoch 44/100\n",
            "23/23 [==============================] - 0s 10ms/step - loss: 4.6528e-04 - val_loss: 5.2985e-04\n",
            "Epoch 45/100\n",
            "23/23 [==============================] - 0s 10ms/step - loss: 4.4650e-04 - val_loss: 5.2716e-04\n",
            "Epoch 46/100\n",
            "23/23 [==============================] - 0s 11ms/step - loss: 4.5476e-04 - val_loss: 5.0675e-04\n",
            "Epoch 47/100\n",
            "23/23 [==============================] - 0s 10ms/step - loss: 4.5790e-04 - val_loss: 4.9395e-04\n",
            "Epoch 48/100\n",
            "23/23 [==============================] - 0s 11ms/step - loss: 4.2630e-04 - val_loss: 4.9078e-04\n",
            "Epoch 49/100\n",
            "23/23 [==============================] - 0s 10ms/step - loss: 4.2391e-04 - val_loss: 4.9640e-04\n",
            "Epoch 50/100\n",
            "23/23 [==============================] - 0s 11ms/step - loss: 4.3714e-04 - val_loss: 4.8117e-04\n",
            "Epoch 51/100\n",
            "23/23 [==============================] - 0s 17ms/step - loss: 4.2291e-04 - val_loss: 4.8516e-04\n",
            "Epoch 52/100\n",
            "23/23 [==============================] - 0s 16ms/step - loss: 4.1890e-04 - val_loss: 5.2606e-04\n",
            "Epoch 53/100\n",
            "23/23 [==============================] - 0s 16ms/step - loss: 4.4288e-04 - val_loss: 5.3237e-04\n",
            "Epoch 54/100\n",
            "23/23 [==============================] - 0s 16ms/step - loss: 4.1244e-04 - val_loss: 4.7424e-04\n",
            "Epoch 55/100\n",
            "23/23 [==============================] - 0s 16ms/step - loss: 3.9820e-04 - val_loss: 4.7420e-04\n",
            "Epoch 56/100\n",
            "23/23 [==============================] - 0s 18ms/step - loss: 4.2181e-04 - val_loss: 4.6891e-04\n",
            "Epoch 57/100\n",
            "23/23 [==============================] - 0s 17ms/step - loss: 4.6014e-04 - val_loss: 5.3150e-04\n",
            "Epoch 58/100\n",
            "23/23 [==============================] - 0s 12ms/step - loss: 4.0853e-04 - val_loss: 4.8177e-04\n",
            "Epoch 59/100\n",
            "23/23 [==============================] - 0s 11ms/step - loss: 3.9718e-04 - val_loss: 4.6277e-04\n",
            "Epoch 60/100\n",
            "23/23 [==============================] - 0s 10ms/step - loss: 4.0376e-04 - val_loss: 4.6595e-04\n",
            "Epoch 61/100\n",
            "23/23 [==============================] - 0s 10ms/step - loss: 3.9462e-04 - val_loss: 4.6149e-04\n",
            "Epoch 62/100\n",
            "23/23 [==============================] - 0s 12ms/step - loss: 3.9495e-04 - val_loss: 5.2162e-04\n",
            "Epoch 63/100\n",
            "23/23 [==============================] - 0s 11ms/step - loss: 3.9403e-04 - val_loss: 4.6109e-04\n",
            "Epoch 64/100\n",
            "23/23 [==============================] - 0s 10ms/step - loss: 3.8849e-04 - val_loss: 4.4600e-04\n",
            "Epoch 65/100\n",
            "23/23 [==============================] - 0s 10ms/step - loss: 3.8945e-04 - val_loss: 4.4393e-04\n",
            "Epoch 66/100\n",
            "23/23 [==============================] - 0s 11ms/step - loss: 3.9966e-04 - val_loss: 4.5159e-04\n",
            "Epoch 67/100\n",
            "23/23 [==============================] - 0s 11ms/step - loss: 3.9271e-04 - val_loss: 4.6053e-04\n",
            "Epoch 68/100\n",
            "23/23 [==============================] - 0s 11ms/step - loss: 4.0304e-04 - val_loss: 4.4183e-04\n",
            "Epoch 69/100\n",
            "23/23 [==============================] - 0s 10ms/step - loss: 4.0097e-04 - val_loss: 4.3379e-04\n",
            "Epoch 70/100\n",
            "23/23 [==============================] - 0s 12ms/step - loss: 3.8170e-04 - val_loss: 4.4943e-04\n",
            "Epoch 71/100\n",
            "23/23 [==============================] - 0s 13ms/step - loss: 4.0302e-04 - val_loss: 4.4393e-04\n",
            "Epoch 72/100\n",
            "23/23 [==============================] - 0s 11ms/step - loss: 3.9004e-04 - val_loss: 4.4002e-04\n",
            "Epoch 73/100\n",
            "23/23 [==============================] - 0s 11ms/step - loss: 3.6824e-04 - val_loss: 4.8572e-04\n",
            "Epoch 74/100\n",
            "23/23 [==============================] - 0s 11ms/step - loss: 3.8843e-04 - val_loss: 4.4651e-04\n",
            "Epoch 75/100\n",
            "23/23 [==============================] - 0s 10ms/step - loss: 3.7284e-04 - val_loss: 4.2441e-04\n",
            "Epoch 76/100\n",
            "23/23 [==============================] - 0s 10ms/step - loss: 3.7409e-04 - val_loss: 4.2667e-04\n",
            "Epoch 77/100\n",
            "23/23 [==============================] - 0s 11ms/step - loss: 4.0376e-04 - val_loss: 4.3940e-04\n",
            "Epoch 78/100\n",
            "23/23 [==============================] - 0s 10ms/step - loss: 3.8760e-04 - val_loss: 4.2254e-04\n",
            "Epoch 79/100\n",
            "23/23 [==============================] - 0s 11ms/step - loss: 3.6044e-04 - val_loss: 4.3169e-04\n",
            "Epoch 80/100\n",
            "23/23 [==============================] - 0s 11ms/step - loss: 3.6174e-04 - val_loss: 4.1570e-04\n",
            "Epoch 81/100\n",
            "23/23 [==============================] - 0s 10ms/step - loss: 3.6097e-04 - val_loss: 4.2195e-04\n",
            "Epoch 82/100\n",
            "23/23 [==============================] - 0s 11ms/step - loss: 3.5251e-04 - val_loss: 4.1631e-04\n",
            "Epoch 83/100\n",
            "23/23 [==============================] - 0s 11ms/step - loss: 3.6457e-04 - val_loss: 4.2353e-04\n",
            "Epoch 84/100\n",
            "23/23 [==============================] - 0s 11ms/step - loss: 3.6523e-04 - val_loss: 4.5302e-04\n",
            "Epoch 85/100\n",
            "23/23 [==============================] - 0s 10ms/step - loss: 3.6395e-04 - val_loss: 4.3073e-04\n",
            "Epoch 86/100\n",
            "23/23 [==============================] - 0s 11ms/step - loss: 3.5156e-04 - val_loss: 4.0829e-04\n",
            "Epoch 87/100\n",
            "23/23 [==============================] - 0s 12ms/step - loss: 3.7207e-04 - val_loss: 4.5866e-04\n",
            "Epoch 88/100\n",
            "23/23 [==============================] - 0s 11ms/step - loss: 4.4262e-04 - val_loss: 5.7745e-04\n",
            "Epoch 89/100\n",
            "23/23 [==============================] - 0s 11ms/step - loss: 3.7131e-04 - val_loss: 4.0766e-04\n",
            "Epoch 90/100\n",
            "23/23 [==============================] - 0s 11ms/step - loss: 3.4863e-04 - val_loss: 4.0726e-04\n",
            "Epoch 91/100\n",
            "23/23 [==============================] - 0s 11ms/step - loss: 3.9383e-04 - val_loss: 4.0593e-04\n",
            "Epoch 92/100\n",
            "23/23 [==============================] - 0s 10ms/step - loss: 3.5829e-04 - val_loss: 3.9612e-04\n",
            "Epoch 93/100\n",
            "23/23 [==============================] - 0s 11ms/step - loss: 3.3766e-04 - val_loss: 3.9998e-04\n",
            "Epoch 94/100\n",
            "23/23 [==============================] - 0s 11ms/step - loss: 3.4285e-04 - val_loss: 3.9421e-04\n",
            "Epoch 95/100\n",
            "23/23 [==============================] - 0s 11ms/step - loss: 3.3437e-04 - val_loss: 4.3237e-04\n",
            "Epoch 96/100\n",
            "23/23 [==============================] - 0s 11ms/step - loss: 3.4199e-04 - val_loss: 4.0951e-04\n",
            "Epoch 97/100\n",
            "23/23 [==============================] - 0s 13ms/step - loss: 3.6002e-04 - val_loss: 3.9941e-04\n",
            "Epoch 98/100\n",
            "23/23 [==============================] - 0s 18ms/step - loss: 3.6800e-04 - val_loss: 3.8732e-04\n",
            "Epoch 99/100\n",
            "23/23 [==============================] - 0s 16ms/step - loss: 3.4121e-04 - val_loss: 3.9163e-04\n",
            "Epoch 100/100\n",
            "23/23 [==============================] - 0s 16ms/step - loss: 3.3203e-04 - val_loss: 3.8465e-04\n"
          ]
        },
        {
          "output_type": "execute_result",
          "data": {
            "text/plain": [
              "<keras.callbacks.History at 0x7fe25ceb0f70>"
            ]
          },
          "metadata": {},
          "execution_count": 249
        }
      ]
    },
    {
      "cell_type": "code",
      "source": [
        "y_pred = model.predict(X_test)"
      ],
      "metadata": {
        "colab": {
          "base_uri": "https://localhost:8080/"
        },
        "id": "-4PiU-EJI0ay",
        "outputId": "7391b18d-1c7e-4155-91d7-004c9e6fbe4a"
      },
      "execution_count": 250,
      "outputs": [
        {
          "output_type": "stream",
          "name": "stdout",
          "text": [
            "5/5 [==============================] - 0s 4ms/step\n"
          ]
        }
      ]
    },
    {
      "cell_type": "code",
      "source": [
        "# Tính toán sai số tuyệt đối và chuẩn hóa thành phần trăm\n",
        "errors = np.abs((y_test- y_pred) / y_test) * 100\n",
        "\n",
        "# Tính giá trị MAPE\n",
        "mape = np.mean(errors)\n",
        "\n",
        "print('Testing MAPE:', mape)"
      ],
      "metadata": {
        "colab": {
          "base_uri": "https://localhost:8080/"
        },
        "id": "4F7E62FMH2dt",
        "outputId": "55b64b33-709d-4e55-a2ef-63483edd37a8"
      },
      "execution_count": 251,
      "outputs": [
        {
          "output_type": "stream",
          "name": "stdout",
          "text": [
            "Testing MAPE: 30.738023410337096\n"
          ]
        }
      ]
    },
    {
      "cell_type": "code",
      "source": [
        "y_pred=scaler.inverse_transform(y_pred)\n",
        "test_rmse = np.sqrt(np.mean((y_pred - y_test)**2))\n",
        "print('Testing RMSE:', test_rmse)"
      ],
      "metadata": {
        "colab": {
          "base_uri": "https://localhost:8080/"
        },
        "id": "0-z4NdvwGcY1",
        "outputId": "06e7b192-496e-4b76-a743-8ff69bfa57fa"
      },
      "execution_count": 252,
      "outputs": [
        {
          "output_type": "stream",
          "name": "stdout",
          "text": [
            "Testing RMSE: 19059.589200031292\n"
          ]
        }
      ]
    },
    {
      "cell_type": "code",
      "source": [
        "print('Testing MAPE:', mape)\n",
        "print('Testing RMSE:', test_rmse)\n",
        "train_data_index = pd.RangeIndex(start=0, stop=train_size, step=1)\n",
        "plt.plot(train_data)\n",
        "test_data_index = pd.RangeIndex(start=train_size, stop=train_size+test_size, step=1)\n",
        "plt.plot(test_data)\n",
        "pred_data_index = pd.RangeIndex(start=train_size+9, stop=train_size+test_size, step=1)\n",
        "plt.plot(pred_data_index,(y_pred))"
      ],
      "metadata": {
        "colab": {
          "base_uri": "https://localhost:8080/",
          "height": 482
        },
        "id": "z2T8CipK9upc",
        "outputId": "4549c5f4-c659-4c5b-baf8-0be4318cd204"
      },
      "execution_count": 253,
      "outputs": [
        {
          "output_type": "stream",
          "name": "stdout",
          "text": [
            "Testing MAPE: 30.738023410337096\n",
            "Testing RMSE: 19059.589200031292\n"
          ]
        },
        {
          "output_type": "execute_result",
          "data": {
            "text/plain": [
              "[<matplotlib.lines.Line2D at 0x7fe259c51540>]"
            ]
          },
          "metadata": {},
          "execution_count": 253
        },
        {
          "output_type": "display_data",
          "data": {
            "text/plain": [
              "<Figure size 640x480 with 1 Axes>"
            ],
            "image/png": "[encoded data removed]"
          },
          "metadata": {}
        }
      ]
    },
    {
      "cell_type": "markdown",
      "source": [
        "# Dự đoán theo tỉ kệ 8:2"
      ],
      "metadata": {
        "id": "1ArFfsXoLIyo"
      }
    },
    {
      "cell_type": "code",
      "source": [
        "# Chuẩn bị dữ liệu\n",
        "data = np.array(df1)\n",
        "scaler = MinMaxScaler()\n",
        "data = scaler.fit_transform(data.reshape(-1, 1))\n",
        "\n",
        "# Chia dữ liệu thành chuỗi con\n",
        "window_size = 10\n",
        "X = []\n",
        "y = []\n",
        "for i in range(window_size, len(data)):\n",
        "    X.append(data[i-window_size:i, 0])\n",
        "    y.append(data[i, 0])\n",
        "X = np.array(X)\n",
        "y = np.array(y)\n",
        "\n",
        "# Chia dữ liệu thành tập huấn luyện và tập kiểm tra\n",
        "train_size = int(0.8 * len(df1))\n",
        "test_size = int(0.2 * len(df1))\n",
        "\n",
        "train_data = df1[:train_size]\n",
        "test_data = df1[train_size:train_size+test_size]\n",
        "X_train, X_test = X[:train_size], X[train_size:]\n",
        "y_train, y_test = y[:train_size], y[train_size:]"
      ],
      "metadata": {
        "id": "z8C-9u0GLNJ1"
      },
      "execution_count": 254,
      "outputs": []
    },
    {
      "cell_type": "code",
      "source": [
        "from tensorflow.keras.models import Sequential\n",
        "from tensorflow.keras.layers import LSTM, Dense\n",
        "\n",
        "# Xây dựng mô hình NNAR\n",
        "model = Sequential()\n",
        "model.add(LSTM(50, activation='relu', input_shape=(window_size, 1)))\n",
        "model.add(Dense(1))\n",
        "model.compile(optimizer='adam', loss='mse')\n",
        "\n",
        "# Huấn luyện mô hình\n",
        "model.fit(X_train, y_train, epochs=100, batch_size=64, validation_data=(X_test, y_test))"
      ],
      "metadata": {
        "colab": {
          "base_uri": "https://localhost:8080/"
        },
        "id": "hnQCl4gkLZOc",
        "outputId": "7eaef379-9722-4f06-da65-3bb5424d99db"
      },
      "execution_count": 255,
      "outputs": [
        {
          "output_type": "stream",
          "name": "stdout",
          "text": [
            "Epoch 1/100\n",
            "21/21 [==============================] - 2s 23ms/step - loss: 0.1638 - val_loss: 0.0535\n",
            "Epoch 2/100\n",
            "21/21 [==============================] - 0s 11ms/step - loss: 0.0534 - val_loss: 0.0037\n",
            "Epoch 3/100\n",
            "21/21 [==============================] - 0s 11ms/step - loss: 0.0041 - val_loss: 0.0018\n",
            "Epoch 4/100\n",
            "21/21 [==============================] - 0s 11ms/step - loss: 0.0016 - val_loss: 0.0018\n",
            "Epoch 5/100\n",
            "21/21 [==============================] - 0s 11ms/step - loss: 0.0011 - val_loss: 0.0016\n",
            "Epoch 6/100\n",
            "21/21 [==============================] - 0s 13ms/step - loss: 9.4476e-04 - val_loss: 0.0017\n",
            "Epoch 7/100\n",
            "21/21 [==============================] - 0s 10ms/step - loss: 8.9277e-04 - val_loss: 0.0016\n",
            "Epoch 8/100\n",
            "21/21 [==============================] - 0s 12ms/step - loss: 7.7247e-04 - val_loss: 0.0016\n",
            "Epoch 9/100\n",
            "21/21 [==============================] - 0s 11ms/step - loss: 7.0825e-04 - val_loss: 0.0016\n",
            "Epoch 10/100\n",
            "21/21 [==============================] - 0s 11ms/step - loss: 6.1740e-04 - val_loss: 0.0015\n",
            "Epoch 11/100\n",
            "21/21 [==============================] - 0s 10ms/step - loss: 6.2197e-04 - val_loss: 0.0016\n",
            "Epoch 12/100\n",
            "21/21 [==============================] - 0s 12ms/step - loss: 5.3701e-04 - val_loss: 0.0017\n",
            "Epoch 13/100\n",
            "21/21 [==============================] - 0s 11ms/step - loss: 5.3592e-04 - val_loss: 0.0018\n",
            "Epoch 14/100\n",
            "21/21 [==============================] - 0s 12ms/step - loss: 5.2701e-04 - val_loss: 0.0015\n",
            "Epoch 15/100\n",
            "21/21 [==============================] - 0s 10ms/step - loss: 6.5782e-04 - val_loss: 0.0016\n",
            "Epoch 16/100\n",
            "21/21 [==============================] - 0s 13ms/step - loss: 5.5802e-04 - val_loss: 0.0016\n",
            "Epoch 17/100\n",
            "21/21 [==============================] - 0s 13ms/step - loss: 5.3972e-04 - val_loss: 0.0016\n",
            "Epoch 18/100\n",
            "21/21 [==============================] - 0s 11ms/step - loss: 4.9781e-04 - val_loss: 0.0017\n",
            "Epoch 19/100\n",
            "21/21 [==============================] - 0s 11ms/step - loss: 4.9145e-04 - val_loss: 0.0017\n",
            "Epoch 20/100\n",
            "21/21 [==============================] - 0s 11ms/step - loss: 4.8595e-04 - val_loss: 0.0015\n",
            "Epoch 21/100\n",
            "21/21 [==============================] - 0s 11ms/step - loss: 5.3964e-04 - val_loss: 0.0017\n",
            "Epoch 22/100\n",
            "21/21 [==============================] - 0s 10ms/step - loss: 5.0762e-04 - val_loss: 0.0015\n",
            "Epoch 23/100\n",
            "21/21 [==============================] - 0s 11ms/step - loss: 5.0219e-04 - val_loss: 0.0017\n",
            "Epoch 24/100\n",
            "21/21 [==============================] - 0s 11ms/step - loss: 4.7787e-04 - val_loss: 0.0015\n",
            "Epoch 25/100\n",
            "21/21 [==============================] - 0s 11ms/step - loss: 5.0377e-04 - val_loss: 0.0016\n",
            "Epoch 26/100\n",
            "21/21 [==============================] - 0s 11ms/step - loss: 4.7007e-04 - val_loss: 0.0016\n",
            "Epoch 27/100\n",
            "21/21 [==============================] - 0s 11ms/step - loss: 4.7327e-04 - val_loss: 0.0016\n",
            "Epoch 28/100\n",
            "21/21 [==============================] - 0s 12ms/step - loss: 4.8569e-04 - val_loss: 0.0015\n",
            "Epoch 29/100\n",
            "21/21 [==============================] - 0s 13ms/step - loss: 4.7529e-04 - val_loss: 0.0017\n",
            "Epoch 30/100\n",
            "21/21 [==============================] - 0s 16ms/step - loss: 4.9931e-04 - val_loss: 0.0015\n",
            "Epoch 31/100\n",
            "21/21 [==============================] - 0s 16ms/step - loss: 4.6444e-04 - val_loss: 0.0015\n",
            "Epoch 32/100\n",
            "21/21 [==============================] - 0s 16ms/step - loss: 4.6975e-04 - val_loss: 0.0014\n",
            "Epoch 33/100\n",
            "21/21 [==============================] - 0s 18ms/step - loss: 5.4760e-04 - val_loss: 0.0016\n",
            "Epoch 34/100\n",
            "21/21 [==============================] - 0s 16ms/step - loss: 4.5258e-04 - val_loss: 0.0015\n",
            "Epoch 35/100\n",
            "21/21 [==============================] - 0s 18ms/step - loss: 4.5165e-04 - val_loss: 0.0014\n",
            "Epoch 36/100\n",
            "21/21 [==============================] - 0s 19ms/step - loss: 4.6621e-04 - val_loss: 0.0015\n",
            "Epoch 37/100\n",
            "21/21 [==============================] - 0s 16ms/step - loss: 4.5190e-04 - val_loss: 0.0015\n",
            "Epoch 38/100\n",
            "21/21 [==============================] - 0s 10ms/step - loss: 4.7491e-04 - val_loss: 0.0014\n",
            "Epoch 39/100\n",
            "21/21 [==============================] - 0s 11ms/step - loss: 4.4649e-04 - val_loss: 0.0015\n",
            "Epoch 40/100\n",
            "21/21 [==============================] - 0s 12ms/step - loss: 4.3506e-04 - val_loss: 0.0014\n",
            "Epoch 41/100\n",
            "21/21 [==============================] - 0s 13ms/step - loss: 4.3394e-04 - val_loss: 0.0014\n",
            "Epoch 42/100\n",
            "21/21 [==============================] - 0s 12ms/step - loss: 4.3667e-04 - val_loss: 0.0015\n",
            "Epoch 43/100\n",
            "21/21 [==============================] - 0s 11ms/step - loss: 4.7346e-04 - val_loss: 0.0016\n",
            "Epoch 44/100\n",
            "21/21 [==============================] - 0s 12ms/step - loss: 4.7093e-04 - val_loss: 0.0013\n",
            "Epoch 45/100\n",
            "21/21 [==============================] - 0s 11ms/step - loss: 4.5175e-04 - val_loss: 0.0014\n",
            "Epoch 46/100\n",
            "21/21 [==============================] - 0s 13ms/step - loss: 4.3576e-04 - val_loss: 0.0013\n",
            "Epoch 47/100\n",
            "21/21 [==============================] - 0s 11ms/step - loss: 4.2447e-04 - val_loss: 0.0014\n",
            "Epoch 48/100\n",
            "21/21 [==============================] - 0s 11ms/step - loss: 4.3901e-04 - val_loss: 0.0015\n",
            "Epoch 49/100\n",
            "21/21 [==============================] - 0s 11ms/step - loss: 4.1157e-04 - val_loss: 0.0013\n",
            "Epoch 50/100\n",
            "21/21 [==============================] - 0s 11ms/step - loss: 4.1382e-04 - val_loss: 0.0014\n",
            "Epoch 51/100\n",
            "21/21 [==============================] - 0s 11ms/step - loss: 4.1185e-04 - val_loss: 0.0012\n",
            "Epoch 52/100\n",
            "21/21 [==============================] - 0s 10ms/step - loss: 4.8391e-04 - val_loss: 0.0015\n",
            "Epoch 53/100\n",
            "21/21 [==============================] - 0s 11ms/step - loss: 4.1034e-04 - val_loss: 0.0013\n",
            "Epoch 54/100\n",
            "21/21 [==============================] - 0s 11ms/step - loss: 4.0569e-04 - val_loss: 0.0013\n",
            "Epoch 55/100\n",
            "21/21 [==============================] - 0s 12ms/step - loss: 4.0592e-04 - val_loss: 0.0012\n",
            "Epoch 56/100\n",
            "21/21 [==============================] - 0s 12ms/step - loss: 4.1383e-04 - val_loss: 0.0012\n",
            "Epoch 57/100\n",
            "21/21 [==============================] - 0s 10ms/step - loss: 4.0264e-04 - val_loss: 0.0013\n",
            "Epoch 58/100\n",
            "21/21 [==============================] - 0s 10ms/step - loss: 3.8586e-04 - val_loss: 0.0012\n",
            "Epoch 59/100\n",
            "21/21 [==============================] - 0s 11ms/step - loss: 4.0714e-04 - val_loss: 0.0014\n",
            "Epoch 60/100\n",
            "21/21 [==============================] - 0s 11ms/step - loss: 3.9164e-04 - val_loss: 0.0012\n",
            "Epoch 61/100\n",
            "21/21 [==============================] - 0s 11ms/step - loss: 3.8413e-04 - val_loss: 0.0013\n",
            "Epoch 62/100\n",
            "21/21 [==============================] - 0s 11ms/step - loss: 3.8173e-04 - val_loss: 0.0011\n",
            "Epoch 63/100\n",
            "21/21 [==============================] - 0s 11ms/step - loss: 3.7084e-04 - val_loss: 0.0012\n",
            "Epoch 64/100\n",
            "21/21 [==============================] - 0s 10ms/step - loss: 3.9566e-04 - val_loss: 0.0012\n",
            "Epoch 65/100\n",
            "21/21 [==============================] - 0s 11ms/step - loss: 3.6389e-04 - val_loss: 0.0012\n",
            "Epoch 66/100\n",
            "21/21 [==============================] - 0s 11ms/step - loss: 4.2788e-04 - val_loss: 0.0011\n",
            "Epoch 67/100\n",
            "21/21 [==============================] - 0s 10ms/step - loss: 3.6284e-04 - val_loss: 0.0011\n",
            "Epoch 68/100\n",
            "21/21 [==============================] - 0s 11ms/step - loss: 3.6936e-04 - val_loss: 0.0010\n",
            "Epoch 69/100\n",
            "21/21 [==============================] - 0s 11ms/step - loss: 3.8077e-04 - val_loss: 0.0011\n",
            "Epoch 70/100\n",
            "21/21 [==============================] - 0s 11ms/step - loss: 3.5568e-04 - val_loss: 0.0012\n",
            "Epoch 71/100\n",
            "21/21 [==============================] - 0s 10ms/step - loss: 3.6409e-04 - val_loss: 0.0012\n",
            "Epoch 72/100\n",
            "21/21 [==============================] - 0s 11ms/step - loss: 3.7643e-04 - val_loss: 0.0012\n",
            "Epoch 73/100\n",
            "21/21 [==============================] - 0s 10ms/step - loss: 3.7864e-04 - val_loss: 0.0014\n",
            "Epoch 74/100\n",
            "21/21 [==============================] - 0s 9ms/step - loss: 3.8279e-04 - val_loss: 0.0012\n",
            "Epoch 75/100\n",
            "21/21 [==============================] - 0s 9ms/step - loss: 3.4817e-04 - val_loss: 0.0010\n",
            "Epoch 76/100\n",
            "21/21 [==============================] - 0s 11ms/step - loss: 3.4708e-04 - val_loss: 0.0010\n",
            "Epoch 77/100\n",
            "21/21 [==============================] - 0s 12ms/step - loss: 3.3850e-04 - val_loss: 9.9072e-04\n",
            "Epoch 78/100\n",
            "21/21 [==============================] - 0s 11ms/step - loss: 3.3519e-04 - val_loss: 0.0011\n",
            "Epoch 79/100\n",
            "21/21 [==============================] - 0s 15ms/step - loss: 3.4507e-04 - val_loss: 0.0011\n",
            "Epoch 80/100\n",
            "21/21 [==============================] - 0s 18ms/step - loss: 3.4303e-04 - val_loss: 9.3642e-04\n",
            "Epoch 81/100\n",
            "21/21 [==============================] - 0s 18ms/step - loss: 3.4088e-04 - val_loss: 0.0011\n",
            "Epoch 82/100\n",
            "21/21 [==============================] - 0s 19ms/step - loss: 3.4937e-04 - val_loss: 0.0010\n",
            "Epoch 83/100\n",
            "21/21 [==============================] - 0s 17ms/step - loss: 3.6001e-04 - val_loss: 9.8990e-04\n",
            "Epoch 84/100\n",
            "21/21 [==============================] - 0s 18ms/step - loss: 3.3152e-04 - val_loss: 0.0010\n",
            "Epoch 85/100\n",
            "21/21 [==============================] - 0s 19ms/step - loss: 3.3956e-04 - val_loss: 9.0300e-04\n",
            "Epoch 86/100\n",
            "21/21 [==============================] - 0s 19ms/step - loss: 3.4927e-04 - val_loss: 9.5709e-04\n",
            "Epoch 87/100\n",
            "21/21 [==============================] - 0s 11ms/step - loss: 3.2550e-04 - val_loss: 9.2835e-04\n",
            "Epoch 88/100\n",
            "21/21 [==============================] - 0s 10ms/step - loss: 3.1809e-04 - val_loss: 8.9092e-04\n",
            "Epoch 89/100\n",
            "21/21 [==============================] - 0s 11ms/step - loss: 3.2677e-04 - val_loss: 8.9356e-04\n",
            "Epoch 90/100\n",
            "21/21 [==============================] - 0s 12ms/step - loss: 3.0984e-04 - val_loss: 8.8688e-04\n",
            "Epoch 91/100\n",
            "21/21 [==============================] - 0s 11ms/step - loss: 3.1458e-04 - val_loss: 8.5943e-04\n",
            "Epoch 92/100\n",
            "21/21 [==============================] - 0s 10ms/step - loss: 3.7438e-04 - val_loss: 8.9424e-04\n",
            "Epoch 93/100\n",
            "21/21 [==============================] - 0s 13ms/step - loss: 3.3862e-04 - val_loss: 8.5182e-04\n",
            "Epoch 94/100\n",
            "21/21 [==============================] - 0s 12ms/step - loss: 3.1743e-04 - val_loss: 8.5216e-04\n",
            "Epoch 95/100\n",
            "21/21 [==============================] - 0s 13ms/step - loss: 3.6268e-04 - val_loss: 9.1567e-04\n",
            "Epoch 96/100\n",
            "21/21 [==============================] - 0s 10ms/step - loss: 3.2857e-04 - val_loss: 9.4322e-04\n",
            "Epoch 97/100\n",
            "21/21 [==============================] - 0s 10ms/step - loss: 2.9887e-04 - val_loss: 8.2786e-04\n",
            "Epoch 98/100\n",
            "21/21 [==============================] - 0s 12ms/step - loss: 3.0418e-04 - val_loss: 9.4595e-04\n",
            "Epoch 99/100\n",
            "21/21 [==============================] - 0s 11ms/step - loss: 3.2838e-04 - val_loss: 8.6050e-04\n",
            "Epoch 100/100\n",
            "21/21 [==============================] - 0s 11ms/step - loss: 3.0579e-04 - val_loss: 9.1871e-04\n"
          ]
        },
        {
          "output_type": "execute_result",
          "data": {
            "text/plain": [
              "<keras.callbacks.History at 0x7fe259ade980>"
            ]
          },
          "metadata": {},
          "execution_count": 255
        }
      ]
    },
    {
      "cell_type": "code",
      "source": [
        "y_pred = model.predict(X_test)"
      ],
      "metadata": {
        "colab": {
          "base_uri": "https://localhost:8080/"
        },
        "id": "nwFYeawQLcoH",
        "outputId": "87d18309-a0ed-4a54-e7a9-55b719f975d5"
      },
      "execution_count": 256,
      "outputs": [
        {
          "output_type": "stream",
          "name": "stdout",
          "text": [
            "10/10 [==============================] - 0s 3ms/step\n"
          ]
        }
      ]
    },
    {
      "cell_type": "code",
      "source": [
        "# Tính toán sai số tuyệt đối và chuẩn hóa thành phần trăm\n",
        "errors = np.abs((y_test- y_pred) / y_test) * 100\n",
        "\n",
        "# Tính giá trị MAPE\n",
        "mape = np.mean(errors)\n",
        "\n",
        "print('Testing MAPE:', mape)"
      ],
      "metadata": {
        "colab": {
          "base_uri": "https://localhost:8080/"
        },
        "id": "0NzIHUFWLgGo",
        "outputId": "e2c0061d-7884-4be7-98fe-586297d765ac"
      },
      "execution_count": 257,
      "outputs": [
        {
          "output_type": "stream",
          "name": "stdout",
          "text": [
            "Testing MAPE: 49.055643576917745\n"
          ]
        }
      ]
    },
    {
      "cell_type": "code",
      "source": [
        "y_pred=scaler.inverse_transform(y_pred)\n",
        "test_rmse = np.sqrt(np.mean((y_pred - y_test)**2))\n",
        "print('Testing RMSE:', test_rmse)"
      ],
      "metadata": {
        "colab": {
          "base_uri": "https://localhost:8080/"
        },
        "id": "2gf2P-6xNH2v",
        "outputId": "8a53d527-96b0-44cd-bc96-4d53c7a70a27"
      },
      "execution_count": 258,
      "outputs": [
        {
          "output_type": "stream",
          "name": "stdout",
          "text": [
            "Testing RMSE: 22320.624737686958\n"
          ]
        }
      ]
    },
    {
      "cell_type": "code",
      "source": [
        "print('Testing MAPE:', mape)\n",
        "print('Testing RMSE:', test_rmse)\n",
        "train_data_index = pd.RangeIndex(start=0, stop=train_size, step=1)\n",
        "plt.plot(train_data)\n",
        "test_data_index = pd.RangeIndex(start=train_size, stop=train_size+test_size, step=1)\n",
        "plt.plot(test_data)\n",
        "pred_data_index = pd.RangeIndex(start=train_size+9, stop=train_size+test_size, step=1)\n",
        "plt.plot(pred_data_index,(y_pred))"
      ],
      "metadata": {
        "colab": {
          "base_uri": "https://localhost:8080/",
          "height": 482
        },
        "id": "rkBzFjCDLlq3",
        "outputId": "57d9c7b7-b5b5-4b3a-e6e4-213e5e6901e7"
      },
      "execution_count": 259,
      "outputs": [
        {
          "output_type": "stream",
          "name": "stdout",
          "text": [
            "Testing MAPE: 49.055643576917745\n",
            "Testing RMSE: 22320.624737686958\n"
          ]
        },
        {
          "output_type": "execute_result",
          "data": {
            "text/plain": [
              "[<matplotlib.lines.Line2D at 0x7fe25987ab00>]"
            ]
          },
          "metadata": {},
          "execution_count": 259
        },
        {
          "output_type": "display_data",
          "data": {
            "text/plain": [
              "<Figure size 640x480 with 1 Axes>"
            ],
            "image/png": "[encoded data removed]"
          },
          "metadata": {}
        }
      ]
    },
    {
      "cell_type": "markdown",
      "source": [
        "# Dự đoán theo tỉ kệ 7:3"
      ],
      "metadata": {
        "id": "f7QoIhwANiX6"
      }
    },
    {
      "cell_type": "code",
      "source": [
        "# Chuẩn bị dữ liệu\n",
        "data = np.array(df1)\n",
        "scaler = MinMaxScaler()\n",
        "data = scaler.fit_transform(data.reshape(-1, 1))\n",
        "\n",
        "# Chia dữ liệu thành chuỗi con\n",
        "window_size = 10\n",
        "X = []\n",
        "y = []\n",
        "for i in range(window_size, len(data)):\n",
        "    X.append(data[i-window_size:i, 0])\n",
        "    y.append(data[i, 0])\n",
        "X = np.array(X)\n",
        "y = np.array(y)\n",
        "\n",
        "# Chia dữ liệu thành tập huấn luyện và tập kiểm tra\n",
        "train_size = int(0.7 * len(df1))\n",
        "test_size = int(0.3 * len(df1))\n",
        "\n",
        "train_data = df1[:train_size]\n",
        "test_data = df1[train_size:train_size+test_size]\n",
        "X_train, X_test = X[:train_size], X[train_size:]\n",
        "y_train, y_test = y[:train_size], y[train_size:]"
      ],
      "metadata": {
        "id": "a1ng0j9tNl6_"
      },
      "execution_count": 260,
      "outputs": []
    },
    {
      "cell_type": "code",
      "source": [
        "from tensorflow.keras.models import Sequential\n",
        "from tensorflow.keras.layers import LSTM, Dense\n",
        "\n",
        "# Xây dựng mô hình NNAR\n",
        "model = Sequential()\n",
        "model.add(LSTM(50, activation='relu', input_shape=(window_size, 1)))\n",
        "model.add(Dense(1))\n",
        "model.compile(optimizer='adam', loss='mse')\n",
        "\n",
        "# Huấn luyện mô hình\n",
        "model.fit(X_train, y_train, epochs=100, batch_size=64, validation_data=(X_test, y_test))"
      ],
      "metadata": {
        "colab": {
          "base_uri": "https://localhost:8080/"
        },
        "id": "pW_sY0V2Nst-",
        "outputId": "6dd6862c-ccec-4fb5-b8af-80662902c30c"
      },
      "execution_count": 261,
      "outputs": [
        {
          "output_type": "stream",
          "name": "stdout",
          "text": [
            "Epoch 1/100\n",
            "18/18 [==============================] - 2s 27ms/step - loss: 0.1096 - val_loss: 0.1721\n",
            "Epoch 2/100\n",
            "18/18 [==============================] - 0s 15ms/step - loss: 0.0414 - val_loss: 0.0292\n",
            "Epoch 3/100\n",
            "18/18 [==============================] - 0s 11ms/step - loss: 0.0037 - val_loss: 0.0032\n",
            "Epoch 4/100\n",
            "18/18 [==============================] - 0s 13ms/step - loss: 8.8079e-04 - val_loss: 0.0041\n",
            "Epoch 5/100\n",
            "18/18 [==============================] - 0s 20ms/step - loss: 5.5690e-04 - val_loss: 0.0031\n",
            "Epoch 6/100\n",
            "18/18 [==============================] - 0s 18ms/step - loss: 4.2503e-04 - val_loss: 0.0024\n",
            "Epoch 7/100\n",
            "18/18 [==============================] - 0s 17ms/step - loss: 4.0988e-04 - val_loss: 0.0025\n",
            "Epoch 8/100\n",
            "18/18 [==============================] - 0s 18ms/step - loss: 4.0242e-04 - val_loss: 0.0021\n",
            "Epoch 9/100\n",
            "18/18 [==============================] - 0s 18ms/step - loss: 3.8414e-04 - val_loss: 0.0020\n",
            "Epoch 10/100\n",
            "18/18 [==============================] - 0s 18ms/step - loss: 3.8056e-04 - val_loss: 0.0020\n",
            "Epoch 11/100\n",
            "18/18 [==============================] - 0s 19ms/step - loss: 3.5778e-04 - val_loss: 0.0021\n",
            "Epoch 12/100\n",
            "18/18 [==============================] - 0s 19ms/step - loss: 3.4515e-04 - val_loss: 0.0020\n",
            "Epoch 13/100\n",
            "18/18 [==============================] - 0s 21ms/step - loss: 3.4477e-04 - val_loss: 0.0021\n",
            "Epoch 14/100\n",
            "18/18 [==============================] - 0s 14ms/step - loss: 3.5019e-04 - val_loss: 0.0020\n",
            "Epoch 15/100\n",
            "18/18 [==============================] - 0s 12ms/step - loss: 3.2971e-04 - val_loss: 0.0018\n",
            "Epoch 16/100\n",
            "18/18 [==============================] - 0s 13ms/step - loss: 3.2019e-04 - val_loss: 0.0018\n",
            "Epoch 17/100\n",
            "18/18 [==============================] - 0s 13ms/step - loss: 3.1743e-04 - val_loss: 0.0019\n",
            "Epoch 18/100\n",
            "18/18 [==============================] - 0s 13ms/step - loss: 3.2225e-04 - val_loss: 0.0016\n",
            "Epoch 19/100\n",
            "18/18 [==============================] - 0s 11ms/step - loss: 3.1442e-04 - val_loss: 0.0015\n",
            "Epoch 20/100\n",
            "18/18 [==============================] - 0s 11ms/step - loss: 3.0243e-04 - val_loss: 0.0015\n",
            "Epoch 21/100\n",
            "18/18 [==============================] - 0s 13ms/step - loss: 3.4524e-04 - val_loss: 0.0015\n",
            "Epoch 22/100\n",
            "18/18 [==============================] - 0s 13ms/step - loss: 3.0710e-04 - val_loss: 0.0015\n",
            "Epoch 23/100\n",
            "18/18 [==============================] - 0s 11ms/step - loss: 3.0017e-04 - val_loss: 0.0018\n",
            "Epoch 24/100\n",
            "18/18 [==============================] - 0s 11ms/step - loss: 2.9898e-04 - val_loss: 0.0014\n",
            "Epoch 25/100\n",
            "18/18 [==============================] - 0s 14ms/step - loss: 3.0135e-04 - val_loss: 0.0014\n",
            "Epoch 26/100\n",
            "18/18 [==============================] - 0s 11ms/step - loss: 2.9332e-04 - val_loss: 0.0017\n",
            "Epoch 27/100\n",
            "18/18 [==============================] - 0s 11ms/step - loss: 2.8173e-04 - val_loss: 0.0013\n",
            "Epoch 28/100\n",
            "18/18 [==============================] - 0s 11ms/step - loss: 2.7793e-04 - val_loss: 0.0014\n",
            "Epoch 29/100\n",
            "18/18 [==============================] - 0s 14ms/step - loss: 2.7047e-04 - val_loss: 0.0013\n",
            "Epoch 30/100\n",
            "18/18 [==============================] - 0s 15ms/step - loss: 2.7271e-04 - val_loss: 0.0013\n",
            "Epoch 31/100\n",
            "18/18 [==============================] - 0s 12ms/step - loss: 2.6419e-04 - val_loss: 0.0012\n",
            "Epoch 32/100\n",
            "18/18 [==============================] - 0s 13ms/step - loss: 2.6113e-04 - val_loss: 0.0012\n",
            "Epoch 33/100\n",
            "18/18 [==============================] - 0s 12ms/step - loss: 2.6710e-04 - val_loss: 0.0012\n",
            "Epoch 34/100\n",
            "18/18 [==============================] - 0s 12ms/step - loss: 2.5911e-04 - val_loss: 0.0012\n",
            "Epoch 35/100\n",
            "18/18 [==============================] - 0s 12ms/step - loss: 2.5677e-04 - val_loss: 0.0011\n",
            "Epoch 36/100\n",
            "18/18 [==============================] - 0s 12ms/step - loss: 2.5415e-04 - val_loss: 0.0011\n",
            "Epoch 37/100\n",
            "18/18 [==============================] - 0s 11ms/step - loss: 2.4829e-04 - val_loss: 0.0012\n",
            "Epoch 38/100\n",
            "18/18 [==============================] - 0s 13ms/step - loss: 2.4297e-04 - val_loss: 0.0011\n",
            "Epoch 39/100\n",
            "18/18 [==============================] - 0s 14ms/step - loss: 2.4338e-04 - val_loss: 0.0011\n",
            "Epoch 40/100\n",
            "18/18 [==============================] - 0s 13ms/step - loss: 2.4398e-04 - val_loss: 0.0011\n",
            "Epoch 41/100\n",
            "18/18 [==============================] - 0s 11ms/step - loss: 2.4274e-04 - val_loss: 0.0010\n",
            "Epoch 42/100\n",
            "18/18 [==============================] - 0s 12ms/step - loss: 2.3690e-04 - val_loss: 0.0010\n",
            "Epoch 43/100\n",
            "18/18 [==============================] - 0s 13ms/step - loss: 2.4521e-04 - val_loss: 0.0011\n",
            "Epoch 44/100\n",
            "18/18 [==============================] - 0s 14ms/step - loss: 2.4360e-04 - val_loss: 9.7890e-04\n",
            "Epoch 45/100\n",
            "18/18 [==============================] - 0s 12ms/step - loss: 2.5327e-04 - val_loss: 0.0012\n",
            "Epoch 46/100\n",
            "18/18 [==============================] - 0s 12ms/step - loss: 2.3255e-04 - val_loss: 9.7087e-04\n",
            "Epoch 47/100\n",
            "18/18 [==============================] - 0s 11ms/step - loss: 2.2515e-04 - val_loss: 0.0011\n",
            "Epoch 48/100\n",
            "18/18 [==============================] - 0s 14ms/step - loss: 2.4362e-04 - val_loss: 9.5042e-04\n",
            "Epoch 49/100\n",
            "18/18 [==============================] - 0s 11ms/step - loss: 2.2065e-04 - val_loss: 9.5217e-04\n",
            "Epoch 50/100\n",
            "18/18 [==============================] - 0s 11ms/step - loss: 2.2727e-04 - val_loss: 9.4484e-04\n",
            "Epoch 51/100\n",
            "18/18 [==============================] - 0s 11ms/step - loss: 2.1552e-04 - val_loss: 0.0011\n",
            "Epoch 52/100\n",
            "18/18 [==============================] - 0s 12ms/step - loss: 2.3132e-04 - val_loss: 9.5560e-04\n",
            "Epoch 53/100\n",
            "18/18 [==============================] - 0s 11ms/step - loss: 2.2010e-04 - val_loss: 0.0010\n",
            "Epoch 54/100\n",
            "18/18 [==============================] - 0s 13ms/step - loss: 2.1840e-04 - val_loss: 8.8505e-04\n",
            "Epoch 55/100\n",
            "18/18 [==============================] - 0s 13ms/step - loss: 2.1455e-04 - val_loss: 8.8353e-04\n",
            "Epoch 56/100\n",
            "18/18 [==============================] - 0s 11ms/step - loss: 2.3128e-04 - val_loss: 9.8044e-04\n",
            "Epoch 57/100\n",
            "18/18 [==============================] - 0s 14ms/step - loss: 2.1800e-04 - val_loss: 8.8217e-04\n",
            "Epoch 58/100\n",
            "18/18 [==============================] - 0s 21ms/step - loss: 2.1129e-04 - val_loss: 9.8100e-04\n",
            "Epoch 59/100\n",
            "18/18 [==============================] - 0s 20ms/step - loss: 2.2748e-04 - val_loss: 8.6509e-04\n",
            "Epoch 60/100\n",
            "18/18 [==============================] - 0s 21ms/step - loss: 2.3343e-04 - val_loss: 9.6247e-04\n",
            "Epoch 61/100\n",
            "18/18 [==============================] - 0s 17ms/step - loss: 2.2046e-04 - val_loss: 8.7316e-04\n",
            "Epoch 62/100\n",
            "18/18 [==============================] - 0s 18ms/step - loss: 2.0515e-04 - val_loss: 9.4031e-04\n",
            "Epoch 63/100\n",
            "18/18 [==============================] - 0s 19ms/step - loss: 2.1147e-04 - val_loss: 9.1657e-04\n",
            "Epoch 64/100\n",
            "18/18 [==============================] - 0s 17ms/step - loss: 2.6831e-04 - val_loss: 8.4464e-04\n",
            "Epoch 65/100\n",
            "18/18 [==============================] - 0s 19ms/step - loss: 2.1938e-04 - val_loss: 9.0279e-04\n",
            "Epoch 66/100\n",
            "18/18 [==============================] - 0s 16ms/step - loss: 2.0435e-04 - val_loss: 8.5519e-04\n",
            "Epoch 67/100\n",
            "18/18 [==============================] - 0s 11ms/step - loss: 2.0436e-04 - val_loss: 8.5108e-04\n",
            "Epoch 68/100\n",
            "18/18 [==============================] - 0s 11ms/step - loss: 2.1520e-04 - val_loss: 8.5202e-04\n",
            "Epoch 69/100\n",
            "18/18 [==============================] - 0s 12ms/step - loss: 2.1445e-04 - val_loss: 8.3576e-04\n",
            "Epoch 70/100\n",
            "18/18 [==============================] - 0s 13ms/step - loss: 2.0538e-04 - val_loss: 8.3875e-04\n",
            "Epoch 71/100\n",
            "18/18 [==============================] - 0s 14ms/step - loss: 2.1740e-04 - val_loss: 8.9824e-04\n",
            "Epoch 72/100\n",
            "18/18 [==============================] - 0s 14ms/step - loss: 1.9746e-04 - val_loss: 8.3635e-04\n",
            "Epoch 73/100\n",
            "18/18 [==============================] - 0s 14ms/step - loss: 1.9923e-04 - val_loss: 8.1837e-04\n",
            "Epoch 74/100\n",
            "18/18 [==============================] - 0s 12ms/step - loss: 1.9960e-04 - val_loss: 8.3000e-04\n",
            "Epoch 75/100\n",
            "18/18 [==============================] - 0s 13ms/step - loss: 1.9914e-04 - val_loss: 8.5540e-04\n",
            "Epoch 76/100\n",
            "18/18 [==============================] - 0s 12ms/step - loss: 1.9509e-04 - val_loss: 8.1181e-04\n",
            "Epoch 77/100\n",
            "18/18 [==============================] - 0s 12ms/step - loss: 1.9230e-04 - val_loss: 8.0494e-04\n",
            "Epoch 78/100\n",
            "18/18 [==============================] - 0s 11ms/step - loss: 1.9532e-04 - val_loss: 8.0224e-04\n",
            "Epoch 79/100\n",
            "18/18 [==============================] - 0s 13ms/step - loss: 2.0520e-04 - val_loss: 8.0395e-04\n",
            "Epoch 80/100\n",
            "18/18 [==============================] - 0s 13ms/step - loss: 2.0187e-04 - val_loss: 8.0829e-04\n",
            "Epoch 81/100\n",
            "18/18 [==============================] - 0s 14ms/step - loss: 1.8973e-04 - val_loss: 8.4918e-04\n",
            "Epoch 82/100\n",
            "18/18 [==============================] - 0s 12ms/step - loss: 1.9288e-04 - val_loss: 8.4335e-04\n",
            "Epoch 83/100\n",
            "18/18 [==============================] - 0s 11ms/step - loss: 1.9449e-04 - val_loss: 7.9909e-04\n",
            "Epoch 84/100\n",
            "18/18 [==============================] - 0s 15ms/step - loss: 1.9037e-04 - val_loss: 7.9774e-04\n",
            "Epoch 85/100\n",
            "18/18 [==============================] - 0s 15ms/step - loss: 1.9139e-04 - val_loss: 8.0664e-04\n",
            "Epoch 86/100\n",
            "18/18 [==============================] - 0s 11ms/step - loss: 1.8777e-04 - val_loss: 7.9094e-04\n",
            "Epoch 87/100\n",
            "18/18 [==============================] - 0s 13ms/step - loss: 1.8412e-04 - val_loss: 7.7931e-04\n",
            "Epoch 88/100\n",
            "18/18 [==============================] - 0s 11ms/step - loss: 1.8687e-04 - val_loss: 7.8258e-04\n",
            "Epoch 89/100\n",
            "18/18 [==============================] - 0s 14ms/step - loss: 1.9541e-04 - val_loss: 8.4431e-04\n",
            "Epoch 90/100\n",
            "18/18 [==============================] - 0s 13ms/step - loss: 1.9661e-04 - val_loss: 7.9397e-04\n",
            "Epoch 91/100\n",
            "18/18 [==============================] - 0s 13ms/step - loss: 1.8554e-04 - val_loss: 7.7618e-04\n",
            "Epoch 92/100\n",
            "18/18 [==============================] - 0s 16ms/step - loss: 1.9100e-04 - val_loss: 7.8245e-04\n",
            "Epoch 93/100\n",
            "18/18 [==============================] - 0s 14ms/step - loss: 2.2179e-04 - val_loss: 7.6669e-04\n",
            "Epoch 94/100\n",
            "18/18 [==============================] - 0s 13ms/step - loss: 2.2295e-04 - val_loss: 0.0010\n",
            "Epoch 95/100\n",
            "18/18 [==============================] - 0s 14ms/step - loss: 2.2502e-04 - val_loss: 7.7838e-04\n",
            "Epoch 96/100\n",
            "18/18 [==============================] - 0s 14ms/step - loss: 2.3530e-04 - val_loss: 7.6250e-04\n",
            "Epoch 97/100\n",
            "18/18 [==============================] - 0s 13ms/step - loss: 1.8463e-04 - val_loss: 7.7613e-04\n",
            "Epoch 98/100\n",
            "18/18 [==============================] - 0s 11ms/step - loss: 1.9043e-04 - val_loss: 7.5875e-04\n",
            "Epoch 99/100\n",
            "18/18 [==============================] - 0s 11ms/step - loss: 1.8461e-04 - val_loss: 7.7421e-04\n",
            "Epoch 100/100\n",
            "18/18 [==============================] - 0s 14ms/step - loss: 1.8402e-04 - val_loss: 7.4631e-04\n"
          ]
        },
        {
          "output_type": "execute_result",
          "data": {
            "text/plain": [
              "<keras.callbacks.History at 0x7fe25972cf70>"
            ]
          },
          "metadata": {},
          "execution_count": 261
        }
      ]
    },
    {
      "cell_type": "code",
      "source": [
        "y_pred = model.predict(X_test)"
      ],
      "metadata": {
        "colab": {
          "base_uri": "https://localhost:8080/"
        },
        "id": "WJJSjjhBNwzV",
        "outputId": "e61283fc-3f34-409e-fb69-d9153d07511e"
      },
      "execution_count": 262,
      "outputs": [
        {
          "output_type": "stream",
          "name": "stdout",
          "text": [
            "15/15 [==============================] - 0s 3ms/step\n"
          ]
        }
      ]
    },
    {
      "cell_type": "code",
      "source": [
        "# Tính toán sai số tuyệt đối và chuẩn hóa thành phần trăm\n",
        "errors = np.abs((y_test- y_pred) / y_test) * 100\n",
        "\n",
        "# Tính giá trị MAPE\n",
        "mape = np.mean(errors)\n",
        "\n",
        "print('Testing MAPE:', mape)"
      ],
      "metadata": {
        "colab": {
          "base_uri": "https://localhost:8080/"
        },
        "id": "R0yULdojNy_L",
        "outputId": "c27c92c5-dc67-480a-d248-965c1e835148"
      },
      "execution_count": 263,
      "outputs": [
        {
          "output_type": "stream",
          "name": "stdout",
          "text": [
            "Testing MAPE: 75.49746867017483\n"
          ]
        }
      ]
    },
    {
      "cell_type": "code",
      "source": [
        "y_pred=scaler.inverse_transform(y_pred)\n",
        "test_rmse = np.sqrt(np.mean((y_pred - y_test)**2))\n",
        "print('Testing RMSE:', test_rmse)"
      ],
      "metadata": {
        "colab": {
          "base_uri": "https://localhost:8080/"
        },
        "id": "9bam1DpUN1Sx",
        "outputId": "9558f7a4-8dbe-4846-e834-9aef629639e4"
      },
      "execution_count": 264,
      "outputs": [
        {
          "output_type": "stream",
          "name": "stdout",
          "text": [
            "Testing RMSE: 28735.847352055036\n"
          ]
        }
      ]
    },
    {
      "cell_type": "code",
      "source": [
        "print('Testing MAPE:', mape)\n",
        "print('Testing RMSE:', test_rmse)\n",
        "train_data_index = pd.RangeIndex(start=0, stop=train_size, step=1)\n",
        "plt.plot(train_data)\n",
        "test_data_index = pd.RangeIndex(start=train_size, stop=train_size+test_size, step=1)\n",
        "plt.plot(test_data)\n",
        "pred_data_index = pd.RangeIndex(start=train_size+9, stop=train_size+test_size, step=1)\n",
        "plt.plot(pred_data_index,(y_pred))"
      ],
      "metadata": {
        "colab": {
          "base_uri": "https://localhost:8080/",
          "height": 482
        },
        "id": "fswl_MG0N3rW",
        "outputId": "f5837ab3-0dc0-4b43-b744-920bc0461880"
      },
      "execution_count": 265,
      "outputs": [
        {
          "output_type": "stream",
          "name": "stdout",
          "text": [
            "Testing MAPE: 75.49746867017483\n",
            "Testing RMSE: 28735.847352055036\n"
          ]
        },
        {
          "output_type": "execute_result",
          "data": {
            "text/plain": [
              "[<matplotlib.lines.Line2D at 0x7fe2562b9420>]"
            ]
          },
          "metadata": {},
          "execution_count": 265
        },
        {
          "output_type": "display_data",
          "data": {
            "text/plain": [
              "<Figure size 640x480 with 1 Axes>"
            ],
            "image/png": "[encoded data removed]"
          },
          "metadata": {}
        }
      ]
    }
  ]
}